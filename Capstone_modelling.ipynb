{
 "cells": [
  {
   "cell_type": "markdown",
   "source": [
    "## Feature Engineering and Data Gathering"
   ],
   "metadata": {
    "collapsed": false
   }
  },
  {
   "cell_type": "code",
   "execution_count": 149,
   "outputs": [],
   "source": [
    "## Importing all the modules\n",
    "\n",
    "import pandas as pd\n",
    "import numpy as np\n",
    "\n",
    "import statsmodels.api as sm\n",
    "import statsmodels.tools\n",
    "from sklearn.linear_model import LinearRegression\n",
    "from sklearn import metrics\n",
    "from sklearn.model_selection import train_test_split, cross_val_score, GridSearchCV\n",
    "from statsmodels.stats.outliers_influence import variance_inflation_factor\n",
    "from sklearn.preprocessing import RobustScaler\n",
    "from sklearn import linear_model\n",
    "from sklearn.linear_model import Ridge, Lasso, ElasticNet\n",
    "from sklearn.model_selection import RepeatedKFold\n",
    "from scipy import stats"
   ],
   "metadata": {
    "collapsed": false
   }
  },
  {
   "cell_type": "code",
   "execution_count": 57,
   "outputs": [],
   "source": [
    "## I downloaded the dataframe from the Capstone_EDA notebook\n",
    "\n",
    "df = pd.read_csv('clean_merged.csv')"
   ],
   "metadata": {
    "collapsed": false
   }
  },
  {
   "cell_type": "code",
   "execution_count": 58,
   "outputs": [
    {
     "data": {
      "text/plain": "    Unnamed: 0               name     current_club_name  \\\n0            0       Lenny Joseph               Fc Metz   \n1            1     Mamadou Camara          Es Troyes Ac   \n2            2     Mamadou Camara          Es Troyes Ac   \n3            3     Mamadou Camara               Rc Lens   \n4            4     Mamadou Camara               Rc Lens   \n5            5         Robin Kehr  Spvgg Greuther Furth   \n6            7      Yohann Thuram        Ionikos Nikeas   \n7            8    Benjamin Tetteh      Yeni Malatyaspor   \n8            9      Stevie Mallan      Yeni Malatyaspor   \n9           10       Didier Ndong      Yeni Malatyaspor   \n10          11       Gaston Campi      Yeni Malatyaspor   \n11          12    Oussama Haddadi      Yeni Malatyaspor   \n12          13            Wallace      Yeni Malatyaspor   \n13          14          Rey Manaj         Spezia Calcio   \n14          15      Eddie Salcedo         Spezia Calcio   \n15          16      Janis Antiste         Spezia Calcio   \n16          17      David Strelec         Spezia Calcio   \n17          18  Aurelien Nguiamba         Spezia Calcio   \n18          19       Luca Vignali         Spezia Calcio   \n19          20      Petko Hristov         Spezia Calcio   \n\n   country_of_citizenship  position        sub_position  market_value_in_eur  \\\n0                  France    Attack      Centre-Forward             400000.0   \n1                  France    Attack      Centre-Forward             400000.0   \n2                  France    Attack      Centre-Forward             400000.0   \n3                 Senegal  Midfield    Central Midfield             250000.0   \n4                 Senegal  Midfield    Central Midfield             250000.0   \n5                 Germany    Attack      Centre-Forward             100000.0   \n6                  Brazil    Attack      Centre-Forward             325000.0   \n7                   Ghana    Attack      Centre-Forward            2000000.0   \n8                Scotland  Midfield    Central Midfield             500000.0   \n9                   Gabon  Midfield    Central Midfield            1500000.0   \n10              Argentina  Defender         Centre-Back             375000.0   \n11                Tunisia  Defender         Centre-Back             800000.0   \n12                 Brazil  Defender         Centre-Back            1000000.0   \n13                Albania    Attack      Centre-Forward            1500000.0   \n14                  Italy    Attack      Centre-Forward            2700000.0   \n15                 France    Attack      Centre-Forward            4000000.0   \n16               Slovakia    Attack      Centre-Forward            1300000.0   \n17                 France  Midfield  Defensive Midfield             300000.0   \n18                  Italy  Defender          Right-Back            1000000.0   \n19               Bulgaria  Defender         Centre-Back            1000000.0   \n\n   contract_expiration_date current_club_domestic_competition_id  \\\n0                2024-06-30                                  FR1   \n1                2025-06-30                                  FR1   \n2                2025-06-30                                  FR1   \n3                2024-06-30                                  FR1   \n4                2024-06-30                                  FR1   \n5                2023-06-30                                   L1   \n6                2023-06-30                                  GR1   \n7                2024-06-30                                  TR1   \n8                2024-06-30                                  TR1   \n9                2023-06-30                                  TR1   \n10               2023-12-31                                  TR1   \n11               2024-06-30                                  TR1   \n12               2023-12-31                                  TR1   \n13               2025-06-30                                  IT1   \n14               2023-06-30                                  IT1   \n15               2023-06-30                                  IT1   \n16               2026-06-30                                  IT1   \n17               2024-06-30                                  IT1   \n18               2025-06-30                                  IT1   \n19               2025-06-30                                  IT1   \n\n    overall_score  ...  Weight  Age  preferred_foot  ball_skills Defence  \\\n0              64  ...      73   22           Right         60.0    15.0   \n1              61  ...      71   22           Right         62.0    22.0   \n2              60  ...      75   20            Left         62.0    56.5   \n3              61  ...      71   22           Right         62.0    22.0   \n4              60  ...      75   20            Left         62.0    56.5   \n5              63  ...      81   23            Left         62.5    24.0   \n6              64  ...      85   34           Right         12.0    13.0   \n7              72  ...      91   25           Right         72.5    25.5   \n8              64  ...      69   26           Right         63.5    60.5   \n9              69  ...      75   28           Right         65.0    63.0   \n10             68  ...      83   31            Left         65.5    68.0   \n11             68  ...      76   31            Left         62.0    69.0   \n12             73  ...      85   28           Right         48.5    71.0   \n13             72  ...      76   26           Right         72.0    17.5   \n14             68  ...      74   21           Right         77.5    33.5   \n15             68  ...      77   20           Right         70.0    14.5   \n16             64  ...      75   21            Left         64.5    30.0   \n17             64  ...      73   24            Left         62.0    58.5   \n18             69  ...      75   27           Right         65.0    64.5   \n19             67  ...      85   24           Right         38.0    71.5   \n\n       Mental    Passing   Physical  Shooting  Goalkeeping  \n0   45.166667  51.000000  67.142857    59.125         10.8  \n1   40.666667  48.666667  61.714286    55.375         10.6  \n2   56.666667  57.666667  50.000000    42.000          8.6  \n3   40.666667  48.666667  61.714286    55.375         10.6  \n4   56.666667  57.666667  50.000000    42.000          8.6  \n5   43.666667  54.666667  70.857143    52.375         11.0  \n6   35.166667  26.000000  53.142857    20.000         61.6  \n7   59.833333  58.333333  71.571429    61.750          9.4  \n8   61.333333  66.333333  67.857143    63.500          8.0  \n9   67.000000  67.333333  74.428571    59.125         12.2  \n10  65.000000  61.333333  47.142857    49.625         10.2  \n11  63.833333  62.666667  67.142857    45.250          9.8  \n12  58.000000  47.666667  63.571429    38.250         11.6  \n13  56.000000  52.333333  67.714286    65.000          9.4  \n14  52.666667  61.333333  71.000000    58.625          9.4  \n15  48.000000  47.666667  69.285714    62.375         11.8  \n16  53.666667  51.333333  56.714286    57.375          9.6  \n17  61.833333  59.666667  67.571429    45.500         10.4  \n18  61.666667  63.666667  68.857143    57.625          9.6  \n19  54.666667  41.000000  51.428571    39.125          9.4  \n\n[20 rows x 22 columns]",
      "text/html": "<div>\n<style scoped>\n    .dataframe tbody tr th:only-of-type {\n        vertical-align: middle;\n    }\n\n    .dataframe tbody tr th {\n        vertical-align: top;\n    }\n\n    .dataframe thead th {\n        text-align: right;\n    }\n</style>\n<table border=\"1\" class=\"dataframe\">\n  <thead>\n    <tr style=\"text-align: right;\">\n      <th></th>\n      <th>Unnamed: 0</th>\n      <th>name</th>\n      <th>current_club_name</th>\n      <th>country_of_citizenship</th>\n      <th>position</th>\n      <th>sub_position</th>\n      <th>market_value_in_eur</th>\n      <th>contract_expiration_date</th>\n      <th>current_club_domestic_competition_id</th>\n      <th>overall_score</th>\n      <th>...</th>\n      <th>Weight</th>\n      <th>Age</th>\n      <th>preferred_foot</th>\n      <th>ball_skills</th>\n      <th>Defence</th>\n      <th>Mental</th>\n      <th>Passing</th>\n      <th>Physical</th>\n      <th>Shooting</th>\n      <th>Goalkeeping</th>\n    </tr>\n  </thead>\n  <tbody>\n    <tr>\n      <th>0</th>\n      <td>0</td>\n      <td>Lenny Joseph</td>\n      <td>Fc Metz</td>\n      <td>France</td>\n      <td>Attack</td>\n      <td>Centre-Forward</td>\n      <td>400000.0</td>\n      <td>2024-06-30</td>\n      <td>FR1</td>\n      <td>64</td>\n      <td>...</td>\n      <td>73</td>\n      <td>22</td>\n      <td>Right</td>\n      <td>60.0</td>\n      <td>15.0</td>\n      <td>45.166667</td>\n      <td>51.000000</td>\n      <td>67.142857</td>\n      <td>59.125</td>\n      <td>10.8</td>\n    </tr>\n    <tr>\n      <th>1</th>\n      <td>1</td>\n      <td>Mamadou Camara</td>\n      <td>Es Troyes Ac</td>\n      <td>France</td>\n      <td>Attack</td>\n      <td>Centre-Forward</td>\n      <td>400000.0</td>\n      <td>2025-06-30</td>\n      <td>FR1</td>\n      <td>61</td>\n      <td>...</td>\n      <td>71</td>\n      <td>22</td>\n      <td>Right</td>\n      <td>62.0</td>\n      <td>22.0</td>\n      <td>40.666667</td>\n      <td>48.666667</td>\n      <td>61.714286</td>\n      <td>55.375</td>\n      <td>10.6</td>\n    </tr>\n    <tr>\n      <th>2</th>\n      <td>2</td>\n      <td>Mamadou Camara</td>\n      <td>Es Troyes Ac</td>\n      <td>France</td>\n      <td>Attack</td>\n      <td>Centre-Forward</td>\n      <td>400000.0</td>\n      <td>2025-06-30</td>\n      <td>FR1</td>\n      <td>60</td>\n      <td>...</td>\n      <td>75</td>\n      <td>20</td>\n      <td>Left</td>\n      <td>62.0</td>\n      <td>56.5</td>\n      <td>56.666667</td>\n      <td>57.666667</td>\n      <td>50.000000</td>\n      <td>42.000</td>\n      <td>8.6</td>\n    </tr>\n    <tr>\n      <th>3</th>\n      <td>3</td>\n      <td>Mamadou Camara</td>\n      <td>Rc Lens</td>\n      <td>Senegal</td>\n      <td>Midfield</td>\n      <td>Central Midfield</td>\n      <td>250000.0</td>\n      <td>2024-06-30</td>\n      <td>FR1</td>\n      <td>61</td>\n      <td>...</td>\n      <td>71</td>\n      <td>22</td>\n      <td>Right</td>\n      <td>62.0</td>\n      <td>22.0</td>\n      <td>40.666667</td>\n      <td>48.666667</td>\n      <td>61.714286</td>\n      <td>55.375</td>\n      <td>10.6</td>\n    </tr>\n    <tr>\n      <th>4</th>\n      <td>4</td>\n      <td>Mamadou Camara</td>\n      <td>Rc Lens</td>\n      <td>Senegal</td>\n      <td>Midfield</td>\n      <td>Central Midfield</td>\n      <td>250000.0</td>\n      <td>2024-06-30</td>\n      <td>FR1</td>\n      <td>60</td>\n      <td>...</td>\n      <td>75</td>\n      <td>20</td>\n      <td>Left</td>\n      <td>62.0</td>\n      <td>56.5</td>\n      <td>56.666667</td>\n      <td>57.666667</td>\n      <td>50.000000</td>\n      <td>42.000</td>\n      <td>8.6</td>\n    </tr>\n    <tr>\n      <th>5</th>\n      <td>5</td>\n      <td>Robin Kehr</td>\n      <td>Spvgg Greuther Furth</td>\n      <td>Germany</td>\n      <td>Attack</td>\n      <td>Centre-Forward</td>\n      <td>100000.0</td>\n      <td>2023-06-30</td>\n      <td>L1</td>\n      <td>63</td>\n      <td>...</td>\n      <td>81</td>\n      <td>23</td>\n      <td>Left</td>\n      <td>62.5</td>\n      <td>24.0</td>\n      <td>43.666667</td>\n      <td>54.666667</td>\n      <td>70.857143</td>\n      <td>52.375</td>\n      <td>11.0</td>\n    </tr>\n    <tr>\n      <th>6</th>\n      <td>7</td>\n      <td>Yohann Thuram</td>\n      <td>Ionikos Nikeas</td>\n      <td>Brazil</td>\n      <td>Attack</td>\n      <td>Centre-Forward</td>\n      <td>325000.0</td>\n      <td>2023-06-30</td>\n      <td>GR1</td>\n      <td>64</td>\n      <td>...</td>\n      <td>85</td>\n      <td>34</td>\n      <td>Right</td>\n      <td>12.0</td>\n      <td>13.0</td>\n      <td>35.166667</td>\n      <td>26.000000</td>\n      <td>53.142857</td>\n      <td>20.000</td>\n      <td>61.6</td>\n    </tr>\n    <tr>\n      <th>7</th>\n      <td>8</td>\n      <td>Benjamin Tetteh</td>\n      <td>Yeni Malatyaspor</td>\n      <td>Ghana</td>\n      <td>Attack</td>\n      <td>Centre-Forward</td>\n      <td>2000000.0</td>\n      <td>2024-06-30</td>\n      <td>TR1</td>\n      <td>72</td>\n      <td>...</td>\n      <td>91</td>\n      <td>25</td>\n      <td>Right</td>\n      <td>72.5</td>\n      <td>25.5</td>\n      <td>59.833333</td>\n      <td>58.333333</td>\n      <td>71.571429</td>\n      <td>61.750</td>\n      <td>9.4</td>\n    </tr>\n    <tr>\n      <th>8</th>\n      <td>9</td>\n      <td>Stevie Mallan</td>\n      <td>Yeni Malatyaspor</td>\n      <td>Scotland</td>\n      <td>Midfield</td>\n      <td>Central Midfield</td>\n      <td>500000.0</td>\n      <td>2024-06-30</td>\n      <td>TR1</td>\n      <td>64</td>\n      <td>...</td>\n      <td>69</td>\n      <td>26</td>\n      <td>Right</td>\n      <td>63.5</td>\n      <td>60.5</td>\n      <td>61.333333</td>\n      <td>66.333333</td>\n      <td>67.857143</td>\n      <td>63.500</td>\n      <td>8.0</td>\n    </tr>\n    <tr>\n      <th>9</th>\n      <td>10</td>\n      <td>Didier Ndong</td>\n      <td>Yeni Malatyaspor</td>\n      <td>Gabon</td>\n      <td>Midfield</td>\n      <td>Central Midfield</td>\n      <td>1500000.0</td>\n      <td>2023-06-30</td>\n      <td>TR1</td>\n      <td>69</td>\n      <td>...</td>\n      <td>75</td>\n      <td>28</td>\n      <td>Right</td>\n      <td>65.0</td>\n      <td>63.0</td>\n      <td>67.000000</td>\n      <td>67.333333</td>\n      <td>74.428571</td>\n      <td>59.125</td>\n      <td>12.2</td>\n    </tr>\n    <tr>\n      <th>10</th>\n      <td>11</td>\n      <td>Gaston Campi</td>\n      <td>Yeni Malatyaspor</td>\n      <td>Argentina</td>\n      <td>Defender</td>\n      <td>Centre-Back</td>\n      <td>375000.0</td>\n      <td>2023-12-31</td>\n      <td>TR1</td>\n      <td>68</td>\n      <td>...</td>\n      <td>83</td>\n      <td>31</td>\n      <td>Left</td>\n      <td>65.5</td>\n      <td>68.0</td>\n      <td>65.000000</td>\n      <td>61.333333</td>\n      <td>47.142857</td>\n      <td>49.625</td>\n      <td>10.2</td>\n    </tr>\n    <tr>\n      <th>11</th>\n      <td>12</td>\n      <td>Oussama Haddadi</td>\n      <td>Yeni Malatyaspor</td>\n      <td>Tunisia</td>\n      <td>Defender</td>\n      <td>Centre-Back</td>\n      <td>800000.0</td>\n      <td>2024-06-30</td>\n      <td>TR1</td>\n      <td>68</td>\n      <td>...</td>\n      <td>76</td>\n      <td>31</td>\n      <td>Left</td>\n      <td>62.0</td>\n      <td>69.0</td>\n      <td>63.833333</td>\n      <td>62.666667</td>\n      <td>67.142857</td>\n      <td>45.250</td>\n      <td>9.8</td>\n    </tr>\n    <tr>\n      <th>12</th>\n      <td>13</td>\n      <td>Wallace</td>\n      <td>Yeni Malatyaspor</td>\n      <td>Brazil</td>\n      <td>Defender</td>\n      <td>Centre-Back</td>\n      <td>1000000.0</td>\n      <td>2023-12-31</td>\n      <td>TR1</td>\n      <td>73</td>\n      <td>...</td>\n      <td>85</td>\n      <td>28</td>\n      <td>Right</td>\n      <td>48.5</td>\n      <td>71.0</td>\n      <td>58.000000</td>\n      <td>47.666667</td>\n      <td>63.571429</td>\n      <td>38.250</td>\n      <td>11.6</td>\n    </tr>\n    <tr>\n      <th>13</th>\n      <td>14</td>\n      <td>Rey Manaj</td>\n      <td>Spezia Calcio</td>\n      <td>Albania</td>\n      <td>Attack</td>\n      <td>Centre-Forward</td>\n      <td>1500000.0</td>\n      <td>2025-06-30</td>\n      <td>IT1</td>\n      <td>72</td>\n      <td>...</td>\n      <td>76</td>\n      <td>26</td>\n      <td>Right</td>\n      <td>72.0</td>\n      <td>17.5</td>\n      <td>56.000000</td>\n      <td>52.333333</td>\n      <td>67.714286</td>\n      <td>65.000</td>\n      <td>9.4</td>\n    </tr>\n    <tr>\n      <th>14</th>\n      <td>15</td>\n      <td>Eddie Salcedo</td>\n      <td>Spezia Calcio</td>\n      <td>Italy</td>\n      <td>Attack</td>\n      <td>Centre-Forward</td>\n      <td>2700000.0</td>\n      <td>2023-06-30</td>\n      <td>IT1</td>\n      <td>68</td>\n      <td>...</td>\n      <td>74</td>\n      <td>21</td>\n      <td>Right</td>\n      <td>77.5</td>\n      <td>33.5</td>\n      <td>52.666667</td>\n      <td>61.333333</td>\n      <td>71.000000</td>\n      <td>58.625</td>\n      <td>9.4</td>\n    </tr>\n    <tr>\n      <th>15</th>\n      <td>16</td>\n      <td>Janis Antiste</td>\n      <td>Spezia Calcio</td>\n      <td>France</td>\n      <td>Attack</td>\n      <td>Centre-Forward</td>\n      <td>4000000.0</td>\n      <td>2023-06-30</td>\n      <td>IT1</td>\n      <td>68</td>\n      <td>...</td>\n      <td>77</td>\n      <td>20</td>\n      <td>Right</td>\n      <td>70.0</td>\n      <td>14.5</td>\n      <td>48.000000</td>\n      <td>47.666667</td>\n      <td>69.285714</td>\n      <td>62.375</td>\n      <td>11.8</td>\n    </tr>\n    <tr>\n      <th>16</th>\n      <td>17</td>\n      <td>David Strelec</td>\n      <td>Spezia Calcio</td>\n      <td>Slovakia</td>\n      <td>Attack</td>\n      <td>Centre-Forward</td>\n      <td>1300000.0</td>\n      <td>2026-06-30</td>\n      <td>IT1</td>\n      <td>64</td>\n      <td>...</td>\n      <td>75</td>\n      <td>21</td>\n      <td>Left</td>\n      <td>64.5</td>\n      <td>30.0</td>\n      <td>53.666667</td>\n      <td>51.333333</td>\n      <td>56.714286</td>\n      <td>57.375</td>\n      <td>9.6</td>\n    </tr>\n    <tr>\n      <th>17</th>\n      <td>18</td>\n      <td>Aurelien Nguiamba</td>\n      <td>Spezia Calcio</td>\n      <td>France</td>\n      <td>Midfield</td>\n      <td>Defensive Midfield</td>\n      <td>300000.0</td>\n      <td>2024-06-30</td>\n      <td>IT1</td>\n      <td>64</td>\n      <td>...</td>\n      <td>73</td>\n      <td>24</td>\n      <td>Left</td>\n      <td>62.0</td>\n      <td>58.5</td>\n      <td>61.833333</td>\n      <td>59.666667</td>\n      <td>67.571429</td>\n      <td>45.500</td>\n      <td>10.4</td>\n    </tr>\n    <tr>\n      <th>18</th>\n      <td>19</td>\n      <td>Luca Vignali</td>\n      <td>Spezia Calcio</td>\n      <td>Italy</td>\n      <td>Defender</td>\n      <td>Right-Back</td>\n      <td>1000000.0</td>\n      <td>2025-06-30</td>\n      <td>IT1</td>\n      <td>69</td>\n      <td>...</td>\n      <td>75</td>\n      <td>27</td>\n      <td>Right</td>\n      <td>65.0</td>\n      <td>64.5</td>\n      <td>61.666667</td>\n      <td>63.666667</td>\n      <td>68.857143</td>\n      <td>57.625</td>\n      <td>9.6</td>\n    </tr>\n    <tr>\n      <th>19</th>\n      <td>20</td>\n      <td>Petko Hristov</td>\n      <td>Spezia Calcio</td>\n      <td>Bulgaria</td>\n      <td>Defender</td>\n      <td>Centre-Back</td>\n      <td>1000000.0</td>\n      <td>2025-06-30</td>\n      <td>IT1</td>\n      <td>67</td>\n      <td>...</td>\n      <td>85</td>\n      <td>24</td>\n      <td>Right</td>\n      <td>38.0</td>\n      <td>71.5</td>\n      <td>54.666667</td>\n      <td>41.000000</td>\n      <td>51.428571</td>\n      <td>39.125</td>\n      <td>9.4</td>\n    </tr>\n  </tbody>\n</table>\n<p>20 rows × 22 columns</p>\n</div>"
     },
     "execution_count": 58,
     "metadata": {},
     "output_type": "execute_result"
    }
   ],
   "source": [
    "## Checking that its imported properly\n",
    "\n",
    "df.head(20)"
   ],
   "metadata": {
    "collapsed": false
   }
  },
  {
   "cell_type": "code",
   "execution_count": 59,
   "outputs": [],
   "source": [
    "## This has created an unnecessary column\n",
    "\n",
    "df.drop(columns = 'Unnamed: 0', inplace=True)"
   ],
   "metadata": {
    "collapsed": false
   }
  },
  {
   "cell_type": "code",
   "execution_count": 60,
   "outputs": [],
   "source": [
    "## We can now move onto feature engineering\n",
    "## As there are many clubs, nationalities and positions, one hot encoding them will mean a lot of feature columns, thus I did not OHE these columns\n",
    "\n",
    "df_encoded = pd.get_dummies(df, columns = ['current_club_domestic_competition_id'], drop_first=True, prefix='comp')\n",
    "df_encoded = pd.get_dummies(df_encoded, columns = ['preferred_foot'], drop_first=True)\n",
    "df_encoded = pd.get_dummies(df_encoded, columns = ['position'], drop_first=True)"
   ],
   "metadata": {
    "collapsed": false
   }
  },
  {
   "cell_type": "code",
   "execution_count": 61,
   "outputs": [
    {
     "data": {
      "text/plain": "                 name     current_club_name country_of_citizenship  \\\n0        Lenny Joseph               Fc Metz                 France   \n1      Mamadou Camara          Es Troyes Ac                 France   \n2      Mamadou Camara          Es Troyes Ac                 France   \n3      Mamadou Camara               Rc Lens                Senegal   \n4      Mamadou Camara               Rc Lens                Senegal   \n5          Robin Kehr  Spvgg Greuther Furth                Germany   \n6       Yohann Thuram        Ionikos Nikeas                 Brazil   \n7     Benjamin Tetteh      Yeni Malatyaspor                  Ghana   \n8       Stevie Mallan      Yeni Malatyaspor               Scotland   \n9        Didier Ndong      Yeni Malatyaspor                  Gabon   \n10       Gaston Campi      Yeni Malatyaspor              Argentina   \n11    Oussama Haddadi      Yeni Malatyaspor                Tunisia   \n12            Wallace      Yeni Malatyaspor                 Brazil   \n13          Rey Manaj         Spezia Calcio                Albania   \n14      Eddie Salcedo         Spezia Calcio                  Italy   \n15      Janis Antiste         Spezia Calcio                 France   \n16      David Strelec         Spezia Calcio               Slovakia   \n17  Aurelien Nguiamba         Spezia Calcio                 France   \n18       Luca Vignali         Spezia Calcio                  Italy   \n19      Petko Hristov         Spezia Calcio               Bulgaria   \n\n          sub_position  market_value_in_eur contract_expiration_date  \\\n0       Centre-Forward             400000.0               2024-06-30   \n1       Centre-Forward             400000.0               2025-06-30   \n2       Centre-Forward             400000.0               2025-06-30   \n3     Central Midfield             250000.0               2024-06-30   \n4     Central Midfield             250000.0               2024-06-30   \n5       Centre-Forward             100000.0               2023-06-30   \n6       Centre-Forward             325000.0               2023-06-30   \n7       Centre-Forward            2000000.0               2024-06-30   \n8     Central Midfield             500000.0               2024-06-30   \n9     Central Midfield            1500000.0               2023-06-30   \n10         Centre-Back             375000.0               2023-12-31   \n11         Centre-Back             800000.0               2024-06-30   \n12         Centre-Back            1000000.0               2023-12-31   \n13      Centre-Forward            1500000.0               2025-06-30   \n14      Centre-Forward            2700000.0               2023-06-30   \n15      Centre-Forward            4000000.0               2023-06-30   \n16      Centre-Forward            1300000.0               2026-06-30   \n17  Defensive Midfield             300000.0               2024-06-30   \n18          Right-Back            1000000.0               2025-06-30   \n19         Centre-Back            1000000.0               2025-06-30   \n\n    overall_score  potential_score  Height  Weight  ...  comp_NL1  comp_PO1  \\\n0              64               73     183      73  ...         0         0   \n1              61               70     186      71  ...         0         0   \n2              60               70     185      75  ...         0         0   \n3              61               70     186      71  ...         0         0   \n4              60               70     185      75  ...         0         0   \n5              63               75     189      81  ...         0         0   \n6              64               64     187      85  ...         0         0   \n7              72               76     193      91  ...         0         0   \n8              64               65     178      69  ...         0         0   \n9              69               70     179      75  ...         0         0   \n10             68               68     193      83  ...         0         0   \n11             68               68     185      76  ...         0         0   \n12             73               75     191      85  ...         0         0   \n13             72               76     182      76  ...         0         0   \n14             68               79     178      74  ...         0         0   \n15             68               79     182      77  ...         0         0   \n16             64               72     185      75  ...         0         0   \n17             64               71     179      73  ...         0         0   \n18             69               70     186      75  ...         0         0   \n19             67               75     191      85  ...         0         0   \n\n    comp_RU1  comp_SC1  comp_TR1  comp_UKR1  preferred_foot_Right  \\\n0          0         0         0          0                     1   \n1          0         0         0          0                     1   \n2          0         0         0          0                     0   \n3          0         0         0          0                     1   \n4          0         0         0          0                     0   \n5          0         0         0          0                     0   \n6          0         0         0          0                     1   \n7          0         0         1          0                     1   \n8          0         0         1          0                     1   \n9          0         0         1          0                     1   \n10         0         0         1          0                     0   \n11         0         0         1          0                     0   \n12         0         0         1          0                     1   \n13         0         0         0          0                     1   \n14         0         0         0          0                     1   \n15         0         0         0          0                     1   \n16         0         0         0          0                     0   \n17         0         0         0          0                     0   \n18         0         0         0          0                     1   \n19         0         0         0          0                     1   \n\n    position_Defender  position_Goalkeeper  position_Midfield  \n0                   0                    0                  0  \n1                   0                    0                  0  \n2                   0                    0                  0  \n3                   0                    0                  1  \n4                   0                    0                  1  \n5                   0                    0                  0  \n6                   0                    0                  0  \n7                   0                    0                  0  \n8                   0                    0                  1  \n9                   0                    0                  1  \n10                  1                    0                  0  \n11                  1                    0                  0  \n12                  1                    0                  0  \n13                  0                    0                  0  \n14                  0                    0                  0  \n15                  0                    0                  0  \n16                  0                    0                  0  \n17                  0                    0                  1  \n18                  1                    0                  0  \n19                  1                    0                  0  \n\n[20 rows x 35 columns]",
      "text/html": "<div>\n<style scoped>\n    .dataframe tbody tr th:only-of-type {\n        vertical-align: middle;\n    }\n\n    .dataframe tbody tr th {\n        vertical-align: top;\n    }\n\n    .dataframe thead th {\n        text-align: right;\n    }\n</style>\n<table border=\"1\" class=\"dataframe\">\n  <thead>\n    <tr style=\"text-align: right;\">\n      <th></th>\n      <th>name</th>\n      <th>current_club_name</th>\n      <th>country_of_citizenship</th>\n      <th>sub_position</th>\n      <th>market_value_in_eur</th>\n      <th>contract_expiration_date</th>\n      <th>overall_score</th>\n      <th>potential_score</th>\n      <th>Height</th>\n      <th>Weight</th>\n      <th>...</th>\n      <th>comp_NL1</th>\n      <th>comp_PO1</th>\n      <th>comp_RU1</th>\n      <th>comp_SC1</th>\n      <th>comp_TR1</th>\n      <th>comp_UKR1</th>\n      <th>preferred_foot_Right</th>\n      <th>position_Defender</th>\n      <th>position_Goalkeeper</th>\n      <th>position_Midfield</th>\n    </tr>\n  </thead>\n  <tbody>\n    <tr>\n      <th>0</th>\n      <td>Lenny Joseph</td>\n      <td>Fc Metz</td>\n      <td>France</td>\n      <td>Centre-Forward</td>\n      <td>400000.0</td>\n      <td>2024-06-30</td>\n      <td>64</td>\n      <td>73</td>\n      <td>183</td>\n      <td>73</td>\n      <td>...</td>\n      <td>0</td>\n      <td>0</td>\n      <td>0</td>\n      <td>0</td>\n      <td>0</td>\n      <td>0</td>\n      <td>1</td>\n      <td>0</td>\n      <td>0</td>\n      <td>0</td>\n    </tr>\n    <tr>\n      <th>1</th>\n      <td>Mamadou Camara</td>\n      <td>Es Troyes Ac</td>\n      <td>France</td>\n      <td>Centre-Forward</td>\n      <td>400000.0</td>\n      <td>2025-06-30</td>\n      <td>61</td>\n      <td>70</td>\n      <td>186</td>\n      <td>71</td>\n      <td>...</td>\n      <td>0</td>\n      <td>0</td>\n      <td>0</td>\n      <td>0</td>\n      <td>0</td>\n      <td>0</td>\n      <td>1</td>\n      <td>0</td>\n      <td>0</td>\n      <td>0</td>\n    </tr>\n    <tr>\n      <th>2</th>\n      <td>Mamadou Camara</td>\n      <td>Es Troyes Ac</td>\n      <td>France</td>\n      <td>Centre-Forward</td>\n      <td>400000.0</td>\n      <td>2025-06-30</td>\n      <td>60</td>\n      <td>70</td>\n      <td>185</td>\n      <td>75</td>\n      <td>...</td>\n      <td>0</td>\n      <td>0</td>\n      <td>0</td>\n      <td>0</td>\n      <td>0</td>\n      <td>0</td>\n      <td>0</td>\n      <td>0</td>\n      <td>0</td>\n      <td>0</td>\n    </tr>\n    <tr>\n      <th>3</th>\n      <td>Mamadou Camara</td>\n      <td>Rc Lens</td>\n      <td>Senegal</td>\n      <td>Central Midfield</td>\n      <td>250000.0</td>\n      <td>2024-06-30</td>\n      <td>61</td>\n      <td>70</td>\n      <td>186</td>\n      <td>71</td>\n      <td>...</td>\n      <td>0</td>\n      <td>0</td>\n      <td>0</td>\n      <td>0</td>\n      <td>0</td>\n      <td>0</td>\n      <td>1</td>\n      <td>0</td>\n      <td>0</td>\n      <td>1</td>\n    </tr>\n    <tr>\n      <th>4</th>\n      <td>Mamadou Camara</td>\n      <td>Rc Lens</td>\n      <td>Senegal</td>\n      <td>Central Midfield</td>\n      <td>250000.0</td>\n      <td>2024-06-30</td>\n      <td>60</td>\n      <td>70</td>\n      <td>185</td>\n      <td>75</td>\n      <td>...</td>\n      <td>0</td>\n      <td>0</td>\n      <td>0</td>\n      <td>0</td>\n      <td>0</td>\n      <td>0</td>\n      <td>0</td>\n      <td>0</td>\n      <td>0</td>\n      <td>1</td>\n    </tr>\n    <tr>\n      <th>5</th>\n      <td>Robin Kehr</td>\n      <td>Spvgg Greuther Furth</td>\n      <td>Germany</td>\n      <td>Centre-Forward</td>\n      <td>100000.0</td>\n      <td>2023-06-30</td>\n      <td>63</td>\n      <td>75</td>\n      <td>189</td>\n      <td>81</td>\n      <td>...</td>\n      <td>0</td>\n      <td>0</td>\n      <td>0</td>\n      <td>0</td>\n      <td>0</td>\n      <td>0</td>\n      <td>0</td>\n      <td>0</td>\n      <td>0</td>\n      <td>0</td>\n    </tr>\n    <tr>\n      <th>6</th>\n      <td>Yohann Thuram</td>\n      <td>Ionikos Nikeas</td>\n      <td>Brazil</td>\n      <td>Centre-Forward</td>\n      <td>325000.0</td>\n      <td>2023-06-30</td>\n      <td>64</td>\n      <td>64</td>\n      <td>187</td>\n      <td>85</td>\n      <td>...</td>\n      <td>0</td>\n      <td>0</td>\n      <td>0</td>\n      <td>0</td>\n      <td>0</td>\n      <td>0</td>\n      <td>1</td>\n      <td>0</td>\n      <td>0</td>\n      <td>0</td>\n    </tr>\n    <tr>\n      <th>7</th>\n      <td>Benjamin Tetteh</td>\n      <td>Yeni Malatyaspor</td>\n      <td>Ghana</td>\n      <td>Centre-Forward</td>\n      <td>2000000.0</td>\n      <td>2024-06-30</td>\n      <td>72</td>\n      <td>76</td>\n      <td>193</td>\n      <td>91</td>\n      <td>...</td>\n      <td>0</td>\n      <td>0</td>\n      <td>0</td>\n      <td>0</td>\n      <td>1</td>\n      <td>0</td>\n      <td>1</td>\n      <td>0</td>\n      <td>0</td>\n      <td>0</td>\n    </tr>\n    <tr>\n      <th>8</th>\n      <td>Stevie Mallan</td>\n      <td>Yeni Malatyaspor</td>\n      <td>Scotland</td>\n      <td>Central Midfield</td>\n      <td>500000.0</td>\n      <td>2024-06-30</td>\n      <td>64</td>\n      <td>65</td>\n      <td>178</td>\n      <td>69</td>\n      <td>...</td>\n      <td>0</td>\n      <td>0</td>\n      <td>0</td>\n      <td>0</td>\n      <td>1</td>\n      <td>0</td>\n      <td>1</td>\n      <td>0</td>\n      <td>0</td>\n      <td>1</td>\n    </tr>\n    <tr>\n      <th>9</th>\n      <td>Didier Ndong</td>\n      <td>Yeni Malatyaspor</td>\n      <td>Gabon</td>\n      <td>Central Midfield</td>\n      <td>1500000.0</td>\n      <td>2023-06-30</td>\n      <td>69</td>\n      <td>70</td>\n      <td>179</td>\n      <td>75</td>\n      <td>...</td>\n      <td>0</td>\n      <td>0</td>\n      <td>0</td>\n      <td>0</td>\n      <td>1</td>\n      <td>0</td>\n      <td>1</td>\n      <td>0</td>\n      <td>0</td>\n      <td>1</td>\n    </tr>\n    <tr>\n      <th>10</th>\n      <td>Gaston Campi</td>\n      <td>Yeni Malatyaspor</td>\n      <td>Argentina</td>\n      <td>Centre-Back</td>\n      <td>375000.0</td>\n      <td>2023-12-31</td>\n      <td>68</td>\n      <td>68</td>\n      <td>193</td>\n      <td>83</td>\n      <td>...</td>\n      <td>0</td>\n      <td>0</td>\n      <td>0</td>\n      <td>0</td>\n      <td>1</td>\n      <td>0</td>\n      <td>0</td>\n      <td>1</td>\n      <td>0</td>\n      <td>0</td>\n    </tr>\n    <tr>\n      <th>11</th>\n      <td>Oussama Haddadi</td>\n      <td>Yeni Malatyaspor</td>\n      <td>Tunisia</td>\n      <td>Centre-Back</td>\n      <td>800000.0</td>\n      <td>2024-06-30</td>\n      <td>68</td>\n      <td>68</td>\n      <td>185</td>\n      <td>76</td>\n      <td>...</td>\n      <td>0</td>\n      <td>0</td>\n      <td>0</td>\n      <td>0</td>\n      <td>1</td>\n      <td>0</td>\n      <td>0</td>\n      <td>1</td>\n      <td>0</td>\n      <td>0</td>\n    </tr>\n    <tr>\n      <th>12</th>\n      <td>Wallace</td>\n      <td>Yeni Malatyaspor</td>\n      <td>Brazil</td>\n      <td>Centre-Back</td>\n      <td>1000000.0</td>\n      <td>2023-12-31</td>\n      <td>73</td>\n      <td>75</td>\n      <td>191</td>\n      <td>85</td>\n      <td>...</td>\n      <td>0</td>\n      <td>0</td>\n      <td>0</td>\n      <td>0</td>\n      <td>1</td>\n      <td>0</td>\n      <td>1</td>\n      <td>1</td>\n      <td>0</td>\n      <td>0</td>\n    </tr>\n    <tr>\n      <th>13</th>\n      <td>Rey Manaj</td>\n      <td>Spezia Calcio</td>\n      <td>Albania</td>\n      <td>Centre-Forward</td>\n      <td>1500000.0</td>\n      <td>2025-06-30</td>\n      <td>72</td>\n      <td>76</td>\n      <td>182</td>\n      <td>76</td>\n      <td>...</td>\n      <td>0</td>\n      <td>0</td>\n      <td>0</td>\n      <td>0</td>\n      <td>0</td>\n      <td>0</td>\n      <td>1</td>\n      <td>0</td>\n      <td>0</td>\n      <td>0</td>\n    </tr>\n    <tr>\n      <th>14</th>\n      <td>Eddie Salcedo</td>\n      <td>Spezia Calcio</td>\n      <td>Italy</td>\n      <td>Centre-Forward</td>\n      <td>2700000.0</td>\n      <td>2023-06-30</td>\n      <td>68</td>\n      <td>79</td>\n      <td>178</td>\n      <td>74</td>\n      <td>...</td>\n      <td>0</td>\n      <td>0</td>\n      <td>0</td>\n      <td>0</td>\n      <td>0</td>\n      <td>0</td>\n      <td>1</td>\n      <td>0</td>\n      <td>0</td>\n      <td>0</td>\n    </tr>\n    <tr>\n      <th>15</th>\n      <td>Janis Antiste</td>\n      <td>Spezia Calcio</td>\n      <td>France</td>\n      <td>Centre-Forward</td>\n      <td>4000000.0</td>\n      <td>2023-06-30</td>\n      <td>68</td>\n      <td>79</td>\n      <td>182</td>\n      <td>77</td>\n      <td>...</td>\n      <td>0</td>\n      <td>0</td>\n      <td>0</td>\n      <td>0</td>\n      <td>0</td>\n      <td>0</td>\n      <td>1</td>\n      <td>0</td>\n      <td>0</td>\n      <td>0</td>\n    </tr>\n    <tr>\n      <th>16</th>\n      <td>David Strelec</td>\n      <td>Spezia Calcio</td>\n      <td>Slovakia</td>\n      <td>Centre-Forward</td>\n      <td>1300000.0</td>\n      <td>2026-06-30</td>\n      <td>64</td>\n      <td>72</td>\n      <td>185</td>\n      <td>75</td>\n      <td>...</td>\n      <td>0</td>\n      <td>0</td>\n      <td>0</td>\n      <td>0</td>\n      <td>0</td>\n      <td>0</td>\n      <td>0</td>\n      <td>0</td>\n      <td>0</td>\n      <td>0</td>\n    </tr>\n    <tr>\n      <th>17</th>\n      <td>Aurelien Nguiamba</td>\n      <td>Spezia Calcio</td>\n      <td>France</td>\n      <td>Defensive Midfield</td>\n      <td>300000.0</td>\n      <td>2024-06-30</td>\n      <td>64</td>\n      <td>71</td>\n      <td>179</td>\n      <td>73</td>\n      <td>...</td>\n      <td>0</td>\n      <td>0</td>\n      <td>0</td>\n      <td>0</td>\n      <td>0</td>\n      <td>0</td>\n      <td>0</td>\n      <td>0</td>\n      <td>0</td>\n      <td>1</td>\n    </tr>\n    <tr>\n      <th>18</th>\n      <td>Luca Vignali</td>\n      <td>Spezia Calcio</td>\n      <td>Italy</td>\n      <td>Right-Back</td>\n      <td>1000000.0</td>\n      <td>2025-06-30</td>\n      <td>69</td>\n      <td>70</td>\n      <td>186</td>\n      <td>75</td>\n      <td>...</td>\n      <td>0</td>\n      <td>0</td>\n      <td>0</td>\n      <td>0</td>\n      <td>0</td>\n      <td>0</td>\n      <td>1</td>\n      <td>1</td>\n      <td>0</td>\n      <td>0</td>\n    </tr>\n    <tr>\n      <th>19</th>\n      <td>Petko Hristov</td>\n      <td>Spezia Calcio</td>\n      <td>Bulgaria</td>\n      <td>Centre-Back</td>\n      <td>1000000.0</td>\n      <td>2025-06-30</td>\n      <td>67</td>\n      <td>75</td>\n      <td>191</td>\n      <td>85</td>\n      <td>...</td>\n      <td>0</td>\n      <td>0</td>\n      <td>0</td>\n      <td>0</td>\n      <td>0</td>\n      <td>0</td>\n      <td>1</td>\n      <td>1</td>\n      <td>0</td>\n      <td>0</td>\n    </tr>\n  </tbody>\n</table>\n<p>20 rows × 35 columns</p>\n</div>"
     },
     "execution_count": 61,
     "metadata": {},
     "output_type": "execute_result"
    }
   ],
   "source": [
    "df_encoded.head(20)"
   ],
   "metadata": {
    "collapsed": false
   }
  },
  {
   "cell_type": "code",
   "execution_count": 62,
   "outputs": [],
   "source": [
    "## function written so do not have to repeatedly typing the same things\n",
    "\n",
    "def statsmodel_log(dataframe, prediction, feature_col, log):\n",
    "\n",
    "    X = dataframe[feature_col]\n",
    "    X = sm.add_constant(X)\n",
    "\n",
    "    if log == 1:\n",
    "        y = np.log(dataframe[prediction])\n",
    "    else:\n",
    "        y = dataframe[prediction]\n",
    "\n",
    "    global X_train\n",
    "    global X_test\n",
    "    global y_train\n",
    "    global y_test\n",
    "    X_train, X_test, y_train, y_test = train_test_split(X, y, test_size = 0.2, random_state = 42)\n",
    "\n",
    "    lin_reg = sm.OLS(y_train, X_train[feature_columns])\n",
    "    results = lin_reg.fit()\n",
    "    X_train[prediction+'_pred'] = results.predict(X_train[feature_columns])\n",
    "\n",
    "    if log == 1:\n",
    "        rmse = statsmodels.tools.eval_measures.rmse(np.exp(y_train), np.exp(X_train[prediction+'_pred']))\n",
    "    else:\n",
    "        rmse = statsmodels.tools.eval_measures.rmse(y_train, X_train[prediction+'_pred'])\n",
    "\n",
    "    print(f'the RMSE is {rmse}')\n",
    "    return results"
   ],
   "metadata": {
    "collapsed": false
   }
  },
  {
   "cell_type": "markdown",
   "source": [
    "## Model 1"
   ],
   "metadata": {
    "collapsed": false
   }
  },
  {
   "cell_type": "code",
   "execution_count": 63,
   "outputs": [],
   "source": [
    "## Run everything without any checks\n",
    "\n",
    "feature_columns = ['overall_score', 'potential_score', 'Age', 'ball_skills', 'Defence',\n",
    "                   'Mental', 'Passing', 'Physical', 'Shooting', 'Goalkeeping', 'comp_DK1',\n",
    "                   'comp_ES1', 'comp_FR1', 'comp_GB1', 'comp_GR1', 'comp_IT1', 'comp_L1',\n",
    "                   'comp_NL1', 'comp_PO1', 'comp_RU1', 'comp_SC1', 'comp_TR1', 'comp_UKR1',\n",
    "                   'preferred_foot_Right', 'position_Defender', 'position_Goalkeeper',\n",
    "                   'position_Midfield']"
   ],
   "metadata": {
    "collapsed": false
   }
  },
  {
   "cell_type": "code",
   "execution_count": 64,
   "outputs": [
    {
     "name": "stdout",
     "output_type": "stream",
     "text": [
      "the RMSE is 8324871.328490699\n"
     ]
    }
   ],
   "source": [
    "results = statsmodel_log(df_encoded, 'market_value_in_eur', feature_columns, 0)"
   ],
   "metadata": {
    "collapsed": false
   }
  },
  {
   "cell_type": "code",
   "execution_count": 65,
   "outputs": [
    {
     "name": "stdout",
     "output_type": "stream",
     "text": [
      "8925651.068763647\n"
     ]
    }
   ],
   "source": [
    "## RMSE of the test set\n",
    "\n",
    "X_test['y_pred'] = results.predict(X_test[feature_columns])\n",
    "rmse = statsmodels.tools.eval_measures.rmse(y_test, X_test['y_pred'])\n",
    "print(rmse)"
   ],
   "metadata": {
    "collapsed": false
   }
  },
  {
   "cell_type": "code",
   "execution_count": 66,
   "outputs": [
    {
     "data": {
      "text/plain": "<Figure size 640x480 with 1 Axes>",
      "image/png": "[encoded data removed]"
     },
     "metadata": {},
     "output_type": "display_data"
    }
   ],
   "source": [
    "## Scatter plot to visualise how well the predictions are\n",
    "\n",
    "sns.scatterplot(x=X_test['overall_score'], y=y_test)\n",
    "sns.scatterplot(x=X_test['overall_score'], y=X_test['y_pred'])\n",
    "plt.show()"
   ],
   "metadata": {
    "collapsed": false
   }
  },
  {
   "cell_type": "code",
   "execution_count": 67,
   "outputs": [],
   "source": [
    "## We see that the model does not do well in edge cases and that it actually predicts negative values\n",
    "## Although the RMSE may look promising, this is not a good model to move forward"
   ],
   "metadata": {
    "collapsed": false
   }
  },
  {
   "cell_type": "markdown",
   "source": [
    "## Model 2"
   ],
   "metadata": {
    "collapsed": false
   }
  },
  {
   "cell_type": "code",
   "execution_count": 68,
   "outputs": [
    {
     "name": "stdout",
     "output_type": "stream",
     "text": [
      "the RMSE is 6937054.07295598\n"
     ]
    }
   ],
   "source": [
    "## Same feature columns as before, now we log the target column so we do not have negative predictions\n",
    "\n",
    "results = statsmodel_log(df_encoded, 'market_value_in_eur', feature_columns, 1)"
   ],
   "metadata": {
    "collapsed": false
   }
  },
  {
   "cell_type": "code",
   "execution_count": 69,
   "outputs": [
    {
     "name": "stdout",
     "output_type": "stream",
     "text": [
      "7548407.760876076\n"
     ]
    }
   ],
   "source": [
    "## RMSE of the test set\n",
    "\n",
    "X_test['y_pred'] = results.predict(X_test[feature_columns])\n",
    "rmse = statsmodels.tools.eval_measures.rmse(np.exp(y_test), np.exp(X_test['y_pred']))\n",
    "print(rmse)"
   ],
   "metadata": {
    "collapsed": false
   }
  },
  {
   "cell_type": "code",
   "execution_count": 70,
   "outputs": [
    {
     "data": {
      "text/plain": "<Figure size 640x480 with 1 Axes>",
      "image/png": "[encoded data removed]"
     },
     "metadata": {},
     "output_type": "display_data"
    }
   ],
   "source": [
    "## visualisation\n",
    "\n",
    "sns.scatterplot(x=X_test['overall_score'], y=y_test)\n",
    "sns.scatterplot(x=X_test['overall_score'], y=X_test['y_pred'])\n",
    "plt.show()"
   ],
   "metadata": {
    "collapsed": false
   }
  },
  {
   "cell_type": "code",
   "execution_count": 71,
   "outputs": [
    {
     "data": {
      "text/plain": "<class 'statsmodels.iolib.summary.Summary'>\n\"\"\"\n                                 OLS Regression Results                                 \n========================================================================================\nDep. Variable:     market_value_in_eur   R-squared (uncentered):                   0.998\nModel:                             OLS   Adj. R-squared (uncentered):              0.998\nMethod:                  Least Squares   F-statistic:                          7.748e+04\nDate:                 Tue, 04 Apr 2023   Prob (F-statistic):                        0.00\nTime:                         13:24:46   Log-Likelihood:                         -5654.2\nNo. Observations:                 5225   AIC:                                  1.136e+04\nDf Residuals:                     5198   BIC:                                  1.154e+04\nDf Model:                           27                                                  \nCovariance Type:             nonrobust                                                  \n========================================================================================\n                           coef    std err          t      P>|t|      [0.025      0.975]\n----------------------------------------------------------------------------------------\noverall_score            0.2142      0.005     46.831      0.000       0.205       0.223\npotential_score          0.0148      0.003      5.498      0.000       0.010       0.020\nAge                     -0.1105      0.003    -31.855      0.000      -0.117      -0.104\nball_skills              0.0030      0.003      1.161      0.246      -0.002       0.008\nDefence                  0.0015      0.001      1.197      0.231      -0.001       0.004\nMental                   0.0006      0.003      0.191      0.848      -0.006       0.007\nPassing                 -0.0069      0.002     -3.049      0.002      -0.011      -0.002\nPhysical                 0.0125      0.002      6.949      0.000       0.009       0.016\nShooting                 0.0024      0.002      1.157      0.247      -0.002       0.006\nGoalkeeping             -0.0006      0.002     -0.235      0.814      -0.005       0.004\ncomp_DK1                 0.0697      0.055      1.264      0.206      -0.038       0.178\ncomp_ES1                -0.0363      0.048     -0.753      0.452      -0.131       0.058\ncomp_FR1                 0.2358      0.048      4.962      0.000       0.143       0.329\ncomp_GB1                 0.6698      0.048     13.899      0.000       0.575       0.764\ncomp_GR1                -0.1763      0.079     -2.244      0.025      -0.330      -0.022\ncomp_IT1                 0.2266      0.049      4.658      0.000       0.131       0.322\ncomp_L1                  0.1960      0.049      3.997      0.000       0.100       0.292\ncomp_NL1                -0.0140      0.050     -0.282      0.778      -0.111       0.083\ncomp_PO1                -0.3797      0.049     -7.753      0.000      -0.476      -0.284\ncomp_RU1                 0.6481      0.126      5.127      0.000       0.400       0.896\ncomp_SC1                 0.1913      0.054      3.535      0.000       0.085       0.297\ncomp_TR1                 0.1793      0.050      3.591      0.000       0.081       0.277\ncomp_UKR1                0.0519      0.098      0.527      0.598      -0.141       0.245\npreferred_foot_Right     0.0570      0.023      2.451      0.014       0.011       0.103\nposition_Defender       -0.0196      0.043     -0.452      0.651      -0.105       0.065\nposition_Goalkeeper     -0.0698      0.099     -0.702      0.483      -0.265       0.125\nposition_Midfield       -0.0159      0.040     -0.399      0.690      -0.094       0.062\n==============================================================================\nOmnibus:                      805.531   Durbin-Watson:                   2.017\nProb(Omnibus):                  0.000   Jarque-Bera (JB):             9658.059\nSkew:                          -0.337   Prob(JB):                         0.00\nKurtosis:                       9.626   Cond. No.                     2.66e+03\n==============================================================================\n\nNotes:\n[1] R² is computed without centering (uncentered) since the model does not contain a constant.\n[2] Standard Errors assume that the covariance matrix of the errors is correctly specified.\n[3] The condition number is large, 2.66e+03. This might indicate that there are\nstrong multicollinearity or other numerical problems.\n\"\"\"",
      "text/html": "<table class=\"simpletable\">\n<caption>OLS Regression Results</caption>\n<tr>\n  <th>Dep. Variable:</th>    <td>market_value_in_eur</td> <th>  R-squared (uncentered):</th>      <td>   0.998</td> \n</tr>\n<tr>\n  <th>Model:</th>                    <td>OLS</td>         <th>  Adj. R-squared (uncentered):</th> <td>   0.998</td> \n</tr>\n<tr>\n  <th>Method:</th>              <td>Least Squares</td>    <th>  F-statistic:       </th>          <td>7.748e+04</td>\n</tr>\n<tr>\n  <th>Date:</th>              <td>Tue, 04 Apr 2023</td>   <th>  Prob (F-statistic):</th>           <td>  0.00</td>  \n</tr>\n<tr>\n  <th>Time:</th>                  <td>13:24:46</td>       <th>  Log-Likelihood:    </th>          <td> -5654.2</td> \n</tr>\n<tr>\n  <th>No. Observations:</th>       <td>  5225</td>        <th>  AIC:               </th>          <td>1.136e+04</td>\n</tr>\n<tr>\n  <th>Df Residuals:</th>           <td>  5198</td>        <th>  BIC:               </th>          <td>1.154e+04</td>\n</tr>\n<tr>\n  <th>Df Model:</th>               <td>    27</td>        <th>                     </th>              <td> </td>    \n</tr>\n<tr>\n  <th>Covariance Type:</th>       <td>nonrobust</td>      <th>                     </th>              <td> </td>    \n</tr>\n</table>\n<table class=\"simpletable\">\n<tr>\n            <td></td>              <th>coef</th>     <th>std err</th>      <th>t</th>      <th>P>|t|</th>  <th>[0.025</th>    <th>0.975]</th>  \n</tr>\n<tr>\n  <th>overall_score</th>        <td>    0.2142</td> <td>    0.005</td> <td>   46.831</td> <td> 0.000</td> <td>    0.205</td> <td>    0.223</td>\n</tr>\n<tr>\n  <th>potential_score</th>      <td>    0.0148</td> <td>    0.003</td> <td>    5.498</td> <td> 0.000</td> <td>    0.010</td> <td>    0.020</td>\n</tr>\n<tr>\n  <th>Age</th>                  <td>   -0.1105</td> <td>    0.003</td> <td>  -31.855</td> <td> 0.000</td> <td>   -0.117</td> <td>   -0.104</td>\n</tr>\n<tr>\n  <th>ball_skills</th>          <td>    0.0030</td> <td>    0.003</td> <td>    1.161</td> <td> 0.246</td> <td>   -0.002</td> <td>    0.008</td>\n</tr>\n<tr>\n  <th>Defence</th>              <td>    0.0015</td> <td>    0.001</td> <td>    1.197</td> <td> 0.231</td> <td>   -0.001</td> <td>    0.004</td>\n</tr>\n<tr>\n  <th>Mental</th>               <td>    0.0006</td> <td>    0.003</td> <td>    0.191</td> <td> 0.848</td> <td>   -0.006</td> <td>    0.007</td>\n</tr>\n<tr>\n  <th>Passing</th>              <td>   -0.0069</td> <td>    0.002</td> <td>   -3.049</td> <td> 0.002</td> <td>   -0.011</td> <td>   -0.002</td>\n</tr>\n<tr>\n  <th>Physical</th>             <td>    0.0125</td> <td>    0.002</td> <td>    6.949</td> <td> 0.000</td> <td>    0.009</td> <td>    0.016</td>\n</tr>\n<tr>\n  <th>Shooting</th>             <td>    0.0024</td> <td>    0.002</td> <td>    1.157</td> <td> 0.247</td> <td>   -0.002</td> <td>    0.006</td>\n</tr>\n<tr>\n  <th>Goalkeeping</th>          <td>   -0.0006</td> <td>    0.002</td> <td>   -0.235</td> <td> 0.814</td> <td>   -0.005</td> <td>    0.004</td>\n</tr>\n<tr>\n  <th>comp_DK1</th>             <td>    0.0697</td> <td>    0.055</td> <td>    1.264</td> <td> 0.206</td> <td>   -0.038</td> <td>    0.178</td>\n</tr>\n<tr>\n  <th>comp_ES1</th>             <td>   -0.0363</td> <td>    0.048</td> <td>   -0.753</td> <td> 0.452</td> <td>   -0.131</td> <td>    0.058</td>\n</tr>\n<tr>\n  <th>comp_FR1</th>             <td>    0.2358</td> <td>    0.048</td> <td>    4.962</td> <td> 0.000</td> <td>    0.143</td> <td>    0.329</td>\n</tr>\n<tr>\n  <th>comp_GB1</th>             <td>    0.6698</td> <td>    0.048</td> <td>   13.899</td> <td> 0.000</td> <td>    0.575</td> <td>    0.764</td>\n</tr>\n<tr>\n  <th>comp_GR1</th>             <td>   -0.1763</td> <td>    0.079</td> <td>   -2.244</td> <td> 0.025</td> <td>   -0.330</td> <td>   -0.022</td>\n</tr>\n<tr>\n  <th>comp_IT1</th>             <td>    0.2266</td> <td>    0.049</td> <td>    4.658</td> <td> 0.000</td> <td>    0.131</td> <td>    0.322</td>\n</tr>\n<tr>\n  <th>comp_L1</th>              <td>    0.1960</td> <td>    0.049</td> <td>    3.997</td> <td> 0.000</td> <td>    0.100</td> <td>    0.292</td>\n</tr>\n<tr>\n  <th>comp_NL1</th>             <td>   -0.0140</td> <td>    0.050</td> <td>   -0.282</td> <td> 0.778</td> <td>   -0.111</td> <td>    0.083</td>\n</tr>\n<tr>\n  <th>comp_PO1</th>             <td>   -0.3797</td> <td>    0.049</td> <td>   -7.753</td> <td> 0.000</td> <td>   -0.476</td> <td>   -0.284</td>\n</tr>\n<tr>\n  <th>comp_RU1</th>             <td>    0.6481</td> <td>    0.126</td> <td>    5.127</td> <td> 0.000</td> <td>    0.400</td> <td>    0.896</td>\n</tr>\n<tr>\n  <th>comp_SC1</th>             <td>    0.1913</td> <td>    0.054</td> <td>    3.535</td> <td> 0.000</td> <td>    0.085</td> <td>    0.297</td>\n</tr>\n<tr>\n  <th>comp_TR1</th>             <td>    0.1793</td> <td>    0.050</td> <td>    3.591</td> <td> 0.000</td> <td>    0.081</td> <td>    0.277</td>\n</tr>\n<tr>\n  <th>comp_UKR1</th>            <td>    0.0519</td> <td>    0.098</td> <td>    0.527</td> <td> 0.598</td> <td>   -0.141</td> <td>    0.245</td>\n</tr>\n<tr>\n  <th>preferred_foot_Right</th> <td>    0.0570</td> <td>    0.023</td> <td>    2.451</td> <td> 0.014</td> <td>    0.011</td> <td>    0.103</td>\n</tr>\n<tr>\n  <th>position_Defender</th>    <td>   -0.0196</td> <td>    0.043</td> <td>   -0.452</td> <td> 0.651</td> <td>   -0.105</td> <td>    0.065</td>\n</tr>\n<tr>\n  <th>position_Goalkeeper</th>  <td>   -0.0698</td> <td>    0.099</td> <td>   -0.702</td> <td> 0.483</td> <td>   -0.265</td> <td>    0.125</td>\n</tr>\n<tr>\n  <th>position_Midfield</th>    <td>   -0.0159</td> <td>    0.040</td> <td>   -0.399</td> <td> 0.690</td> <td>   -0.094</td> <td>    0.062</td>\n</tr>\n</table>\n<table class=\"simpletable\">\n<tr>\n  <th>Omnibus:</th>       <td>805.531</td> <th>  Durbin-Watson:     </th> <td>   2.017</td>\n</tr>\n<tr>\n  <th>Prob(Omnibus):</th> <td> 0.000</td>  <th>  Jarque-Bera (JB):  </th> <td>9658.059</td>\n</tr>\n<tr>\n  <th>Skew:</th>          <td>-0.337</td>  <th>  Prob(JB):          </th> <td>    0.00</td>\n</tr>\n<tr>\n  <th>Kurtosis:</th>      <td> 9.626</td>  <th>  Cond. No.          </th> <td>2.66e+03</td>\n</tr>\n</table><br/><br/>Notes:<br/>[1] R² is computed without centering (uncentered) since the model does not contain a constant.<br/>[2] Standard Errors assume that the covariance matrix of the errors is correctly specified.<br/>[3] The condition number is large, 2.66e+03. This might indicate that there are<br/>strong multicollinearity or other numerical problems."
     },
     "execution_count": 71,
     "metadata": {},
     "output_type": "execute_result"
    }
   ],
   "source": [
    "## This model performs much better in terms of RMSE and does not predict negative market values\n",
    "## I would want to move forward with this model\n",
    "## Lets take a look at the summary\n",
    "\n",
    "results.summary()"
   ],
   "metadata": {
    "collapsed": false
   }
  },
  {
   "cell_type": "code",
   "execution_count": 72,
   "outputs": [],
   "source": [
    "## The R-squared looks great but the conditional number and significance are not\n",
    "## I would like to run some checks on the features\n",
    "## Functions taken from previous projects I had in Digital Futures\n",
    "\n",
    "## This function reduces the conditional number\n",
    "\n",
    "def calculate_vif(X, thresh = 5.0):\n",
    "    variables = list(range(X.shape[1]))\n",
    "    dropped = True\n",
    "    while dropped:\n",
    "        dropped = False\n",
    "        # this bit uses list comprehension to gather all the VIF values of the different variables\n",
    "        vif = [variance_inflation_factor(X.iloc[:, variables].values, ix)\n",
    "               for ix in range(X.iloc[:, variables].shape[1])]\n",
    "\n",
    "        maxloc = vif.index(max(vif)) # getting the index of the highest VIF value\n",
    "        if max(vif) > thresh:\n",
    "            print('dropping \\'' + X.iloc[:, variables].columns[maxloc] +\n",
    "                  '\\' at index: ' + str(maxloc))\n",
    "            del variables[maxloc] # we delete the highest VIF value on condition that it's higher than the threshold\n",
    "            dropped = True # if we deleted anything, we set the 'dropped' value to True to stay in the while loop\n",
    "\n",
    "    print('Remaining variables:')\n",
    "    print(X.columns[variables]) # finally, we print the variables that are still in our set\n",
    "    return X.iloc[:, variables] # and return our X cut down to the remaining variables\n",
    "\n",
    "## This function checks for the signicance and drops them\n",
    "\n",
    "def stepwise_selection(X, y, threshold_in = 0.01, threshold_out = 0.05, verbose = True):\n",
    "    # The function is checking for p-values (whether features are statistically significant), the lower the better\n",
    "    included = [] # this is going to be the list of features we keep\n",
    "    while True:\n",
    "        changed = False\n",
    "        # forward step\n",
    "        excluded = list(set(X.columns) - set(included))\n",
    "        new_pval = pd.Series(index = excluded, dtype = 'float64')\n",
    "        for new_column in excluded:\n",
    "            model = sm.OLS(y, sm.add_constant(pd.DataFrame(X[included + [new_column]]))).fit()\n",
    "            new_pval[new_column] = model.pvalues[new_column]\n",
    "        best_pval = new_pval.min()\n",
    "        # we add the feature with the lowest (best) p-value under the threshold to our 'included' list\n",
    "        if best_pval < threshold_in:\n",
    "            best_feature = new_pval.idxmin()\n",
    "            included.append(best_feature)\n",
    "            changed = True\n",
    "            if verbose:\n",
    "                print('Add  {:30} with p-value {:.6}'.format(best_feature, best_pval)) # specifying the verbose text\n",
    "\n",
    "        # backward step: removing features if new features added to the list make them statistically insignificant\n",
    "        model = sm.OLS(y, sm.add_constant(pd.DataFrame(X[included]))).fit()\n",
    "\n",
    "        # use all coefs except intercept\n",
    "        pvalues = model.pvalues.iloc[1:]\n",
    "        worst_pval = pvalues.max() # null if pvalues is empty\n",
    "        # if the p-value exceeds the upper threshold, the feature will be dropped from the 'included' list\n",
    "        if worst_pval > threshold_out:\n",
    "            changed = True\n",
    "            worst_feature = pvalues.idxmax()\n",
    "            included.remove(worst_feature)\n",
    "            if verbose:\n",
    "                print('Drop {:30} with p-value {:.6}'.format(worst_feature, worst_pval))\n",
    "        if not changed:\n",
    "            break\n",
    "    return included"
   ],
   "metadata": {
    "collapsed": false
   }
  },
  {
   "cell_type": "code",
   "execution_count": 74,
   "outputs": [
    {
     "name": "stdout",
     "output_type": "stream",
     "text": [
      "dropping 'overall_score' at index: 0\n",
      "dropping 'Mental' at index: 4\n",
      "dropping 'ball_skills' at index: 2\n",
      "dropping 'potential_score' at index: 0\n",
      "dropping 'Passing' at index: 2\n",
      "dropping 'Physical' at index: 2\n",
      "dropping 'Age' at index: 0\n",
      "dropping 'Defence' at index: 0\n",
      "dropping 'Goalkeeping' at index: 1\n",
      "dropping 'Shooting' at index: 0\n",
      "Remaining variables:\n",
      "Index(['comp_DK1', 'comp_ES1', 'comp_FR1', 'comp_GB1', 'comp_GR1', 'comp_IT1',\n",
      "       'comp_L1', 'comp_NL1', 'comp_PO1', 'comp_RU1', 'comp_SC1', 'comp_TR1',\n",
      "       'comp_UKR1', 'preferred_foot_Right', 'position_Defender',\n",
      "       'position_Goalkeeper', 'position_Midfield'],\n",
      "      dtype='object')\n"
     ]
    },
    {
     "data": {
      "text/plain": "      comp_DK1  comp_ES1  comp_FR1  comp_GB1  comp_GR1  comp_IT1  comp_L1  \\\n5572         0         0         0         0         0         0        0   \n6072         0         0         0         0         0         0        0   \n5445         0         0         0         0         0         0        1   \n5185         0         0         0         0         0         0        1   \n6290         0         0         0         0         0         0        0   \n...        ...       ...       ...       ...       ...       ...      ...   \n3772         0         0         1         0         0         0        0   \n5191         0         0         0         0         0         0        1   \n5226         0         0         0         0         0         0        1   \n5390         0         0         0         0         0         0        1   \n860          0         1         0         0         0         0        0   \n\n      comp_NL1  comp_PO1  comp_RU1  comp_SC1  comp_TR1  comp_UKR1  \\\n5572         0         1         0         0         0          0   \n6072         1         0         0         0         0          0   \n5445         0         0         0         0         0          0   \n5185         0         0         0         0         0          0   \n6290         0         0         0         0         0          0   \n...        ...       ...       ...       ...       ...        ...   \n3772         0         0         0         0         0          0   \n5191         0         0         0         0         0          0   \n5226         0         0         0         0         0          0   \n5390         0         0         0         0         0          0   \n860          0         0         0         0         0          0   \n\n      preferred_foot_Right  position_Defender  position_Goalkeeper  \\\n5572                     1                  0                    0   \n6072                     0                  0                    0   \n5445                     1                  0                    1   \n5185                     1                  0                    1   \n6290                     0                  0                    0   \n...                    ...                ...                  ...   \n3772                     1                  0                    0   \n5191                     1                  1                    0   \n5226                     0                  1                    0   \n5390                     0                  1                    0   \n860                      1                  0                    0   \n\n      position_Midfield  \n5572                  1  \n6072                  0  \n5445                  0  \n5185                  0  \n6290                  1  \n...                 ...  \n3772                  0  \n5191                  0  \n5226                  0  \n5390                  0  \n860                   0  \n\n[5225 rows x 17 columns]",
      "text/html": "<div>\n<style scoped>\n    .dataframe tbody tr th:only-of-type {\n        vertical-align: middle;\n    }\n\n    .dataframe tbody tr th {\n        vertical-align: top;\n    }\n\n    .dataframe thead th {\n        text-align: right;\n    }\n</style>\n<table border=\"1\" class=\"dataframe\">\n  <thead>\n    <tr style=\"text-align: right;\">\n      <th></th>\n      <th>comp_DK1</th>\n      <th>comp_ES1</th>\n      <th>comp_FR1</th>\n      <th>comp_GB1</th>\n      <th>comp_GR1</th>\n      <th>comp_IT1</th>\n      <th>comp_L1</th>\n      <th>comp_NL1</th>\n      <th>comp_PO1</th>\n      <th>comp_RU1</th>\n      <th>comp_SC1</th>\n      <th>comp_TR1</th>\n      <th>comp_UKR1</th>\n      <th>preferred_foot_Right</th>\n      <th>position_Defender</th>\n      <th>position_Goalkeeper</th>\n      <th>position_Midfield</th>\n    </tr>\n  </thead>\n  <tbody>\n    <tr>\n      <th>5572</th>\n      <td>0</td>\n      <td>0</td>\n      <td>0</td>\n      <td>0</td>\n      <td>0</td>\n      <td>0</td>\n      <td>0</td>\n      <td>0</td>\n      <td>1</td>\n      <td>0</td>\n      <td>0</td>\n      <td>0</td>\n      <td>0</td>\n      <td>1</td>\n      <td>0</td>\n      <td>0</td>\n      <td>1</td>\n    </tr>\n    <tr>\n      <th>6072</th>\n      <td>0</td>\n      <td>0</td>\n      <td>0</td>\n      <td>0</td>\n      <td>0</td>\n      <td>0</td>\n      <td>0</td>\n      <td>1</td>\n      <td>0</td>\n      <td>0</td>\n      <td>0</td>\n      <td>0</td>\n      <td>0</td>\n      <td>0</td>\n      <td>0</td>\n      <td>0</td>\n      <td>0</td>\n    </tr>\n    <tr>\n      <th>5445</th>\n      <td>0</td>\n      <td>0</td>\n      <td>0</td>\n      <td>0</td>\n      <td>0</td>\n      <td>0</td>\n      <td>1</td>\n      <td>0</td>\n      <td>0</td>\n      <td>0</td>\n      <td>0</td>\n      <td>0</td>\n      <td>0</td>\n      <td>1</td>\n      <td>0</td>\n      <td>1</td>\n      <td>0</td>\n    </tr>\n    <tr>\n      <th>5185</th>\n      <td>0</td>\n      <td>0</td>\n      <td>0</td>\n      <td>0</td>\n      <td>0</td>\n      <td>0</td>\n      <td>1</td>\n      <td>0</td>\n      <td>0</td>\n      <td>0</td>\n      <td>0</td>\n      <td>0</td>\n      <td>0</td>\n      <td>1</td>\n      <td>0</td>\n      <td>1</td>\n      <td>0</td>\n    </tr>\n    <tr>\n      <th>6290</th>\n      <td>0</td>\n      <td>0</td>\n      <td>0</td>\n      <td>0</td>\n      <td>0</td>\n      <td>0</td>\n      <td>0</td>\n      <td>0</td>\n      <td>0</td>\n      <td>0</td>\n      <td>0</td>\n      <td>0</td>\n      <td>0</td>\n      <td>0</td>\n      <td>0</td>\n      <td>0</td>\n      <td>1</td>\n    </tr>\n    <tr>\n      <th>...</th>\n      <td>...</td>\n      <td>...</td>\n      <td>...</td>\n      <td>...</td>\n      <td>...</td>\n      <td>...</td>\n      <td>...</td>\n      <td>...</td>\n      <td>...</td>\n      <td>...</td>\n      <td>...</td>\n      <td>...</td>\n      <td>...</td>\n      <td>...</td>\n      <td>...</td>\n      <td>...</td>\n      <td>...</td>\n    </tr>\n    <tr>\n      <th>3772</th>\n      <td>0</td>\n      <td>0</td>\n      <td>1</td>\n      <td>0</td>\n      <td>0</td>\n      <td>0</td>\n      <td>0</td>\n      <td>0</td>\n      <td>0</td>\n      <td>0</td>\n      <td>0</td>\n      <td>0</td>\n      <td>0</td>\n      <td>1</td>\n      <td>0</td>\n      <td>0</td>\n      <td>0</td>\n    </tr>\n    <tr>\n      <th>5191</th>\n      <td>0</td>\n      <td>0</td>\n      <td>0</td>\n      <td>0</td>\n      <td>0</td>\n      <td>0</td>\n      <td>1</td>\n      <td>0</td>\n      <td>0</td>\n      <td>0</td>\n      <td>0</td>\n      <td>0</td>\n      <td>0</td>\n      <td>1</td>\n      <td>1</td>\n      <td>0</td>\n      <td>0</td>\n    </tr>\n    <tr>\n      <th>5226</th>\n      <td>0</td>\n      <td>0</td>\n      <td>0</td>\n      <td>0</td>\n      <td>0</td>\n      <td>0</td>\n      <td>1</td>\n      <td>0</td>\n      <td>0</td>\n      <td>0</td>\n      <td>0</td>\n      <td>0</td>\n      <td>0</td>\n      <td>0</td>\n      <td>1</td>\n      <td>0</td>\n      <td>0</td>\n    </tr>\n    <tr>\n      <th>5390</th>\n      <td>0</td>\n      <td>0</td>\n      <td>0</td>\n      <td>0</td>\n      <td>0</td>\n      <td>0</td>\n      <td>1</td>\n      <td>0</td>\n      <td>0</td>\n      <td>0</td>\n      <td>0</td>\n      <td>0</td>\n      <td>0</td>\n      <td>0</td>\n      <td>1</td>\n      <td>0</td>\n      <td>0</td>\n    </tr>\n    <tr>\n      <th>860</th>\n      <td>0</td>\n      <td>1</td>\n      <td>0</td>\n      <td>0</td>\n      <td>0</td>\n      <td>0</td>\n      <td>0</td>\n      <td>0</td>\n      <td>0</td>\n      <td>0</td>\n      <td>0</td>\n      <td>0</td>\n      <td>0</td>\n      <td>1</td>\n      <td>0</td>\n      <td>0</td>\n      <td>0</td>\n    </tr>\n  </tbody>\n</table>\n<p>5225 rows × 17 columns</p>\n</div>"
     },
     "execution_count": 74,
     "metadata": {},
     "output_type": "execute_result"
    }
   ],
   "source": [
    "## Now lets run them\n",
    "\n",
    "calculate_vif(X_train[feature_columns])"
   ],
   "metadata": {
    "collapsed": false
   }
  },
  {
   "cell_type": "code",
   "execution_count": 75,
   "outputs": [
    {
     "name": "stdout",
     "output_type": "stream",
     "text": [
      "Add  comp_GB1                       with p-value 1.28845e-121\n",
      "Add  position_Goalkeeper            with p-value 1.83235e-61\n",
      "Add  comp_IT1                       with p-value 5.33918e-35\n",
      "Add  comp_ES1                       with p-value 2.10846e-38\n",
      "Add  comp_L1                        with p-value 9.05116e-50\n",
      "Add  comp_FR1                       with p-value 3.5315e-46\n",
      "Add  comp_SC1                       with p-value 2.7732e-09\n",
      "Add  comp_DK1                       with p-value 3.18466e-09\n",
      "Add  position_Defender              with p-value 8.23381e-06\n",
      "resulting features:\n",
      "['comp_GB1', 'position_Goalkeeper', 'comp_IT1', 'comp_ES1', 'comp_L1', 'comp_FR1', 'comp_SC1', 'comp_DK1', 'position_Defender']\n"
     ]
    }
   ],
   "source": [
    "## As expected, the number of columns reduced\n",
    "\n",
    "feature_columns = ['comp_DK1', 'comp_ES1', 'comp_FR1', 'comp_GB1', 'comp_GR1', 'comp_IT1',\n",
    "                     'comp_L1', 'comp_NL1', 'comp_PO1', 'comp_RU1', 'comp_SC1', 'comp_TR1',\n",
    "                     'comp_UKR1', 'preferred_foot_Right', 'position_Defender',\n",
    "                     'position_Goalkeeper', 'position_Midfield']\n",
    "\n",
    "result = stepwise_selection(X_train[feature_columns], y_train)\n",
    "print('resulting features:')\n",
    "print(result)"
   ],
   "metadata": {
    "collapsed": false
   }
  },
  {
   "cell_type": "code",
   "execution_count": 76,
   "outputs": [
    {
     "name": "stdout",
     "output_type": "stream",
     "text": [
      "the RMSE is 82921049.27169997\n"
     ]
    }
   ],
   "source": [
    "## We are only left with very few columns, let us view the metrics for these\n",
    "\n",
    "feature_columns = ['comp_GB1', 'position_Goalkeeper', 'comp_IT1', 'comp_ES1', 'comp_L1', 'comp_FR1', 'comp_SC1', 'comp_DK1', 'position_Defender']\n",
    "\n",
    "results = statsmodel_log(df_encoded, 'market_value_in_eur', feature_columns, 1)"
   ],
   "metadata": {
    "collapsed": false
   }
  },
  {
   "cell_type": "code",
   "execution_count": 77,
   "outputs": [
    {
     "name": "stdout",
     "output_type": "stream",
     "text": [
      "92613817.27270652\n"
     ]
    }
   ],
   "source": [
    "## RMSE of the test set\n",
    "\n",
    "X_test['y_pred'] = results.predict(X_test[feature_columns])\n",
    "rmse = statsmodels.tools.eval_measures.rmse(np.exp(y_test), np.exp(X_test['y_pred']))\n",
    "print(rmse)"
   ],
   "metadata": {
    "collapsed": false
   }
  },
  {
   "cell_type": "code",
   "execution_count": 78,
   "outputs": [
    {
     "data": {
      "text/plain": "<class 'statsmodels.iolib.summary.Summary'>\n\"\"\"\n                                 OLS Regression Results                                 \n========================================================================================\nDep. Variable:     market_value_in_eur   R-squared (uncentered):                   0.725\nModel:                             OLS   Adj. R-squared (uncentered):              0.725\nMethod:                  Least Squares   F-statistic:                              1530.\nDate:                 Tue, 04 Apr 2023   Prob (F-statistic):                        0.00\nTime:                         13:25:03   Log-Likelihood:                         -17954.\nNo. Observations:                 5225   AIC:                                  3.593e+04\nDf Residuals:                     5216   BIC:                                  3.599e+04\nDf Model:                            9                                                  \nCovariance Type:             nonrobust                                                  \n=======================================================================================\n                          coef    std err          t      P>|t|      [0.025      0.975]\n---------------------------------------------------------------------------------------\ncomp_GB1               12.7681      0.322     39.657      0.000      12.137      13.399\nposition_Goalkeeper     5.8665      0.328     17.898      0.000       5.224       6.509\ncomp_IT1               11.9316      0.338     35.320      0.000      11.269      12.594\ncomp_ES1               11.6127      0.329     35.313      0.000      10.968      12.257\ncomp_L1                11.7698      0.350     33.633      0.000      11.084      12.456\ncomp_FR1               11.4377      0.332     34.462      0.000      10.787      12.088\ncomp_SC1               10.2778      0.437     23.537      0.000       9.422      11.134\ncomp_DK1               10.1424      0.449     22.587      0.000       9.262      11.023\nposition_Defender       6.9621      0.205     34.007      0.000       6.561       7.363\n==============================================================================\nOmnibus:                      784.744   Durbin-Watson:                   1.452\nProb(Omnibus):                  0.000   Jarque-Bera (JB):              233.192\nSkew:                           0.250   Prob(JB):                     2.31e-51\nKurtosis:                       2.094   Cond. No.                         2.73\n==============================================================================\n\nNotes:\n[1] R² is computed without centering (uncentered) since the model does not contain a constant.\n[2] Standard Errors assume that the covariance matrix of the errors is correctly specified.\n\"\"\"",
      "text/html": "<table class=\"simpletable\">\n<caption>OLS Regression Results</caption>\n<tr>\n  <th>Dep. Variable:</th>    <td>market_value_in_eur</td> <th>  R-squared (uncentered):</th>      <td>   0.725</td> \n</tr>\n<tr>\n  <th>Model:</th>                    <td>OLS</td>         <th>  Adj. R-squared (uncentered):</th> <td>   0.725</td> \n</tr>\n<tr>\n  <th>Method:</th>              <td>Least Squares</td>    <th>  F-statistic:       </th>          <td>   1530.</td> \n</tr>\n<tr>\n  <th>Date:</th>              <td>Tue, 04 Apr 2023</td>   <th>  Prob (F-statistic):</th>           <td>  0.00</td>  \n</tr>\n<tr>\n  <th>Time:</th>                  <td>13:25:03</td>       <th>  Log-Likelihood:    </th>          <td> -17954.</td> \n</tr>\n<tr>\n  <th>No. Observations:</th>       <td>  5225</td>        <th>  AIC:               </th>          <td>3.593e+04</td>\n</tr>\n<tr>\n  <th>Df Residuals:</th>           <td>  5216</td>        <th>  BIC:               </th>          <td>3.599e+04</td>\n</tr>\n<tr>\n  <th>Df Model:</th>               <td>     9</td>        <th>                     </th>              <td> </td>    \n</tr>\n<tr>\n  <th>Covariance Type:</th>       <td>nonrobust</td>      <th>                     </th>              <td> </td>    \n</tr>\n</table>\n<table class=\"simpletable\">\n<tr>\n           <td></td>              <th>coef</th>     <th>std err</th>      <th>t</th>      <th>P>|t|</th>  <th>[0.025</th>    <th>0.975]</th>  \n</tr>\n<tr>\n  <th>comp_GB1</th>            <td>   12.7681</td> <td>    0.322</td> <td>   39.657</td> <td> 0.000</td> <td>   12.137</td> <td>   13.399</td>\n</tr>\n<tr>\n  <th>position_Goalkeeper</th> <td>    5.8665</td> <td>    0.328</td> <td>   17.898</td> <td> 0.000</td> <td>    5.224</td> <td>    6.509</td>\n</tr>\n<tr>\n  <th>comp_IT1</th>            <td>   11.9316</td> <td>    0.338</td> <td>   35.320</td> <td> 0.000</td> <td>   11.269</td> <td>   12.594</td>\n</tr>\n<tr>\n  <th>comp_ES1</th>            <td>   11.6127</td> <td>    0.329</td> <td>   35.313</td> <td> 0.000</td> <td>   10.968</td> <td>   12.257</td>\n</tr>\n<tr>\n  <th>comp_L1</th>             <td>   11.7698</td> <td>    0.350</td> <td>   33.633</td> <td> 0.000</td> <td>   11.084</td> <td>   12.456</td>\n</tr>\n<tr>\n  <th>comp_FR1</th>            <td>   11.4377</td> <td>    0.332</td> <td>   34.462</td> <td> 0.000</td> <td>   10.787</td> <td>   12.088</td>\n</tr>\n<tr>\n  <th>comp_SC1</th>            <td>   10.2778</td> <td>    0.437</td> <td>   23.537</td> <td> 0.000</td> <td>    9.422</td> <td>   11.134</td>\n</tr>\n<tr>\n  <th>comp_DK1</th>            <td>   10.1424</td> <td>    0.449</td> <td>   22.587</td> <td> 0.000</td> <td>    9.262</td> <td>   11.023</td>\n</tr>\n<tr>\n  <th>position_Defender</th>   <td>    6.9621</td> <td>    0.205</td> <td>   34.007</td> <td> 0.000</td> <td>    6.561</td> <td>    7.363</td>\n</tr>\n</table>\n<table class=\"simpletable\">\n<tr>\n  <th>Omnibus:</th>       <td>784.744</td> <th>  Durbin-Watson:     </th> <td>   1.452</td>\n</tr>\n<tr>\n  <th>Prob(Omnibus):</th> <td> 0.000</td>  <th>  Jarque-Bera (JB):  </th> <td> 233.192</td>\n</tr>\n<tr>\n  <th>Skew:</th>          <td> 0.250</td>  <th>  Prob(JB):          </th> <td>2.31e-51</td>\n</tr>\n<tr>\n  <th>Kurtosis:</th>      <td> 2.094</td>  <th>  Cond. No.          </th> <td>    2.73</td>\n</tr>\n</table><br/><br/>Notes:<br/>[1] R² is computed without centering (uncentered) since the model does not contain a constant.<br/>[2] Standard Errors assume that the covariance matrix of the errors is correctly specified."
     },
     "execution_count": 78,
     "metadata": {},
     "output_type": "execute_result"
    }
   ],
   "source": [
    "results.summary()"
   ],
   "metadata": {
    "collapsed": false
   }
  },
  {
   "cell_type": "code",
   "execution_count": 80,
   "outputs": [],
   "source": [
    "## As expected, the RMSE drastically increased since the number of features reduced\n",
    "## The R-squared is also worse off, however the conditional number is now much much better and there are no significant features\n",
    "## For the content and purpose of this Capstone, I opted to not run the checks. For the following reasons:\n",
    "## 1. I expected the multicollinearity issue in my features, since as ones stats increase, their overall/potential scores increases. Also their scores relates to the clubs they\n",
    "## play for, and many other similar relationships in the features\n",
    "## 2. I expect the significance in the features, from EDA, we saw how the market values differs in different areas. For example, one playing in the Premier League would have\n",
    "## a huge impact on the market value.\n",
    "## 3. The purpose of this project is to have an accurate prediction of player values, having an RMSE of 8m - 9m can be considered far off and if the club is to invest based off\n",
    "## my model, it can be very costly.\n",
    "\n",
    "## From now on, I will focus on the RMSE and focussing on only improving the RMSE"
   ],
   "metadata": {
    "collapsed": false
   }
  },
  {
   "cell_type": "markdown",
   "source": [
    "## Model 3"
   ],
   "metadata": {
    "collapsed": false
   }
  },
  {
   "cell_type": "code",
   "execution_count": 81,
   "outputs": [],
   "source": [
    "## Keeping the top 20 nations and grouping the rest as 'other'\n",
    "## Then OHE the nationalities column\n",
    "\n",
    "def country_groups(x):\n",
    "    countries =['Spain','France','England','Portugal','Brazil','Netherlands','Germany','Italy','Belgium','Denmark','Turkey','Scotland','Argentina','Sweden','Norway','Senegal','Croatia','Morocco','Nigeria','Poland']\n",
    "\n",
    "    if x not in countries:\n",
    "        return 'other'\n",
    "    else:\n",
    "        return x\n",
    "\n",
    "\n",
    "df_encoded['country_groups'] = df_encoded['country_of_citizenship'].apply(country_groups)\n",
    "\n",
    "df_encoded = pd.get_dummies(df_encoded, columns=['country_groups'], drop_first=True)"
   ],
   "metadata": {
    "collapsed": false
   }
  },
  {
   "cell_type": "code",
   "execution_count": 82,
   "outputs": [
    {
     "data": {
      "text/plain": "                 name     current_club_name country_of_citizenship  \\\n0        Lenny Joseph               Fc Metz                 France   \n1      Mamadou Camara          Es Troyes Ac                 France   \n2      Mamadou Camara          Es Troyes Ac                 France   \n3      Mamadou Camara               Rc Lens                Senegal   \n4      Mamadou Camara               Rc Lens                Senegal   \n5          Robin Kehr  Spvgg Greuther Furth                Germany   \n6       Yohann Thuram        Ionikos Nikeas                 Brazil   \n7     Benjamin Tetteh      Yeni Malatyaspor                  Ghana   \n8       Stevie Mallan      Yeni Malatyaspor               Scotland   \n9        Didier Ndong      Yeni Malatyaspor                  Gabon   \n10       Gaston Campi      Yeni Malatyaspor              Argentina   \n11    Oussama Haddadi      Yeni Malatyaspor                Tunisia   \n12            Wallace      Yeni Malatyaspor                 Brazil   \n13          Rey Manaj         Spezia Calcio                Albania   \n14      Eddie Salcedo         Spezia Calcio                  Italy   \n15      Janis Antiste         Spezia Calcio                 France   \n16      David Strelec         Spezia Calcio               Slovakia   \n17  Aurelien Nguiamba         Spezia Calcio                 France   \n18       Luca Vignali         Spezia Calcio                  Italy   \n19      Petko Hristov         Spezia Calcio               Bulgaria   \n\n          sub_position  market_value_in_eur contract_expiration_date  \\\n0       Centre-Forward             400000.0               2024-06-30   \n1       Centre-Forward             400000.0               2025-06-30   \n2       Centre-Forward             400000.0               2025-06-30   \n3     Central Midfield             250000.0               2024-06-30   \n4     Central Midfield             250000.0               2024-06-30   \n5       Centre-Forward             100000.0               2023-06-30   \n6       Centre-Forward             325000.0               2023-06-30   \n7       Centre-Forward            2000000.0               2024-06-30   \n8     Central Midfield             500000.0               2024-06-30   \n9     Central Midfield            1500000.0               2023-06-30   \n10         Centre-Back             375000.0               2023-12-31   \n11         Centre-Back             800000.0               2024-06-30   \n12         Centre-Back            1000000.0               2023-12-31   \n13      Centre-Forward            1500000.0               2025-06-30   \n14      Centre-Forward            2700000.0               2023-06-30   \n15      Centre-Forward            4000000.0               2023-06-30   \n16      Centre-Forward            1300000.0               2026-06-30   \n17  Defensive Midfield             300000.0               2024-06-30   \n18          Right-Back            1000000.0               2025-06-30   \n19         Centre-Back            1000000.0               2025-06-30   \n\n    overall_score  potential_score  Height  Weight  ...  \\\n0              64               73     183      73  ...   \n1              61               70     186      71  ...   \n2              60               70     185      75  ...   \n3              61               70     186      71  ...   \n4              60               70     185      75  ...   \n5              63               75     189      81  ...   \n6              64               64     187      85  ...   \n7              72               76     193      91  ...   \n8              64               65     178      69  ...   \n9              69               70     179      75  ...   \n10             68               68     193      83  ...   \n11             68               68     185      76  ...   \n12             73               75     191      85  ...   \n13             72               76     182      76  ...   \n14             68               79     178      74  ...   \n15             68               79     182      77  ...   \n16             64               72     185      75  ...   \n17             64               71     179      73  ...   \n18             69               70     186      75  ...   \n19             67               75     191      85  ...   \n\n    country_groups_Nigeria  country_groups_Norway  country_groups_Poland  \\\n0                        0                      0                      0   \n1                        0                      0                      0   \n2                        0                      0                      0   \n3                        0                      0                      0   \n4                        0                      0                      0   \n5                        0                      0                      0   \n6                        0                      0                      0   \n7                        0                      0                      0   \n8                        0                      0                      0   \n9                        0                      0                      0   \n10                       0                      0                      0   \n11                       0                      0                      0   \n12                       0                      0                      0   \n13                       0                      0                      0   \n14                       0                      0                      0   \n15                       0                      0                      0   \n16                       0                      0                      0   \n17                       0                      0                      0   \n18                       0                      0                      0   \n19                       0                      0                      0   \n\n    country_groups_Portugal  country_groups_Scotland  country_groups_Senegal  \\\n0                         0                        0                       0   \n1                         0                        0                       0   \n2                         0                        0                       0   \n3                         0                        0                       1   \n4                         0                        0                       1   \n5                         0                        0                       0   \n6                         0                        0                       0   \n7                         0                        0                       0   \n8                         0                        1                       0   \n9                         0                        0                       0   \n10                        0                        0                       0   \n11                        0                        0                       0   \n12                        0                        0                       0   \n13                        0                        0                       0   \n14                        0                        0                       0   \n15                        0                        0                       0   \n16                        0                        0                       0   \n17                        0                        0                       0   \n18                        0                        0                       0   \n19                        0                        0                       0   \n\n    country_groups_Spain  country_groups_Sweden  country_groups_Turkey  \\\n0                      0                      0                      0   \n1                      0                      0                      0   \n2                      0                      0                      0   \n3                      0                      0                      0   \n4                      0                      0                      0   \n5                      0                      0                      0   \n6                      0                      0                      0   \n7                      0                      0                      0   \n8                      0                      0                      0   \n9                      0                      0                      0   \n10                     0                      0                      0   \n11                     0                      0                      0   \n12                     0                      0                      0   \n13                     0                      0                      0   \n14                     0                      0                      0   \n15                     0                      0                      0   \n16                     0                      0                      0   \n17                     0                      0                      0   \n18                     0                      0                      0   \n19                     0                      0                      0   \n\n    country_groups_other  \n0                      0  \n1                      0  \n2                      0  \n3                      0  \n4                      0  \n5                      0  \n6                      0  \n7                      1  \n8                      0  \n9                      1  \n10                     0  \n11                     1  \n12                     0  \n13                     1  \n14                     0  \n15                     0  \n16                     1  \n17                     0  \n18                     0  \n19                     1  \n\n[20 rows x 55 columns]",
      "text/html": "<div>\n<style scoped>\n    .dataframe tbody tr th:only-of-type {\n        vertical-align: middle;\n    }\n\n    .dataframe tbody tr th {\n        vertical-align: top;\n    }\n\n    .dataframe thead th {\n        text-align: right;\n    }\n</style>\n<table border=\"1\" class=\"dataframe\">\n  <thead>\n    <tr style=\"text-align: right;\">\n      <th></th>\n      <th>name</th>\n      <th>current_club_name</th>\n      <th>country_of_citizenship</th>\n      <th>sub_position</th>\n      <th>market_value_in_eur</th>\n      <th>contract_expiration_date</th>\n      <th>overall_score</th>\n      <th>potential_score</th>\n      <th>Height</th>\n      <th>Weight</th>\n      <th>...</th>\n      <th>country_groups_Nigeria</th>\n      <th>country_groups_Norway</th>\n      <th>country_groups_Poland</th>\n      <th>country_groups_Portugal</th>\n      <th>country_groups_Scotland</th>\n      <th>country_groups_Senegal</th>\n      <th>country_groups_Spain</th>\n      <th>country_groups_Sweden</th>\n      <th>country_groups_Turkey</th>\n      <th>country_groups_other</th>\n    </tr>\n  </thead>\n  <tbody>\n    <tr>\n      <th>0</th>\n      <td>Lenny Joseph</td>\n      <td>Fc Metz</td>\n      <td>France</td>\n      <td>Centre-Forward</td>\n      <td>400000.0</td>\n      <td>2024-06-30</td>\n      <td>64</td>\n      <td>73</td>\n      <td>183</td>\n      <td>73</td>\n      <td>...</td>\n      <td>0</td>\n      <td>0</td>\n      <td>0</td>\n      <td>0</td>\n      <td>0</td>\n      <td>0</td>\n      <td>0</td>\n      <td>0</td>\n      <td>0</td>\n      <td>0</td>\n    </tr>\n    <tr>\n      <th>1</th>\n      <td>Mamadou Camara</td>\n      <td>Es Troyes Ac</td>\n      <td>France</td>\n      <td>Centre-Forward</td>\n      <td>400000.0</td>\n      <td>2025-06-30</td>\n      <td>61</td>\n      <td>70</td>\n      <td>186</td>\n      <td>71</td>\n      <td>...</td>\n      <td>0</td>\n      <td>0</td>\n      <td>0</td>\n      <td>0</td>\n      <td>0</td>\n      <td>0</td>\n      <td>0</td>\n      <td>0</td>\n      <td>0</td>\n      <td>0</td>\n    </tr>\n    <tr>\n      <th>2</th>\n      <td>Mamadou Camara</td>\n      <td>Es Troyes Ac</td>\n      <td>France</td>\n      <td>Centre-Forward</td>\n      <td>400000.0</td>\n      <td>2025-06-30</td>\n      <td>60</td>\n      <td>70</td>\n      <td>185</td>\n      <td>75</td>\n      <td>...</td>\n      <td>0</td>\n      <td>0</td>\n      <td>0</td>\n      <td>0</td>\n      <td>0</td>\n      <td>0</td>\n      <td>0</td>\n      <td>0</td>\n      <td>0</td>\n      <td>0</td>\n    </tr>\n    <tr>\n      <th>3</th>\n      <td>Mamadou Camara</td>\n      <td>Rc Lens</td>\n      <td>Senegal</td>\n      <td>Central Midfield</td>\n      <td>250000.0</td>\n      <td>2024-06-30</td>\n      <td>61</td>\n      <td>70</td>\n      <td>186</td>\n      <td>71</td>\n      <td>...</td>\n      <td>0</td>\n      <td>0</td>\n      <td>0</td>\n      <td>0</td>\n      <td>0</td>\n      <td>1</td>\n      <td>0</td>\n      <td>0</td>\n      <td>0</td>\n      <td>0</td>\n    </tr>\n    <tr>\n      <th>4</th>\n      <td>Mamadou Camara</td>\n      <td>Rc Lens</td>\n      <td>Senegal</td>\n      <td>Central Midfield</td>\n      <td>250000.0</td>\n      <td>2024-06-30</td>\n      <td>60</td>\n      <td>70</td>\n      <td>185</td>\n      <td>75</td>\n      <td>...</td>\n      <td>0</td>\n      <td>0</td>\n      <td>0</td>\n      <td>0</td>\n      <td>0</td>\n      <td>1</td>\n      <td>0</td>\n      <td>0</td>\n      <td>0</td>\n      <td>0</td>\n    </tr>\n    <tr>\n      <th>5</th>\n      <td>Robin Kehr</td>\n      <td>Spvgg Greuther Furth</td>\n      <td>Germany</td>\n      <td>Centre-Forward</td>\n      <td>100000.0</td>\n      <td>2023-06-30</td>\n      <td>63</td>\n      <td>75</td>\n      <td>189</td>\n      <td>81</td>\n      <td>...</td>\n      <td>0</td>\n      <td>0</td>\n      <td>0</td>\n      <td>0</td>\n      <td>0</td>\n      <td>0</td>\n      <td>0</td>\n      <td>0</td>\n      <td>0</td>\n      <td>0</td>\n    </tr>\n    <tr>\n      <th>6</th>\n      <td>Yohann Thuram</td>\n      <td>Ionikos Nikeas</td>\n      <td>Brazil</td>\n      <td>Centre-Forward</td>\n      <td>325000.0</td>\n      <td>2023-06-30</td>\n      <td>64</td>\n      <td>64</td>\n      <td>187</td>\n      <td>85</td>\n      <td>...</td>\n      <td>0</td>\n      <td>0</td>\n      <td>0</td>\n      <td>0</td>\n      <td>0</td>\n      <td>0</td>\n      <td>0</td>\n      <td>0</td>\n      <td>0</td>\n      <td>0</td>\n    </tr>\n    <tr>\n      <th>7</th>\n      <td>Benjamin Tetteh</td>\n      <td>Yeni Malatyaspor</td>\n      <td>Ghana</td>\n      <td>Centre-Forward</td>\n      <td>2000000.0</td>\n      <td>2024-06-30</td>\n      <td>72</td>\n      <td>76</td>\n      <td>193</td>\n      <td>91</td>\n      <td>...</td>\n      <td>0</td>\n      <td>0</td>\n      <td>0</td>\n      <td>0</td>\n      <td>0</td>\n      <td>0</td>\n      <td>0</td>\n      <td>0</td>\n      <td>0</td>\n      <td>1</td>\n    </tr>\n    <tr>\n      <th>8</th>\n      <td>Stevie Mallan</td>\n      <td>Yeni Malatyaspor</td>\n      <td>Scotland</td>\n      <td>Central Midfield</td>\n      <td>500000.0</td>\n      <td>2024-06-30</td>\n      <td>64</td>\n      <td>65</td>\n      <td>178</td>\n      <td>69</td>\n      <td>...</td>\n      <td>0</td>\n      <td>0</td>\n      <td>0</td>\n      <td>0</td>\n      <td>1</td>\n      <td>0</td>\n      <td>0</td>\n      <td>0</td>\n      <td>0</td>\n      <td>0</td>\n    </tr>\n    <tr>\n      <th>9</th>\n      <td>Didier Ndong</td>\n      <td>Yeni Malatyaspor</td>\n      <td>Gabon</td>\n      <td>Central Midfield</td>\n      <td>1500000.0</td>\n      <td>2023-06-30</td>\n      <td>69</td>\n      <td>70</td>\n      <td>179</td>\n      <td>75</td>\n      <td>...</td>\n      <td>0</td>\n      <td>0</td>\n      <td>0</td>\n      <td>0</td>\n      <td>0</td>\n      <td>0</td>\n      <td>0</td>\n      <td>0</td>\n      <td>0</td>\n      <td>1</td>\n    </tr>\n    <tr>\n      <th>10</th>\n      <td>Gaston Campi</td>\n      <td>Yeni Malatyaspor</td>\n      <td>Argentina</td>\n      <td>Centre-Back</td>\n      <td>375000.0</td>\n      <td>2023-12-31</td>\n      <td>68</td>\n      <td>68</td>\n      <td>193</td>\n      <td>83</td>\n      <td>...</td>\n      <td>0</td>\n      <td>0</td>\n      <td>0</td>\n      <td>0</td>\n      <td>0</td>\n      <td>0</td>\n      <td>0</td>\n      <td>0</td>\n      <td>0</td>\n      <td>0</td>\n    </tr>\n    <tr>\n      <th>11</th>\n      <td>Oussama Haddadi</td>\n      <td>Yeni Malatyaspor</td>\n      <td>Tunisia</td>\n      <td>Centre-Back</td>\n      <td>800000.0</td>\n      <td>2024-06-30</td>\n      <td>68</td>\n      <td>68</td>\n      <td>185</td>\n      <td>76</td>\n      <td>...</td>\n      <td>0</td>\n      <td>0</td>\n      <td>0</td>\n      <td>0</td>\n      <td>0</td>\n      <td>0</td>\n      <td>0</td>\n      <td>0</td>\n      <td>0</td>\n      <td>1</td>\n    </tr>\n    <tr>\n      <th>12</th>\n      <td>Wallace</td>\n      <td>Yeni Malatyaspor</td>\n      <td>Brazil</td>\n      <td>Centre-Back</td>\n      <td>1000000.0</td>\n      <td>2023-12-31</td>\n      <td>73</td>\n      <td>75</td>\n      <td>191</td>\n      <td>85</td>\n      <td>...</td>\n      <td>0</td>\n      <td>0</td>\n      <td>0</td>\n      <td>0</td>\n      <td>0</td>\n      <td>0</td>\n      <td>0</td>\n      <td>0</td>\n      <td>0</td>\n      <td>0</td>\n    </tr>\n    <tr>\n      <th>13</th>\n      <td>Rey Manaj</td>\n      <td>Spezia Calcio</td>\n      <td>Albania</td>\n      <td>Centre-Forward</td>\n      <td>1500000.0</td>\n      <td>2025-06-30</td>\n      <td>72</td>\n      <td>76</td>\n      <td>182</td>\n      <td>76</td>\n      <td>...</td>\n      <td>0</td>\n      <td>0</td>\n      <td>0</td>\n      <td>0</td>\n      <td>0</td>\n      <td>0</td>\n      <td>0</td>\n      <td>0</td>\n      <td>0</td>\n      <td>1</td>\n    </tr>\n    <tr>\n      <th>14</th>\n      <td>Eddie Salcedo</td>\n      <td>Spezia Calcio</td>\n      <td>Italy</td>\n      <td>Centre-Forward</td>\n      <td>2700000.0</td>\n      <td>2023-06-30</td>\n      <td>68</td>\n      <td>79</td>\n      <td>178</td>\n      <td>74</td>\n      <td>...</td>\n      <td>0</td>\n      <td>0</td>\n      <td>0</td>\n      <td>0</td>\n      <td>0</td>\n      <td>0</td>\n      <td>0</td>\n      <td>0</td>\n      <td>0</td>\n      <td>0</td>\n    </tr>\n    <tr>\n      <th>15</th>\n      <td>Janis Antiste</td>\n      <td>Spezia Calcio</td>\n      <td>France</td>\n      <td>Centre-Forward</td>\n      <td>4000000.0</td>\n      <td>2023-06-30</td>\n      <td>68</td>\n      <td>79</td>\n      <td>182</td>\n      <td>77</td>\n      <td>...</td>\n      <td>0</td>\n      <td>0</td>\n      <td>0</td>\n      <td>0</td>\n      <td>0</td>\n      <td>0</td>\n      <td>0</td>\n      <td>0</td>\n      <td>0</td>\n      <td>0</td>\n    </tr>\n    <tr>\n      <th>16</th>\n      <td>David Strelec</td>\n      <td>Spezia Calcio</td>\n      <td>Slovakia</td>\n      <td>Centre-Forward</td>\n      <td>1300000.0</td>\n      <td>2026-06-30</td>\n      <td>64</td>\n      <td>72</td>\n      <td>185</td>\n      <td>75</td>\n      <td>...</td>\n      <td>0</td>\n      <td>0</td>\n      <td>0</td>\n      <td>0</td>\n      <td>0</td>\n      <td>0</td>\n      <td>0</td>\n      <td>0</td>\n      <td>0</td>\n      <td>1</td>\n    </tr>\n    <tr>\n      <th>17</th>\n      <td>Aurelien Nguiamba</td>\n      <td>Spezia Calcio</td>\n      <td>France</td>\n      <td>Defensive Midfield</td>\n      <td>300000.0</td>\n      <td>2024-06-30</td>\n      <td>64</td>\n      <td>71</td>\n      <td>179</td>\n      <td>73</td>\n      <td>...</td>\n      <td>0</td>\n      <td>0</td>\n      <td>0</td>\n      <td>0</td>\n      <td>0</td>\n      <td>0</td>\n      <td>0</td>\n      <td>0</td>\n      <td>0</td>\n      <td>0</td>\n    </tr>\n    <tr>\n      <th>18</th>\n      <td>Luca Vignali</td>\n      <td>Spezia Calcio</td>\n      <td>Italy</td>\n      <td>Right-Back</td>\n      <td>1000000.0</td>\n      <td>2025-06-30</td>\n      <td>69</td>\n      <td>70</td>\n      <td>186</td>\n      <td>75</td>\n      <td>...</td>\n      <td>0</td>\n      <td>0</td>\n      <td>0</td>\n      <td>0</td>\n      <td>0</td>\n      <td>0</td>\n      <td>0</td>\n      <td>0</td>\n      <td>0</td>\n      <td>0</td>\n    </tr>\n    <tr>\n      <th>19</th>\n      <td>Petko Hristov</td>\n      <td>Spezia Calcio</td>\n      <td>Bulgaria</td>\n      <td>Centre-Back</td>\n      <td>1000000.0</td>\n      <td>2025-06-30</td>\n      <td>67</td>\n      <td>75</td>\n      <td>191</td>\n      <td>85</td>\n      <td>...</td>\n      <td>0</td>\n      <td>0</td>\n      <td>0</td>\n      <td>0</td>\n      <td>0</td>\n      <td>0</td>\n      <td>0</td>\n      <td>0</td>\n      <td>0</td>\n      <td>1</td>\n    </tr>\n  </tbody>\n</table>\n<p>20 rows × 55 columns</p>\n</div>"
     },
     "execution_count": 82,
     "metadata": {},
     "output_type": "execute_result"
    }
   ],
   "source": [
    "df_encoded.head(20)"
   ],
   "metadata": {
    "collapsed": false
   }
  },
  {
   "cell_type": "code",
   "execution_count": 83,
   "outputs": [
    {
     "name": "stdout",
     "output_type": "stream",
     "text": [
      "the RMSE is 6179977.243893202\n"
     ]
    }
   ],
   "source": [
    "## Let us check the results\n",
    "\n",
    "feature_columns = list(df_encoded.columns)\n",
    "for columns in ['name', 'current_club_name', 'country_of_citizenship', 'sub_position','market_value_in_eur', 'contract_expiration_date']:\n",
    "    feature_columns.remove(columns)\n",
    "\n",
    "results = statsmodel_log(df_encoded, 'market_value_in_eur', feature_columns, 1)"
   ],
   "metadata": {
    "collapsed": false
   }
  },
  {
   "cell_type": "code",
   "execution_count": 84,
   "outputs": [
    {
     "name": "stdout",
     "output_type": "stream",
     "text": [
      "5780153.379193726\n"
     ]
    }
   ],
   "source": [
    "## RMSE of the test set\n",
    "\n",
    "X_test['y_pred'] = results.predict(X_test[feature_columns])\n",
    "rmse = statsmodels.tools.eval_measures.rmse(np.exp(y_test), np.exp(X_test['y_pred']))\n",
    "print(rmse)"
   ],
   "metadata": {
    "collapsed": false
   }
  },
  {
   "cell_type": "code",
   "execution_count": 85,
   "outputs": [],
   "source": [
    "## The RMSE is better compared to model 2, because we have more information."
   ],
   "metadata": {
    "collapsed": false
   }
  },
  {
   "cell_type": "markdown",
   "source": [
    "## Model 4"
   ],
   "metadata": {
    "collapsed": false
   }
  },
  {
   "cell_type": "code",
   "execution_count": 86,
   "outputs": [],
   "source": [
    "## From EDA, we know that market values for players in different positions varies\n",
    "## I want to split up the dataframe into 4 by position\n",
    "\n",
    "df_encoded['position'] = df['position']\n",
    "df_encoded.drop(columns=['position_Defender', 'position_Goalkeeper', 'position_Midfield'], inplace = True)"
   ],
   "metadata": {
    "collapsed": false
   }
  },
  {
   "cell_type": "code",
   "execution_count": 104,
   "outputs": [],
   "source": [
    "X_forwards = df_encoded[df_encoded['position'] == 'Attack'].copy()\n",
    "X_midfielders = df_encoded[df_encoded['position'] == 'Midfield'].copy()\n",
    "X_defenders = df_encoded[df_encoded['position'] == 'Defender'].copy()\n",
    "X_goalkeepers = df_encoded[df_encoded['position'] == 'Goalkeeper'].copy()"
   ],
   "metadata": {
    "collapsed": false
   }
  },
  {
   "cell_type": "code",
   "execution_count": 97,
   "outputs": [
    {
     "name": "stdout",
     "output_type": "stream",
     "text": [
      "the RMSE is 10387542.725628385\n"
     ]
    }
   ],
   "source": [
    "## Now, I can also OHE the sub_position column and in choosing the features, I can use domain knowledge to choose ones that are useful\n",
    "## A good example of this would be that the goalkeeper scores would not be a good feature in determining forward prices\n",
    "\n",
    "## On forwards\n",
    "\n",
    "X_forwards = pd.get_dummies(X_forwards, columns=['sub_position'], drop_first=True)\n",
    "\n",
    "feature_columns = list(X_forwards.columns)\n",
    "for columns in ['name', 'current_club_name', 'country_of_citizenship', 'market_value_in_eur',\n",
    "                'contract_expiration_date', 'Goalkeeping', 'Defence', 'position']:\n",
    "    feature_columns.remove(columns)\n",
    "\n",
    "results = statsmodel_log(X_forwards, 'market_value_in_eur', feature_columns, 1)"
   ],
   "metadata": {
    "collapsed": false
   }
  },
  {
   "cell_type": "code",
   "execution_count": 98,
   "outputs": [
    {
     "name": "stdout",
     "output_type": "stream",
     "text": [
      "7008301.128618931\n"
     ]
    }
   ],
   "source": [
    "## RMSE of the test set\n",
    "\n",
    "X_test['y_pred'] = results.predict(X_test[feature_columns])\n",
    "rmse = statsmodels.tools.eval_measures.rmse(np.exp(y_test), np.exp(X_test['y_pred']))\n",
    "print(rmse)"
   ],
   "metadata": {
    "collapsed": false
   }
  },
  {
   "cell_type": "code",
   "execution_count": 99,
   "outputs": [
    {
     "name": "stdout",
     "output_type": "stream",
     "text": [
      "the RMSE is 6156337.092263392\n"
     ]
    }
   ],
   "source": [
    "## The above RMSE is worse than what I had for model 4\n",
    "## However, this is expected, as in the forwards there are extreme outliers that can heavily affect the linear modelling\n",
    "## on the midfielders, we expect an improvement\n",
    "\n",
    "X_midfielders = pd.get_dummies(X_midfielders, columns=['sub_position'], drop_first=True)\n",
    "\n",
    "feature_columns = list(X_midfielders.columns)\n",
    "for columns in ['name', 'current_club_name', 'country_of_citizenship', 'market_value_in_eur',\n",
    "                'contract_expiration_date', 'Goalkeeping', 'position']:\n",
    "    feature_columns.remove(columns)\n",
    "\n",
    "results = statsmodel_log(X_midfielders, 'market_value_in_eur', feature_columns, 1)"
   ],
   "metadata": {
    "collapsed": false
   }
  },
  {
   "cell_type": "code",
   "execution_count": 100,
   "outputs": [
    {
     "name": "stdout",
     "output_type": "stream",
     "text": [
      "5491001.522493282\n"
     ]
    }
   ],
   "source": [
    "## RMSE of the test set\n",
    "\n",
    "X_test['y_pred'] = results.predict(X_test[feature_columns])\n",
    "rmse = statsmodels.tools.eval_measures.rmse(np.exp(y_test), np.exp(X_test['y_pred']))\n",
    "print(rmse)"
   ],
   "metadata": {
    "collapsed": false
   }
  },
  {
   "cell_type": "code",
   "execution_count": 105,
   "outputs": [
    {
     "name": "stdout",
     "output_type": "stream",
     "text": [
      "the RMSE is 5132032.798083193\n"
     ]
    }
   ],
   "source": [
    "## Indeed the RMSE did improve, let us explore the other 2 positions\n",
    "\n",
    "## On defenders\n",
    "\n",
    "X_defenders = pd.get_dummies(X_defenders, columns=['sub_position'], drop_first=True)\n",
    "\n",
    "feature_columns = list(X_defenders.columns)\n",
    "for columns in ['name', 'current_club_name', 'country_of_citizenship', 'market_value_in_eur',\n",
    "                'contract_expiration_date', 'Goalkeeping', 'Shooting', 'position']:\n",
    "    feature_columns.remove(columns)\n",
    "\n",
    "results = statsmodel_log(X_defenders, 'market_value_in_eur', feature_columns, 1)"
   ],
   "metadata": {
    "collapsed": false
   }
  },
  {
   "cell_type": "code",
   "execution_count": 106,
   "outputs": [
    {
     "name": "stdout",
     "output_type": "stream",
     "text": [
      "4563532.063736382\n"
     ]
    }
   ],
   "source": [
    "## RMSE of the test set\n",
    "\n",
    "X_test['y_pred'] = results.predict(X_test[feature_columns])\n",
    "rmse = statsmodels.tools.eval_measures.rmse(np.exp(y_test), np.exp(X_test['y_pred']))\n",
    "print(rmse)"
   ],
   "metadata": {
    "collapsed": false
   }
  },
  {
   "cell_type": "code",
   "execution_count": 107,
   "outputs": [
    {
     "name": "stdout",
     "output_type": "stream",
     "text": [
      "the RMSE is 3691203.0004070345\n"
     ]
    }
   ],
   "source": [
    "## On goalkeepers\n",
    "\n",
    "X_goalkeepers = pd.get_dummies(X_goalkeepers, columns=['sub_position'], drop_first=True)\n",
    "\n",
    "feature_columns = list(X_goalkeepers.columns)\n",
    "for columns in ['name', 'current_club_name', 'country_of_citizenship', 'market_value_in_eur',\n",
    "                'contract_expiration_date', 'Shooting', 'Defence', 'Passing', 'Mental', 'ball_skills',\n",
    "                 'position']:\n",
    "    feature_columns.remove(columns)\n",
    "\n",
    "results = statsmodel_log(X_goalkeepers, 'market_value_in_eur', feature_columns, 1)"
   ],
   "metadata": {
    "collapsed": false
   }
  },
  {
   "cell_type": "code",
   "execution_count": 108,
   "outputs": [
    {
     "name": "stdout",
     "output_type": "stream",
     "text": [
      "2758405.7811510046\n"
     ]
    }
   ],
   "source": [
    "## RMSE of the test set\n",
    "\n",
    "X_test['y_pred'] = results.predict(X_test[feature_columns])\n",
    "rmse = statsmodels.tools.eval_measures.rmse(np.exp(y_test), np.exp(X_test['y_pred']))\n",
    "print(rmse)"
   ],
   "metadata": {
    "collapsed": false
   }
  },
  {
   "cell_type": "code",
   "execution_count": null,
   "outputs": [],
   "source": [
    "## Overall, the RMSE increased in the forwards dataframe but not in the others, in fact, for defenders and goalkeepers, it has seen significant improvement\n",
    "## I will focus on improving the modelling for the forwards dataframe, assuming that what I do to the forwards dataframe to improve RMSE will also improve RMSE for the others"
   ],
   "metadata": {
    "collapsed": false
   }
  },
  {
   "cell_type": "markdown",
   "source": [
    "## Model 5"
   ],
   "metadata": {
    "collapsed": false
   }
  },
  {
   "cell_type": "code",
   "execution_count": 118,
   "outputs": [],
   "source": [
    "## Before coming up with this model, I had tested Model 4 with different scalings in the features\n",
    "## But this did not improve the RMSE and so I will not show them here\n",
    "## Now for model 5, I will split up the forwards dataframe into two dataframe using the potential score\n",
    "\n",
    "X_forwards = df_encoded[df_encoded['position'] == 'Attack'].copy()\n",
    "\n",
    "X_forwards = pd.get_dummies(X_forwards, columns=['sub_position'], drop_first=True)"
   ],
   "metadata": {
    "collapsed": false
   }
  },
  {
   "cell_type": "code",
   "execution_count": 119,
   "outputs": [],
   "source": [
    "## The value of 79 comes from the fact that it splits the forwards dataframe into the upper quartile and the lower 3 quartiles\n",
    "\n",
    "X_forwards_1 = X_forwards[X_forwards['potential_score'] >= 79].copy()"
   ],
   "metadata": {
    "collapsed": false
   }
  },
  {
   "cell_type": "code",
   "execution_count": 120,
   "outputs": [],
   "source": [
    "## The index becomes quite messy, so we reset them\n",
    "\n",
    "index = X_forwards[X_forwards['potential_score'] >= 79].index\n",
    "X_forwards.drop(index, inplace=True)\n",
    "X_forwards_1.reset_index(inplace=True)\n",
    "X_forwards.reset_index(inplace=True)"
   ],
   "metadata": {
    "collapsed": false
   }
  },
  {
   "cell_type": "code",
   "execution_count": 121,
   "outputs": [
    {
     "data": {
      "text/plain": "Joao Pedro          6\nAntony              4\nRaul Garcia         4\nBerna               2\nJoaquin             2\n                   ..\nAndrea Pinamonti    1\nArmand Lauriente    1\nLevi Garcia         1\nNils Mortimer       1\nYari Verschaeren    1\nName: name, Length: 616, dtype: int64"
     },
     "execution_count": 121,
     "metadata": {},
     "output_type": "execute_result"
    }
   ],
   "source": [
    "## We have some errors from joining the 2 datasets\n",
    "## I want to drop them here\n",
    "\n",
    "X_forwards_1['name'].value_counts()"
   ],
   "metadata": {
    "collapsed": false
   }
  },
  {
   "cell_type": "code",
   "execution_count": 122,
   "outputs": [],
   "source": [
    "## Using for loop, we get rid of the rows\n",
    "## I have chosen to keep the player with the highest market value and higher potential score as we are working with the upper quartile\n",
    "\n",
    "names_list = ['Joao Pedro', 'Pepe', 'Luis Diaz', 'Andre Silva', 'Vitinha', 'Antony', 'Luis Javier Suarez',\n",
    "              'Raul Garcia', 'Pepe', 'Danilo', 'Fernando', 'Nuno Santos', 'Berna', 'Joaquin']\n",
    "\n",
    "for names in names_list:\n",
    "    index = X_forwards_1[X_forwards_1['name'] == names].index\n",
    "    maximum = max(list(X_forwards_1['market_value_in_eur'].loc[index]))\n",
    "    index = X_forwards_1[X_forwards_1['name'] == names][X_forwards_1.loc[index]['market_value_in_eur'] != maximum].index\n",
    "    X_forwards_1.drop(index, inplace=True)\n",
    "\n",
    "for names in names_list:\n",
    "    index = X_forwards_1[X_forwards_1['name'] == names].index\n",
    "    maximum = max(list(X_forwards_1['potential_score'].loc[index]))\n",
    "    index = X_forwards_1[X_forwards_1['name'] == names][X_forwards_1.loc[index]['potential_score'] != maximum].index\n",
    "    X_forwards_1.drop(index, inplace=True)"
   ],
   "metadata": {
    "collapsed": false
   }
  },
  {
   "cell_type": "code",
   "execution_count": 123,
   "outputs": [],
   "source": [
    "X_forwards_1.reset_index(inplace=True)\n",
    "X_forwards_1.drop(columns=['level_0', 'index'], inplace=True)\n",
    "X_forwards.drop(columns='index', inplace=True)\n",
    "\n",
    "feature_columns = list(X_forwards_1.columns)\n",
    "for columns in ['name', 'current_club_name', 'country_of_citizenship', 'market_value_in_eur',\n",
    "                'contract_expiration_date', 'Goalkeeping', 'Defence', 'position']:\n",
    "    feature_columns.remove(columns)\n"
   ],
   "metadata": {
    "collapsed": false
   }
  },
  {
   "cell_type": "code",
   "execution_count": 128,
   "outputs": [
    {
     "name": "stdout",
     "output_type": "stream",
     "text": [
      "the RMSE is 13420886.15577307\n"
     ]
    }
   ],
   "source": [
    "## RMSE for the forward 79+ set (training)\n",
    "\n",
    "results = statsmodel_log(X_forwards_1, 'market_value_in_eur', feature_columns, 1)"
   ],
   "metadata": {
    "collapsed": false
   }
  },
  {
   "cell_type": "code",
   "execution_count": 129,
   "outputs": [
    {
     "name": "stdout",
     "output_type": "stream",
     "text": [
      "the RMSE is 2228161.298190718\n"
     ]
    }
   ],
   "source": [
    "## RMSE for the forward 79- set (training)\n",
    "\n",
    "results = statsmodel_log(X_forwards, 'market_value_in_eur', feature_columns, 1)"
   ],
   "metadata": {
    "collapsed": false
   }
  },
  {
   "cell_type": "code",
   "execution_count": 130,
   "outputs": [],
   "source": [
    "## As expected, the RMSE for the upper quartile is much worse than the other models\n",
    "## However, for the lower 3 quartiles, it significantly improved\n",
    "## Moving forward, I tried different regularisation techniques and tried to see if they improved the score"
   ],
   "metadata": {
    "collapsed": false
   }
  },
  {
   "cell_type": "code",
   "execution_count": 132,
   "outputs": [],
   "source": [
    "## the different linear models\n",
    "## to run for the outlier set, run the cell 'forward 79+ set' and don't run the cell 'forward 79- set'\n",
    "\n",
    "reg_las = linear_model.Lasso(alpha = 0.5)\n",
    "reg_rdg = linear_model.Ridge(alpha = 0.5)\n",
    "reg_en = linear_model.ElasticNet(alpha = 0.5)\n",
    "\n",
    "las_results = reg_las.fit(X_train[feature_columns], y_train)\n",
    "rdg_results = reg_rdg.fit(X_train[feature_columns], y_train)\n",
    "en_results = reg_en.fit(X_train[feature_columns], y_train)"
   ],
   "metadata": {
    "collapsed": false
   }
  },
  {
   "cell_type": "code",
   "execution_count": 133,
   "outputs": [],
   "source": [
    "# predictions\n",
    "\n",
    "X_train['las_y_pred'] = las_results.predict(X_train[feature_columns])\n",
    "X_train['rdg_y_pred'] = rdg_results.predict(X_train[feature_columns])\n",
    "X_train['en_y_pred'] = en_results.predict(X_train[feature_columns])"
   ],
   "metadata": {
    "collapsed": false
   }
  },
  {
   "cell_type": "code",
   "execution_count": 134,
   "outputs": [
    {
     "name": "stdout",
     "output_type": "stream",
     "text": [
      "2994188.7309383727\n"
     ]
    }
   ],
   "source": [
    "## RMSE for lasso\n",
    "\n",
    "rmse = statsmodels.tools.eval_measures.rmse(np.exp(y_train), np.exp(X_train['las_y_pred']))\n",
    "print(rmse)"
   ],
   "metadata": {
    "collapsed": false
   }
  },
  {
   "cell_type": "code",
   "execution_count": 135,
   "outputs": [
    {
     "name": "stdout",
     "output_type": "stream",
     "text": [
      "2844099.351538543\n"
     ]
    }
   ],
   "source": [
    "## RMSE for elastic net\n",
    "\n",
    "rmse = statsmodels.tools.eval_measures.rmse(np.exp(y_train), np.exp(X_train['en_y_pred']))\n",
    "print(rmse)"
   ],
   "metadata": {
    "collapsed": false
   }
  },
  {
   "cell_type": "code",
   "execution_count": 136,
   "outputs": [
    {
     "name": "stdout",
     "output_type": "stream",
     "text": [
      "2234567.4798073573\n"
     ]
    }
   ],
   "source": [
    "## RMSE for ridge\n",
    "\n",
    "rmse = statsmodels.tools.eval_measures.rmse(np.exp(y_train), np.exp(X_train['rdg_y_pred']))\n",
    "print(rmse)"
   ],
   "metadata": {
    "collapsed": false
   }
  },
  {
   "cell_type": "code",
   "execution_count": 137,
   "outputs": [],
   "source": [
    "## It seems like Ridge is better on the 79- set, while elastic net seems better on the 79+ set"
   ],
   "metadata": {
    "collapsed": false
   }
  },
  {
   "cell_type": "code",
   "execution_count": null,
   "outputs": [],
   "source": [
    "## To further improve the RMSE, I ran a gridsearch to find the optimal hyperparameters for each dataset"
   ],
   "metadata": {
    "collapsed": false
   }
  },
  {
   "cell_type": "code",
   "execution_count": 140,
   "outputs": [
    {
     "name": "stdout",
     "output_type": "stream",
     "text": [
      "the RMSE is 13420886.15577307\n"
     ]
    }
   ],
   "source": [
    "## for 79+ set\n",
    "## RMSE before\n",
    "\n",
    "results = statsmodel_log(X_forwards_1, 'market_value_in_eur', feature_columns, 1)"
   ],
   "metadata": {
    "collapsed": false
   }
  },
  {
   "cell_type": "code",
   "execution_count": 141,
   "outputs": [],
   "source": [
    "model = ElasticNet()\n",
    "cv = RepeatedKFold(n_splits=2, n_repeats=1, random_state=42)\n",
    "param = {\n",
    "    'alpha': [0.5, 1, 5, 10, 25, 100],\n",
    "    'positive': [True, False]\n",
    "}"
   ],
   "metadata": {
    "collapsed": false
   }
  },
  {
   "cell_type": "code",
   "execution_count": 142,
   "outputs": [],
   "source": [
    "search = GridSearchCV(model, param, scoring='neg_root_mean_squared_error', n_jobs=-1, cv=cv)"
   ],
   "metadata": {
    "collapsed": false
   }
  },
  {
   "cell_type": "code",
   "execution_count": 143,
   "outputs": [
    {
     "name": "stdout",
     "output_type": "stream",
     "text": [
      "Best Score: -0.6986915941145502\n",
      "Best Hyperparameters: {'alpha': 0.5, 'positive': False}\n"
     ]
    }
   ],
   "source": [
    "## the best hyperparameters\n",
    "\n",
    "result = search.fit(X_train[feature_columns], y_train)\n",
    "print('Best Score: %s' % result.best_score_)\n",
    "print('Best Hyperparameters: %s' % result.best_params_)"
   ],
   "metadata": {
    "collapsed": false
   }
  },
  {
   "cell_type": "code",
   "execution_count": 144,
   "outputs": [],
   "source": [
    "## predicting using the new hyperparameters\n",
    "\n",
    "reg_en = linear_model.ElasticNet(alpha = 0.5, positive= False, max_iter = 1000)\n",
    "en_results = reg_en.fit(X_train[feature_columns], y_train)\n",
    "X_train['en_y_pred'] = en_results.predict(X_train[feature_columns])"
   ],
   "metadata": {
    "collapsed": false
   }
  },
  {
   "cell_type": "code",
   "execution_count": 146,
   "outputs": [
    {
     "name": "stdout",
     "output_type": "stream",
     "text": [
      "9697886.118809404\n"
     ]
    }
   ],
   "source": [
    "## RMSE for the training set\n",
    "\n",
    "rmse = statsmodels.tools.eval_measures.rmse(np.exp(y_train), np.exp(X_train['en_y_pred']))\n",
    "print(rmse)"
   ],
   "metadata": {
    "collapsed": false
   }
  },
  {
   "cell_type": "code",
   "execution_count": 148,
   "outputs": [
    {
     "name": "stdout",
     "output_type": "stream",
     "text": [
      "7574165.397240184\n"
     ]
    }
   ],
   "source": [
    "## RMSE for the testing set\n",
    "\n",
    "X_test['en_y_pred'] = en_results.predict(X_test[feature_columns])\n",
    "rmse = statsmodels.tools.eval_measures.rmse(np.exp(y_test), np.exp(X_test['en_y_pred']))\n",
    "print(rmse)"
   ],
   "metadata": {
    "collapsed": false
   }
  },
  {
   "cell_type": "code",
   "execution_count": null,
   "outputs": [],
   "source": [
    "## We see an improvement in the RMSE for the 79+ set, however this is an underfitting model\n",
    "## This is expected, since the extremely outliers are in this set, and they heavily influence the market value modelling"
   ],
   "metadata": {
    "collapsed": false
   }
  },
  {
   "cell_type": "code",
   "execution_count": 150,
   "outputs": [
    {
     "name": "stdout",
     "output_type": "stream",
     "text": [
      "the RMSE is 2228161.298190718\n"
     ]
    }
   ],
   "source": [
    "## for 79- set\n",
    "## RMSE before\n",
    "\n",
    "results = statsmodel_log(X_forwards, 'market_value_in_eur', feature_columns, 1)"
   ],
   "metadata": {
    "collapsed": false
   }
  },
  {
   "cell_type": "code",
   "execution_count": 152,
   "outputs": [],
   "source": [
    "model = Ridge()\n",
    "cv = RepeatedKFold(n_splits=7, n_repeats=1, random_state=42)\n",
    "param = {\n",
    "    'solver':['auto', 'svd', 'cholesky', 'lsqr', 'sparse_cg', 'sag', 'saga', 'lbfgs'],\n",
    "    'alpha': [0.5, 1, 5, 10, 25, 100],\n",
    "    'positive': [True, False]\n",
    "}"
   ],
   "metadata": {
    "collapsed": false
   }
  },
  {
   "cell_type": "code",
   "execution_count": 153,
   "outputs": [],
   "source": [
    "search = GridSearchCV(model, param, scoring='neg_root_mean_squared_error', n_jobs=-1, cv=cv)\n",
    "\n"
   ],
   "metadata": {
    "collapsed": false
   }
  },
  {
   "cell_type": "code",
   "execution_count": 154,
   "outputs": [
    {
     "name": "stdout",
     "output_type": "stream",
     "text": [
      "Best Score: -0.6865525394391699\n",
      "Best Hyperparameters: {'alpha': 10, 'positive': False, 'solver': 'sparse_cg'}\n"
     ]
    },
    {
     "name": "stderr",
     "output_type": "stream",
     "text": [
      "C:\\Users\\james\\anaconda3\\lib\\site-packages\\sklearn\\model_selection\\_validation.py:372: FitFailedWarning: \n",
      "294 fits failed out of a total of 672.\n",
      "The score on these train-test partitions for these parameters will be set to nan.\n",
      "If these failures are not expected, you can try to debug them by setting error_score='raise'.\n",
      "\n",
      "Below are more details about the failures:\n",
      "--------------------------------------------------------------------------------\n",
      "42 fits failed with the following error:\n",
      "Traceback (most recent call last):\n",
      "  File \"C:\\Users\\james\\anaconda3\\lib\\site-packages\\sklearn\\model_selection\\_validation.py\", line 680, in _fit_and_score\n",
      "    estimator.fit(X_train, y_train, **fit_params)\n",
      "  File \"C:\\Users\\james\\anaconda3\\lib\\site-packages\\sklearn\\linear_model\\_ridge.py\", line 1011, in fit\n",
      "    return super().fit(X, y, sample_weight=sample_weight)\n",
      "  File \"C:\\Users\\james\\anaconda3\\lib\\site-packages\\sklearn\\linear_model\\_ridge.py\", line 712, in fit\n",
      "    raise ValueError(\n",
      "ValueError: solver='svd' does not support positive fitting. Please set the solver to 'auto' or 'lbfgs', or set `positive=False`\n",
      "\n",
      "--------------------------------------------------------------------------------\n",
      "42 fits failed with the following error:\n",
      "Traceback (most recent call last):\n",
      "  File \"C:\\Users\\james\\anaconda3\\lib\\site-packages\\sklearn\\model_selection\\_validation.py\", line 680, in _fit_and_score\n",
      "    estimator.fit(X_train, y_train, **fit_params)\n",
      "  File \"C:\\Users\\james\\anaconda3\\lib\\site-packages\\sklearn\\linear_model\\_ridge.py\", line 1011, in fit\n",
      "    return super().fit(X, y, sample_weight=sample_weight)\n",
      "  File \"C:\\Users\\james\\anaconda3\\lib\\site-packages\\sklearn\\linear_model\\_ridge.py\", line 712, in fit\n",
      "    raise ValueError(\n",
      "ValueError: solver='cholesky' does not support positive fitting. Please set the solver to 'auto' or 'lbfgs', or set `positive=False`\n",
      "\n",
      "--------------------------------------------------------------------------------\n",
      "42 fits failed with the following error:\n",
      "Traceback (most recent call last):\n",
      "  File \"C:\\Users\\james\\anaconda3\\lib\\site-packages\\sklearn\\model_selection\\_validation.py\", line 680, in _fit_and_score\n",
      "    estimator.fit(X_train, y_train, **fit_params)\n",
      "  File \"C:\\Users\\james\\anaconda3\\lib\\site-packages\\sklearn\\linear_model\\_ridge.py\", line 1011, in fit\n",
      "    return super().fit(X, y, sample_weight=sample_weight)\n",
      "  File \"C:\\Users\\james\\anaconda3\\lib\\site-packages\\sklearn\\linear_model\\_ridge.py\", line 712, in fit\n",
      "    raise ValueError(\n",
      "ValueError: solver='lsqr' does not support positive fitting. Please set the solver to 'auto' or 'lbfgs', or set `positive=False`\n",
      "\n",
      "--------------------------------------------------------------------------------\n",
      "42 fits failed with the following error:\n",
      "Traceback (most recent call last):\n",
      "  File \"C:\\Users\\james\\anaconda3\\lib\\site-packages\\sklearn\\model_selection\\_validation.py\", line 680, in _fit_and_score\n",
      "    estimator.fit(X_train, y_train, **fit_params)\n",
      "  File \"C:\\Users\\james\\anaconda3\\lib\\site-packages\\sklearn\\linear_model\\_ridge.py\", line 1011, in fit\n",
      "    return super().fit(X, y, sample_weight=sample_weight)\n",
      "  File \"C:\\Users\\james\\anaconda3\\lib\\site-packages\\sklearn\\linear_model\\_ridge.py\", line 712, in fit\n",
      "    raise ValueError(\n",
      "ValueError: solver='sparse_cg' does not support positive fitting. Please set the solver to 'auto' or 'lbfgs', or set `positive=False`\n",
      "\n",
      "--------------------------------------------------------------------------------\n",
      "42 fits failed with the following error:\n",
      "Traceback (most recent call last):\n",
      "  File \"C:\\Users\\james\\anaconda3\\lib\\site-packages\\sklearn\\model_selection\\_validation.py\", line 680, in _fit_and_score\n",
      "    estimator.fit(X_train, y_train, **fit_params)\n",
      "  File \"C:\\Users\\james\\anaconda3\\lib\\site-packages\\sklearn\\linear_model\\_ridge.py\", line 1011, in fit\n",
      "    return super().fit(X, y, sample_weight=sample_weight)\n",
      "  File \"C:\\Users\\james\\anaconda3\\lib\\site-packages\\sklearn\\linear_model\\_ridge.py\", line 712, in fit\n",
      "    raise ValueError(\n",
      "ValueError: solver='sag' does not support positive fitting. Please set the solver to 'auto' or 'lbfgs', or set `positive=False`\n",
      "\n",
      "--------------------------------------------------------------------------------\n",
      "42 fits failed with the following error:\n",
      "Traceback (most recent call last):\n",
      "  File \"C:\\Users\\james\\anaconda3\\lib\\site-packages\\sklearn\\model_selection\\_validation.py\", line 680, in _fit_and_score\n",
      "    estimator.fit(X_train, y_train, **fit_params)\n",
      "  File \"C:\\Users\\james\\anaconda3\\lib\\site-packages\\sklearn\\linear_model\\_ridge.py\", line 1011, in fit\n",
      "    return super().fit(X, y, sample_weight=sample_weight)\n",
      "  File \"C:\\Users\\james\\anaconda3\\lib\\site-packages\\sklearn\\linear_model\\_ridge.py\", line 712, in fit\n",
      "    raise ValueError(\n",
      "ValueError: solver='saga' does not support positive fitting. Please set the solver to 'auto' or 'lbfgs', or set `positive=False`\n",
      "\n",
      "--------------------------------------------------------------------------------\n",
      "42 fits failed with the following error:\n",
      "Traceback (most recent call last):\n",
      "  File \"C:\\Users\\james\\anaconda3\\lib\\site-packages\\sklearn\\model_selection\\_validation.py\", line 680, in _fit_and_score\n",
      "    estimator.fit(X_train, y_train, **fit_params)\n",
      "  File \"C:\\Users\\james\\anaconda3\\lib\\site-packages\\sklearn\\linear_model\\_ridge.py\", line 1011, in fit\n",
      "    return super().fit(X, y, sample_weight=sample_weight)\n",
      "  File \"C:\\Users\\james\\anaconda3\\lib\\site-packages\\sklearn\\linear_model\\_ridge.py\", line 705, in fit\n",
      "    raise ValueError(\n",
      "ValueError: 'lbfgs' solver can be used only when positive=True. Please use another solver.\n",
      "\n",
      "  warnings.warn(some_fits_failed_message, FitFailedWarning)\n",
      "C:\\Users\\james\\anaconda3\\lib\\site-packages\\sklearn\\model_selection\\_search.py:969: UserWarning: One or more of the test scores are non-finite: [-0.76284178         nan         nan         nan         nan         nan\n",
      "         nan -0.76284178 -0.69151777 -0.69151777 -0.69151777 -0.68789956\n",
      " -0.68814017 -0.68704621 -0.68821394         nan -0.76283316         nan\n",
      "         nan         nan         nan         nan         nan -0.76283316\n",
      " -0.69082713 -0.69082713 -0.69082713 -0.68775205 -0.68794761 -0.68707365\n",
      " -0.68824991         nan -0.76303466         nan         nan         nan\n",
      "         nan         nan         nan -0.76303466 -0.68811284 -0.68811284\n",
      " -0.68811284 -0.68693642 -0.68692155 -0.68733534 -0.68857439         nan\n",
      " -0.76262643         nan         nan         nan         nan         nan\n",
      "         nan -0.76262643 -0.68704809 -0.68704809 -0.68704809 -0.68951029\n",
      " -0.68655254 -0.68774692 -0.68904983         nan -0.76279928         nan\n",
      "         nan         nan         nan         nan         nan -0.76279928\n",
      " -0.68757136 -0.68757136 -0.68757136 -0.68968619 -0.68741147 -0.68929644\n",
      " -0.69068516         nan -0.76313092         nan         nan         nan\n",
      "         nan         nan         nan -0.76313092 -0.69652721 -0.69652721\n",
      " -0.69652721 -0.69686564 -0.69686567 -0.69756256 -0.69848918         nan]\n",
      "  warnings.warn(\n"
     ]
    }
   ],
   "source": [
    "## finding the best hyperparameters\n",
    "\n",
    "result = search.fit(X_train[feature_columns], y_train)\n",
    "print('Best Score: %s' % result.best_score_)\n",
    "print('Best Hyperparameters: %s' % result.best_params_)"
   ],
   "metadata": {
    "collapsed": false
   }
  },
  {
   "cell_type": "code",
   "execution_count": 155,
   "outputs": [],
   "source": [
    "## modelling using new hyperparameters and predicting on training set\n",
    "\n",
    "reg_rdg = linear_model.Ridge(alpha = 10, positive= False ,solver= 'sparse_cg')\n",
    "rdg_results = reg_rdg.fit(X_train[feature_columns], y_train)\n",
    "X_train['rdg_y_pred'] = rdg_results.predict(X_train[feature_columns])"
   ],
   "metadata": {
    "collapsed": false
   }
  },
  {
   "cell_type": "code",
   "execution_count": 158,
   "outputs": [
    {
     "name": "stdout",
     "output_type": "stream",
     "text": [
      "2256893.5398448906\n"
     ]
    }
   ],
   "source": [
    "## RMSE for train\n",
    "\n",
    "rmse = statsmodels.tools.eval_measures.rmse(np.exp(y_train), np.exp(X_train['rdg_y_pred']))\n",
    "print(rmse)"
   ],
   "metadata": {
    "collapsed": false
   }
  },
  {
   "cell_type": "code",
   "execution_count": 160,
   "outputs": [
    {
     "name": "stdout",
     "output_type": "stream",
     "text": [
      "4512131.055263945\n"
     ]
    }
   ],
   "source": [
    "## RMSE for testing set\n",
    "\n",
    "X_test['rdg_y_pred'] = rdg_results.predict(X_test[feature_columns])\n",
    "rmse = statsmodels.tools.eval_measures.rmse(np.exp(y_test), np.exp(X_test['rdg_y_pred']))\n",
    "print(rmse)"
   ],
   "metadata": {
    "collapsed": false
   }
  },
  {
   "cell_type": "code",
   "execution_count": 161,
   "outputs": [],
   "source": [
    "## Here, we have an overfitting model\n",
    "## I conclude from these results that a different split may be better"
   ],
   "metadata": {
    "collapsed": false
   }
  },
  {
   "cell_type": "markdown",
   "source": [
    "## Model 6"
   ],
   "metadata": {
    "collapsed": false
   }
  },
  {
   "cell_type": "code",
   "execution_count": 181,
   "outputs": [],
   "source": [
    "## From the EDA, we know that market values of players in different competitions varies\n",
    "## Now, I want to group players from the top 5 leagues together and the rest as other\n",
    "## Then split them into 2 dataframes according to the type of competition they are in\n",
    "## My own domain knowledge has helped in this, because I know the top 5 leagues in Europe\n",
    "\n",
    "def comp_groups(x):\n",
    "    comps = ['GB1', 'ES1', 'FR1', 'IT1', 'L1']\n",
    "\n",
    "    if x not in comps:\n",
    "        return 'other'\n",
    "    else:\n",
    "        return 'major'"
   ],
   "metadata": {
    "collapsed": false
   }
  },
  {
   "cell_type": "code",
   "execution_count": 182,
   "outputs": [
    {
     "data": {
      "text/plain": "                 name     current_club_name country_of_citizenship  position  \\\n0        Lenny Joseph               Fc Metz                 France    Attack   \n1      Mamadou Camara          Es Troyes Ac                 France    Attack   \n2      Mamadou Camara          Es Troyes Ac                 France    Attack   \n3      Mamadou Camara               Rc Lens                Senegal  Midfield   \n4      Mamadou Camara               Rc Lens                Senegal  Midfield   \n5          Robin Kehr  Spvgg Greuther Furth                Germany    Attack   \n6       Yohann Thuram        Ionikos Nikeas                 Brazil    Attack   \n7     Benjamin Tetteh      Yeni Malatyaspor                  Ghana    Attack   \n8       Stevie Mallan      Yeni Malatyaspor               Scotland  Midfield   \n9        Didier Ndong      Yeni Malatyaspor                  Gabon  Midfield   \n10       Gaston Campi      Yeni Malatyaspor              Argentina  Defender   \n11    Oussama Haddadi      Yeni Malatyaspor                Tunisia  Defender   \n12            Wallace      Yeni Malatyaspor                 Brazil  Defender   \n13          Rey Manaj         Spezia Calcio                Albania    Attack   \n14      Eddie Salcedo         Spezia Calcio                  Italy    Attack   \n15      Janis Antiste         Spezia Calcio                 France    Attack   \n16      David Strelec         Spezia Calcio               Slovakia    Attack   \n17  Aurelien Nguiamba         Spezia Calcio                 France  Midfield   \n18       Luca Vignali         Spezia Calcio                  Italy  Defender   \n19      Petko Hristov         Spezia Calcio               Bulgaria  Defender   \n\n          sub_position  market_value_in_eur contract_expiration_date  \\\n0       Centre-Forward             400000.0               2024-06-30   \n1       Centre-Forward             400000.0               2025-06-30   \n2       Centre-Forward             400000.0               2025-06-30   \n3     Central Midfield             250000.0               2024-06-30   \n4     Central Midfield             250000.0               2024-06-30   \n5       Centre-Forward             100000.0               2023-06-30   \n6       Centre-Forward             325000.0               2023-06-30   \n7       Centre-Forward            2000000.0               2024-06-30   \n8     Central Midfield             500000.0               2024-06-30   \n9     Central Midfield            1500000.0               2023-06-30   \n10         Centre-Back             375000.0               2023-12-31   \n11         Centre-Back             800000.0               2024-06-30   \n12         Centre-Back            1000000.0               2023-12-31   \n13      Centre-Forward            1500000.0               2025-06-30   \n14      Centre-Forward            2700000.0               2023-06-30   \n15      Centre-Forward            4000000.0               2023-06-30   \n16      Centre-Forward            1300000.0               2026-06-30   \n17  Defensive Midfield             300000.0               2024-06-30   \n18          Right-Back            1000000.0               2025-06-30   \n19         Centre-Back            1000000.0               2025-06-30   \n\n   current_club_domestic_competition_id  overall_score  potential_score  ...  \\\n0                                   FR1             64               73  ...   \n1                                   FR1             61               70  ...   \n2                                   FR1             60               70  ...   \n3                                   FR1             61               70  ...   \n4                                   FR1             60               70  ...   \n5                                    L1             63               75  ...   \n6                                   GR1             64               64  ...   \n7                                   TR1             72               76  ...   \n8                                   TR1             64               65  ...   \n9                                   TR1             69               70  ...   \n10                                  TR1             68               68  ...   \n11                                  TR1             68               68  ...   \n12                                  TR1             73               75  ...   \n13                                  IT1             72               76  ...   \n14                                  IT1             68               79  ...   \n15                                  IT1             68               79  ...   \n16                                  IT1             64               72  ...   \n17                                  IT1             64               71  ...   \n18                                  IT1             69               70  ...   \n19                                  IT1             67               75  ...   \n\n    ball_skills  Defence     Mental    Passing   Physical  Shooting  \\\n0          60.0     15.0  45.166667  51.000000  67.142857    59.125   \n1          62.0     22.0  40.666667  48.666667  61.714286    55.375   \n2          62.0     56.5  56.666667  57.666667  50.000000    42.000   \n3          62.0     22.0  40.666667  48.666667  61.714286    55.375   \n4          62.0     56.5  56.666667  57.666667  50.000000    42.000   \n5          62.5     24.0  43.666667  54.666667  70.857143    52.375   \n6          12.0     13.0  35.166667  26.000000  53.142857    20.000   \n7          72.5     25.5  59.833333  58.333333  71.571429    61.750   \n8          63.5     60.5  61.333333  66.333333  67.857143    63.500   \n9          65.0     63.0  67.000000  67.333333  74.428571    59.125   \n10         65.5     68.0  65.000000  61.333333  47.142857    49.625   \n11         62.0     69.0  63.833333  62.666667  67.142857    45.250   \n12         48.5     71.0  58.000000  47.666667  63.571429    38.250   \n13         72.0     17.5  56.000000  52.333333  67.714286    65.000   \n14         77.5     33.5  52.666667  61.333333  71.000000    58.625   \n15         70.0     14.5  48.000000  47.666667  69.285714    62.375   \n16         64.5     30.0  53.666667  51.333333  56.714286    57.375   \n17         62.0     58.5  61.833333  59.666667  67.571429    45.500   \n18         65.0     64.5  61.666667  63.666667  68.857143    57.625   \n19         38.0     71.5  54.666667  41.000000  51.428571    39.125   \n\n    Goalkeeping  preferred_foot_Right  country_groups  comp_groups  \n0          10.8                     1          France        major  \n1          10.6                     1          France        major  \n2           8.6                     0          France        major  \n3          10.6                     1         Senegal        major  \n4           8.6                     0         Senegal        major  \n5          11.0                     0         Germany        major  \n6          61.6                     1          Brazil        other  \n7           9.4                     1           other        other  \n8           8.0                     1        Scotland        other  \n9          12.2                     1           other        other  \n10         10.2                     0       Argentina        other  \n11          9.8                     0           other        other  \n12         11.6                     1          Brazil        other  \n13          9.4                     1           other        major  \n14          9.4                     1           Italy        major  \n15         11.8                     1          France        major  \n16          9.6                     0           other        major  \n17         10.4                     0          France        major  \n18          9.6                     1           Italy        major  \n19          9.4                     1           other        major  \n\n[20 rows x 23 columns]",
      "text/html": "<div>\n<style scoped>\n    .dataframe tbody tr th:only-of-type {\n        vertical-align: middle;\n    }\n\n    .dataframe tbody tr th {\n        vertical-align: top;\n    }\n\n    .dataframe thead th {\n        text-align: right;\n    }\n</style>\n<table border=\"1\" class=\"dataframe\">\n  <thead>\n    <tr style=\"text-align: right;\">\n      <th></th>\n      <th>name</th>\n      <th>current_club_name</th>\n      <th>country_of_citizenship</th>\n      <th>position</th>\n      <th>sub_position</th>\n      <th>market_value_in_eur</th>\n      <th>contract_expiration_date</th>\n      <th>current_club_domestic_competition_id</th>\n      <th>overall_score</th>\n      <th>potential_score</th>\n      <th>...</th>\n      <th>ball_skills</th>\n      <th>Defence</th>\n      <th>Mental</th>\n      <th>Passing</th>\n      <th>Physical</th>\n      <th>Shooting</th>\n      <th>Goalkeeping</th>\n      <th>preferred_foot_Right</th>\n      <th>country_groups</th>\n      <th>comp_groups</th>\n    </tr>\n  </thead>\n  <tbody>\n    <tr>\n      <th>0</th>\n      <td>Lenny Joseph</td>\n      <td>Fc Metz</td>\n      <td>France</td>\n      <td>Attack</td>\n      <td>Centre-Forward</td>\n      <td>400000.0</td>\n      <td>2024-06-30</td>\n      <td>FR1</td>\n      <td>64</td>\n      <td>73</td>\n      <td>...</td>\n      <td>60.0</td>\n      <td>15.0</td>\n      <td>45.166667</td>\n      <td>51.000000</td>\n      <td>67.142857</td>\n      <td>59.125</td>\n      <td>10.8</td>\n      <td>1</td>\n      <td>France</td>\n      <td>major</td>\n    </tr>\n    <tr>\n      <th>1</th>\n      <td>Mamadou Camara</td>\n      <td>Es Troyes Ac</td>\n      <td>France</td>\n      <td>Attack</td>\n      <td>Centre-Forward</td>\n      <td>400000.0</td>\n      <td>2025-06-30</td>\n      <td>FR1</td>\n      <td>61</td>\n      <td>70</td>\n      <td>...</td>\n      <td>62.0</td>\n      <td>22.0</td>\n      <td>40.666667</td>\n      <td>48.666667</td>\n      <td>61.714286</td>\n      <td>55.375</td>\n      <td>10.6</td>\n      <td>1</td>\n      <td>France</td>\n      <td>major</td>\n    </tr>\n    <tr>\n      <th>2</th>\n      <td>Mamadou Camara</td>\n      <td>Es Troyes Ac</td>\n      <td>France</td>\n      <td>Attack</td>\n      <td>Centre-Forward</td>\n      <td>400000.0</td>\n      <td>2025-06-30</td>\n      <td>FR1</td>\n      <td>60</td>\n      <td>70</td>\n      <td>...</td>\n      <td>62.0</td>\n      <td>56.5</td>\n      <td>56.666667</td>\n      <td>57.666667</td>\n      <td>50.000000</td>\n      <td>42.000</td>\n      <td>8.6</td>\n      <td>0</td>\n      <td>France</td>\n      <td>major</td>\n    </tr>\n    <tr>\n      <th>3</th>\n      <td>Mamadou Camara</td>\n      <td>Rc Lens</td>\n      <td>Senegal</td>\n      <td>Midfield</td>\n      <td>Central Midfield</td>\n      <td>250000.0</td>\n      <td>2024-06-30</td>\n      <td>FR1</td>\n      <td>61</td>\n      <td>70</td>\n      <td>...</td>\n      <td>62.0</td>\n      <td>22.0</td>\n      <td>40.666667</td>\n      <td>48.666667</td>\n      <td>61.714286</td>\n      <td>55.375</td>\n      <td>10.6</td>\n      <td>1</td>\n      <td>Senegal</td>\n      <td>major</td>\n    </tr>\n    <tr>\n      <th>4</th>\n      <td>Mamadou Camara</td>\n      <td>Rc Lens</td>\n      <td>Senegal</td>\n      <td>Midfield</td>\n      <td>Central Midfield</td>\n      <td>250000.0</td>\n      <td>2024-06-30</td>\n      <td>FR1</td>\n      <td>60</td>\n      <td>70</td>\n      <td>...</td>\n      <td>62.0</td>\n      <td>56.5</td>\n      <td>56.666667</td>\n      <td>57.666667</td>\n      <td>50.000000</td>\n      <td>42.000</td>\n      <td>8.6</td>\n      <td>0</td>\n      <td>Senegal</td>\n      <td>major</td>\n    </tr>\n    <tr>\n      <th>5</th>\n      <td>Robin Kehr</td>\n      <td>Spvgg Greuther Furth</td>\n      <td>Germany</td>\n      <td>Attack</td>\n      <td>Centre-Forward</td>\n      <td>100000.0</td>\n      <td>2023-06-30</td>\n      <td>L1</td>\n      <td>63</td>\n      <td>75</td>\n      <td>...</td>\n      <td>62.5</td>\n      <td>24.0</td>\n      <td>43.666667</td>\n      <td>54.666667</td>\n      <td>70.857143</td>\n      <td>52.375</td>\n      <td>11.0</td>\n      <td>0</td>\n      <td>Germany</td>\n      <td>major</td>\n    </tr>\n    <tr>\n      <th>6</th>\n      <td>Yohann Thuram</td>\n      <td>Ionikos Nikeas</td>\n      <td>Brazil</td>\n      <td>Attack</td>\n      <td>Centre-Forward</td>\n      <td>325000.0</td>\n      <td>2023-06-30</td>\n      <td>GR1</td>\n      <td>64</td>\n      <td>64</td>\n      <td>...</td>\n      <td>12.0</td>\n      <td>13.0</td>\n      <td>35.166667</td>\n      <td>26.000000</td>\n      <td>53.142857</td>\n      <td>20.000</td>\n      <td>61.6</td>\n      <td>1</td>\n      <td>Brazil</td>\n      <td>other</td>\n    </tr>\n    <tr>\n      <th>7</th>\n      <td>Benjamin Tetteh</td>\n      <td>Yeni Malatyaspor</td>\n      <td>Ghana</td>\n      <td>Attack</td>\n      <td>Centre-Forward</td>\n      <td>2000000.0</td>\n      <td>2024-06-30</td>\n      <td>TR1</td>\n      <td>72</td>\n      <td>76</td>\n      <td>...</td>\n      <td>72.5</td>\n      <td>25.5</td>\n      <td>59.833333</td>\n      <td>58.333333</td>\n      <td>71.571429</td>\n      <td>61.750</td>\n      <td>9.4</td>\n      <td>1</td>\n      <td>other</td>\n      <td>other</td>\n    </tr>\n    <tr>\n      <th>8</th>\n      <td>Stevie Mallan</td>\n      <td>Yeni Malatyaspor</td>\n      <td>Scotland</td>\n      <td>Midfield</td>\n      <td>Central Midfield</td>\n      <td>500000.0</td>\n      <td>2024-06-30</td>\n      <td>TR1</td>\n      <td>64</td>\n      <td>65</td>\n      <td>...</td>\n      <td>63.5</td>\n      <td>60.5</td>\n      <td>61.333333</td>\n      <td>66.333333</td>\n      <td>67.857143</td>\n      <td>63.500</td>\n      <td>8.0</td>\n      <td>1</td>\n      <td>Scotland</td>\n      <td>other</td>\n    </tr>\n    <tr>\n      <th>9</th>\n      <td>Didier Ndong</td>\n      <td>Yeni Malatyaspor</td>\n      <td>Gabon</td>\n      <td>Midfield</td>\n      <td>Central Midfield</td>\n      <td>1500000.0</td>\n      <td>2023-06-30</td>\n      <td>TR1</td>\n      <td>69</td>\n      <td>70</td>\n      <td>...</td>\n      <td>65.0</td>\n      <td>63.0</td>\n      <td>67.000000</td>\n      <td>67.333333</td>\n      <td>74.428571</td>\n      <td>59.125</td>\n      <td>12.2</td>\n      <td>1</td>\n      <td>other</td>\n      <td>other</td>\n    </tr>\n    <tr>\n      <th>10</th>\n      <td>Gaston Campi</td>\n      <td>Yeni Malatyaspor</td>\n      <td>Argentina</td>\n      <td>Defender</td>\n      <td>Centre-Back</td>\n      <td>375000.0</td>\n      <td>2023-12-31</td>\n      <td>TR1</td>\n      <td>68</td>\n      <td>68</td>\n      <td>...</td>\n      <td>65.5</td>\n      <td>68.0</td>\n      <td>65.000000</td>\n      <td>61.333333</td>\n      <td>47.142857</td>\n      <td>49.625</td>\n      <td>10.2</td>\n      <td>0</td>\n      <td>Argentina</td>\n      <td>other</td>\n    </tr>\n    <tr>\n      <th>11</th>\n      <td>Oussama Haddadi</td>\n      <td>Yeni Malatyaspor</td>\n      <td>Tunisia</td>\n      <td>Defender</td>\n      <td>Centre-Back</td>\n      <td>800000.0</td>\n      <td>2024-06-30</td>\n      <td>TR1</td>\n      <td>68</td>\n      <td>68</td>\n      <td>...</td>\n      <td>62.0</td>\n      <td>69.0</td>\n      <td>63.833333</td>\n      <td>62.666667</td>\n      <td>67.142857</td>\n      <td>45.250</td>\n      <td>9.8</td>\n      <td>0</td>\n      <td>other</td>\n      <td>other</td>\n    </tr>\n    <tr>\n      <th>12</th>\n      <td>Wallace</td>\n      <td>Yeni Malatyaspor</td>\n      <td>Brazil</td>\n      <td>Defender</td>\n      <td>Centre-Back</td>\n      <td>1000000.0</td>\n      <td>2023-12-31</td>\n      <td>TR1</td>\n      <td>73</td>\n      <td>75</td>\n      <td>...</td>\n      <td>48.5</td>\n      <td>71.0</td>\n      <td>58.000000</td>\n      <td>47.666667</td>\n      <td>63.571429</td>\n      <td>38.250</td>\n      <td>11.6</td>\n      <td>1</td>\n      <td>Brazil</td>\n      <td>other</td>\n    </tr>\n    <tr>\n      <th>13</th>\n      <td>Rey Manaj</td>\n      <td>Spezia Calcio</td>\n      <td>Albania</td>\n      <td>Attack</td>\n      <td>Centre-Forward</td>\n      <td>1500000.0</td>\n      <td>2025-06-30</td>\n      <td>IT1</td>\n      <td>72</td>\n      <td>76</td>\n      <td>...</td>\n      <td>72.0</td>\n      <td>17.5</td>\n      <td>56.000000</td>\n      <td>52.333333</td>\n      <td>67.714286</td>\n      <td>65.000</td>\n      <td>9.4</td>\n      <td>1</td>\n      <td>other</td>\n      <td>major</td>\n    </tr>\n    <tr>\n      <th>14</th>\n      <td>Eddie Salcedo</td>\n      <td>Spezia Calcio</td>\n      <td>Italy</td>\n      <td>Attack</td>\n      <td>Centre-Forward</td>\n      <td>2700000.0</td>\n      <td>2023-06-30</td>\n      <td>IT1</td>\n      <td>68</td>\n      <td>79</td>\n      <td>...</td>\n      <td>77.5</td>\n      <td>33.5</td>\n      <td>52.666667</td>\n      <td>61.333333</td>\n      <td>71.000000</td>\n      <td>58.625</td>\n      <td>9.4</td>\n      <td>1</td>\n      <td>Italy</td>\n      <td>major</td>\n    </tr>\n    <tr>\n      <th>15</th>\n      <td>Janis Antiste</td>\n      <td>Spezia Calcio</td>\n      <td>France</td>\n      <td>Attack</td>\n      <td>Centre-Forward</td>\n      <td>4000000.0</td>\n      <td>2023-06-30</td>\n      <td>IT1</td>\n      <td>68</td>\n      <td>79</td>\n      <td>...</td>\n      <td>70.0</td>\n      <td>14.5</td>\n      <td>48.000000</td>\n      <td>47.666667</td>\n      <td>69.285714</td>\n      <td>62.375</td>\n      <td>11.8</td>\n      <td>1</td>\n      <td>France</td>\n      <td>major</td>\n    </tr>\n    <tr>\n      <th>16</th>\n      <td>David Strelec</td>\n      <td>Spezia Calcio</td>\n      <td>Slovakia</td>\n      <td>Attack</td>\n      <td>Centre-Forward</td>\n      <td>1300000.0</td>\n      <td>2026-06-30</td>\n      <td>IT1</td>\n      <td>64</td>\n      <td>72</td>\n      <td>...</td>\n      <td>64.5</td>\n      <td>30.0</td>\n      <td>53.666667</td>\n      <td>51.333333</td>\n      <td>56.714286</td>\n      <td>57.375</td>\n      <td>9.6</td>\n      <td>0</td>\n      <td>other</td>\n      <td>major</td>\n    </tr>\n    <tr>\n      <th>17</th>\n      <td>Aurelien Nguiamba</td>\n      <td>Spezia Calcio</td>\n      <td>France</td>\n      <td>Midfield</td>\n      <td>Defensive Midfield</td>\n      <td>300000.0</td>\n      <td>2024-06-30</td>\n      <td>IT1</td>\n      <td>64</td>\n      <td>71</td>\n      <td>...</td>\n      <td>62.0</td>\n      <td>58.5</td>\n      <td>61.833333</td>\n      <td>59.666667</td>\n      <td>67.571429</td>\n      <td>45.500</td>\n      <td>10.4</td>\n      <td>0</td>\n      <td>France</td>\n      <td>major</td>\n    </tr>\n    <tr>\n      <th>18</th>\n      <td>Luca Vignali</td>\n      <td>Spezia Calcio</td>\n      <td>Italy</td>\n      <td>Defender</td>\n      <td>Right-Back</td>\n      <td>1000000.0</td>\n      <td>2025-06-30</td>\n      <td>IT1</td>\n      <td>69</td>\n      <td>70</td>\n      <td>...</td>\n      <td>65.0</td>\n      <td>64.5</td>\n      <td>61.666667</td>\n      <td>63.666667</td>\n      <td>68.857143</td>\n      <td>57.625</td>\n      <td>9.6</td>\n      <td>1</td>\n      <td>Italy</td>\n      <td>major</td>\n    </tr>\n    <tr>\n      <th>19</th>\n      <td>Petko Hristov</td>\n      <td>Spezia Calcio</td>\n      <td>Bulgaria</td>\n      <td>Defender</td>\n      <td>Centre-Back</td>\n      <td>1000000.0</td>\n      <td>2025-06-30</td>\n      <td>IT1</td>\n      <td>67</td>\n      <td>75</td>\n      <td>...</td>\n      <td>38.0</td>\n      <td>71.5</td>\n      <td>54.666667</td>\n      <td>41.000000</td>\n      <td>51.428571</td>\n      <td>39.125</td>\n      <td>9.4</td>\n      <td>1</td>\n      <td>other</td>\n      <td>major</td>\n    </tr>\n  </tbody>\n</table>\n<p>20 rows × 23 columns</p>\n</div>"
     },
     "execution_count": 182,
     "metadata": {},
     "output_type": "execute_result"
    }
   ],
   "source": [
    "## OHE etc and applying the above function\n",
    "\n",
    "df_encoded_1 = pd.get_dummies(df, columns=['preferred_foot'], drop_first=True)\n",
    "df_encoded_1['country_groups'] = df_encoded_1['country_of_citizenship'].apply(country_groups)\n",
    "df_encoded_1['comp_groups'] = df_encoded_1['current_club_domestic_competition_id'].apply(comp_groups)\n",
    "df_encoded_1.head(20)"
   ],
   "metadata": {
    "collapsed": false
   }
  },
  {
   "cell_type": "code",
   "execution_count": 183,
   "outputs": [],
   "source": [
    "## Splitting into the positions and OHE the forwards dataframe\n",
    "\n",
    "X_forwards = df_encoded_1[df_encoded_1['position'] == 'Attack']\n",
    "X_forwards = pd.get_dummies(X_forwards, columns=['sub_position'], drop_first=True)\n",
    "X_forwards = pd.get_dummies(X_forwards, columns = ['country_groups'], drop_first=True)"
   ],
   "metadata": {
    "collapsed": false
   }
  },
  {
   "cell_type": "code",
   "execution_count": 184,
   "outputs": [],
   "source": [
    "X_forwards.drop(columns = ['current_club_name', 'country_of_citizenship', 'position', 'contract_expiration_date', 'current_club_domestic_competition_id'], inplace = True)"
   ],
   "metadata": {
    "collapsed": false
   }
  },
  {
   "cell_type": "code",
   "execution_count": 185,
   "outputs": [
    {
     "data": {
      "text/plain": "                name  market_value_in_eur  overall_score  potential_score  \\\n0       Lenny Joseph             400000.0             64               73   \n1     Mamadou Camara             400000.0             61               70   \n2     Mamadou Camara             400000.0             60               70   \n5         Robin Kehr             100000.0             63               75   \n6      Yohann Thuram             325000.0             64               64   \n7    Benjamin Tetteh            2000000.0             72               76   \n13         Rey Manaj            1500000.0             72               76   \n14     Eddie Salcedo            2700000.0             68               79   \n15     Janis Antiste            4000000.0             68               79   \n16     David Strelec            1300000.0             64               72   \n20      Adrian Grbic            1200000.0             68               71   \n21       Pablo Pagis             600000.0             60               76   \n22    Sambou Soumano             900000.0             67               76   \n23  Quentin Boisgard            1500000.0             70               73   \n33   Bachana Arabuli             400000.0             61               61   \n34     Ashley Barnes            1000000.0             70               70   \n35       Matej Vydra            1700000.0             73               73   \n36     Jay Rodriguez            1200000.0             74               74   \n50       Kevin Yamga             850000.0             75               75   \n51       Kevin Yamga             850000.0             67               77   \n\n    Height  Weight  Age  ball_skills  Defence     Mental  ...  \\\n0      183      73   22         60.0     15.0  45.166667  ...   \n1      186      71   22         62.0     22.0  40.666667  ...   \n2      185      75   20         62.0     56.5  56.666667  ...   \n5      189      81   23         62.5     24.0  43.666667  ...   \n6      187      85   34         12.0     13.0  35.166667  ...   \n7      193      91   25         72.5     25.5  59.833333  ...   \n13     182      76   26         72.0     17.5  56.000000  ...   \n14     178      74   21         77.5     33.5  52.666667  ...   \n15     182      77   20         70.0     14.5  48.000000  ...   \n16     185      75   21         64.5     30.0  53.666667  ...   \n20     188      82   26         65.0     21.0  54.833333  ...   \n21     181      67   20         58.0     18.0  44.000000  ...   \n22     182      75   22         71.5     18.5  47.500000  ...   \n23     174      75   25         73.0     58.5  64.166667  ...   \n33     188      72   29         59.0     34.0  57.333333  ...   \n34     186      84   33         69.0     42.5  70.166667  ...   \n35     180      71   30         73.5     31.0  62.166667  ...   \n36     185      84   33         73.0     25.5  65.000000  ...   \n50     173      72   29         70.0     78.5  64.500000  ...   \n51     173      69   22         70.0     32.0  53.500000  ...   \n\n    country_groups_Nigeria  country_groups_Norway  country_groups_Poland  \\\n0                        0                      0                      0   \n1                        0                      0                      0   \n2                        0                      0                      0   \n5                        0                      0                      0   \n6                        0                      0                      0   \n7                        0                      0                      0   \n13                       0                      0                      0   \n14                       0                      0                      0   \n15                       0                      0                      0   \n16                       0                      0                      0   \n20                       0                      0                      0   \n21                       0                      0                      0   \n22                       0                      0                      0   \n23                       0                      0                      0   \n33                       0                      0                      0   \n34                       0                      0                      0   \n35                       0                      0                      0   \n36                       0                      0                      0   \n50                       0                      0                      0   \n51                       0                      0                      0   \n\n    country_groups_Portugal  country_groups_Scotland country_groups_Senegal  \\\n0                         0                        0                      0   \n1                         0                        0                      0   \n2                         0                        0                      0   \n5                         0                        0                      0   \n6                         0                        0                      0   \n7                         0                        0                      0   \n13                        0                        0                      0   \n14                        0                        0                      0   \n15                        0                        0                      0   \n16                        0                        0                      0   \n20                        0                        0                      0   \n21                        0                        0                      0   \n22                        0                        0                      1   \n23                        0                        0                      0   \n33                        0                        0                      0   \n34                        0                        0                      0   \n35                        0                        0                      0   \n36                        0                        0                      0   \n50                        0                        0                      0   \n51                        0                        0                      0   \n\n    country_groups_Spain  country_groups_Sweden  country_groups_Turkey  \\\n0                      0                      0                      0   \n1                      0                      0                      0   \n2                      0                      0                      0   \n5                      0                      0                      0   \n6                      0                      0                      0   \n7                      0                      0                      0   \n13                     0                      0                      0   \n14                     0                      0                      0   \n15                     0                      0                      0   \n16                     0                      0                      0   \n20                     0                      0                      0   \n21                     0                      0                      0   \n22                     0                      0                      0   \n23                     0                      0                      0   \n33                     0                      0                      0   \n34                     0                      0                      0   \n35                     0                      0                      0   \n36                     0                      0                      0   \n50                     0                      0                      0   \n51                     0                      0                      0   \n\n    country_groups_other  \n0                      0  \n1                      0  \n2                      0  \n5                      0  \n6                      0  \n7                      1  \n13                     1  \n14                     0  \n15                     0  \n16                     1  \n20                     1  \n21                     0  \n22                     0  \n23                     0  \n33                     1  \n34                     0  \n35                     1  \n36                     0  \n50                     0  \n51                     0  \n\n[20 rows x 40 columns]",
      "text/html": "<div>\n<style scoped>\n    .dataframe tbody tr th:only-of-type {\n        vertical-align: middle;\n    }\n\n    .dataframe tbody tr th {\n        vertical-align: top;\n    }\n\n    .dataframe thead th {\n        text-align: right;\n    }\n</style>\n<table border=\"1\" class=\"dataframe\">\n  <thead>\n    <tr style=\"text-align: right;\">\n      <th></th>\n      <th>name</th>\n      <th>market_value_in_eur</th>\n      <th>overall_score</th>\n      <th>potential_score</th>\n      <th>Height</th>\n      <th>Weight</th>\n      <th>Age</th>\n      <th>ball_skills</th>\n      <th>Defence</th>\n      <th>Mental</th>\n      <th>...</th>\n      <th>country_groups_Nigeria</th>\n      <th>country_groups_Norway</th>\n      <th>country_groups_Poland</th>\n      <th>country_groups_Portugal</th>\n      <th>country_groups_Scotland</th>\n      <th>country_groups_Senegal</th>\n      <th>country_groups_Spain</th>\n      <th>country_groups_Sweden</th>\n      <th>country_groups_Turkey</th>\n      <th>country_groups_other</th>\n    </tr>\n  </thead>\n  <tbody>\n    <tr>\n      <th>0</th>\n      <td>Lenny Joseph</td>\n      <td>400000.0</td>\n      <td>64</td>\n      <td>73</td>\n      <td>183</td>\n      <td>73</td>\n      <td>22</td>\n      <td>60.0</td>\n      <td>15.0</td>\n      <td>45.166667</td>\n      <td>...</td>\n      <td>0</td>\n      <td>0</td>\n      <td>0</td>\n      <td>0</td>\n      <td>0</td>\n      <td>0</td>\n      <td>0</td>\n      <td>0</td>\n      <td>0</td>\n      <td>0</td>\n    </tr>\n    <tr>\n      <th>1</th>\n      <td>Mamadou Camara</td>\n      <td>400000.0</td>\n      <td>61</td>\n      <td>70</td>\n      <td>186</td>\n      <td>71</td>\n      <td>22</td>\n      <td>62.0</td>\n      <td>22.0</td>\n      <td>40.666667</td>\n      <td>...</td>\n      <td>0</td>\n      <td>0</td>\n      <td>0</td>\n      <td>0</td>\n      <td>0</td>\n      <td>0</td>\n      <td>0</td>\n      <td>0</td>\n      <td>0</td>\n      <td>0</td>\n    </tr>\n    <tr>\n      <th>2</th>\n      <td>Mamadou Camara</td>\n      <td>400000.0</td>\n      <td>60</td>\n      <td>70</td>\n      <td>185</td>\n      <td>75</td>\n      <td>20</td>\n      <td>62.0</td>\n      <td>56.5</td>\n      <td>56.666667</td>\n      <td>...</td>\n      <td>0</td>\n      <td>0</td>\n      <td>0</td>\n      <td>0</td>\n      <td>0</td>\n      <td>0</td>\n      <td>0</td>\n      <td>0</td>\n      <td>0</td>\n      <td>0</td>\n    </tr>\n    <tr>\n      <th>5</th>\n      <td>Robin Kehr</td>\n      <td>100000.0</td>\n      <td>63</td>\n      <td>75</td>\n      <td>189</td>\n      <td>81</td>\n      <td>23</td>\n      <td>62.5</td>\n      <td>24.0</td>\n      <td>43.666667</td>\n      <td>...</td>\n      <td>0</td>\n      <td>0</td>\n      <td>0</td>\n      <td>0</td>\n      <td>0</td>\n      <td>0</td>\n      <td>0</td>\n      <td>0</td>\n      <td>0</td>\n      <td>0</td>\n    </tr>\n    <tr>\n      <th>6</th>\n      <td>Yohann Thuram</td>\n      <td>325000.0</td>\n      <td>64</td>\n      <td>64</td>\n      <td>187</td>\n      <td>85</td>\n      <td>34</td>\n      <td>12.0</td>\n      <td>13.0</td>\n      <td>35.166667</td>\n      <td>...</td>\n      <td>0</td>\n      <td>0</td>\n      <td>0</td>\n      <td>0</td>\n      <td>0</td>\n      <td>0</td>\n      <td>0</td>\n      <td>0</td>\n      <td>0</td>\n      <td>0</td>\n    </tr>\n    <tr>\n      <th>7</th>\n      <td>Benjamin Tetteh</td>\n      <td>2000000.0</td>\n      <td>72</td>\n      <td>76</td>\n      <td>193</td>\n      <td>91</td>\n      <td>25</td>\n      <td>72.5</td>\n      <td>25.5</td>\n      <td>59.833333</td>\n      <td>...</td>\n      <td>0</td>\n      <td>0</td>\n      <td>0</td>\n      <td>0</td>\n      <td>0</td>\n      <td>0</td>\n      <td>0</td>\n      <td>0</td>\n      <td>0</td>\n      <td>1</td>\n    </tr>\n    <tr>\n      <th>13</th>\n      <td>Rey Manaj</td>\n      <td>1500000.0</td>\n      <td>72</td>\n      <td>76</td>\n      <td>182</td>\n      <td>76</td>\n      <td>26</td>\n      <td>72.0</td>\n      <td>17.5</td>\n      <td>56.000000</td>\n      <td>...</td>\n      <td>0</td>\n      <td>0</td>\n      <td>0</td>\n      <td>0</td>\n      <td>0</td>\n      <td>0</td>\n      <td>0</td>\n      <td>0</td>\n      <td>0</td>\n      <td>1</td>\n    </tr>\n    <tr>\n      <th>14</th>\n      <td>Eddie Salcedo</td>\n      <td>2700000.0</td>\n      <td>68</td>\n      <td>79</td>\n      <td>178</td>\n      <td>74</td>\n      <td>21</td>\n      <td>77.5</td>\n      <td>33.5</td>\n      <td>52.666667</td>\n      <td>...</td>\n      <td>0</td>\n      <td>0</td>\n      <td>0</td>\n      <td>0</td>\n      <td>0</td>\n      <td>0</td>\n      <td>0</td>\n      <td>0</td>\n      <td>0</td>\n      <td>0</td>\n    </tr>\n    <tr>\n      <th>15</th>\n      <td>Janis Antiste</td>\n      <td>4000000.0</td>\n      <td>68</td>\n      <td>79</td>\n      <td>182</td>\n      <td>77</td>\n      <td>20</td>\n      <td>70.0</td>\n      <td>14.5</td>\n      <td>48.000000</td>\n      <td>...</td>\n      <td>0</td>\n      <td>0</td>\n      <td>0</td>\n      <td>0</td>\n      <td>0</td>\n      <td>0</td>\n      <td>0</td>\n      <td>0</td>\n      <td>0</td>\n      <td>0</td>\n    </tr>\n    <tr>\n      <th>16</th>\n      <td>David Strelec</td>\n      <td>1300000.0</td>\n      <td>64</td>\n      <td>72</td>\n      <td>185</td>\n      <td>75</td>\n      <td>21</td>\n      <td>64.5</td>\n      <td>30.0</td>\n      <td>53.666667</td>\n      <td>...</td>\n      <td>0</td>\n      <td>0</td>\n      <td>0</td>\n      <td>0</td>\n      <td>0</td>\n      <td>0</td>\n      <td>0</td>\n      <td>0</td>\n      <td>0</td>\n      <td>1</td>\n    </tr>\n    <tr>\n      <th>20</th>\n      <td>Adrian Grbic</td>\n      <td>1200000.0</td>\n      <td>68</td>\n      <td>71</td>\n      <td>188</td>\n      <td>82</td>\n      <td>26</td>\n      <td>65.0</td>\n      <td>21.0</td>\n      <td>54.833333</td>\n      <td>...</td>\n      <td>0</td>\n      <td>0</td>\n      <td>0</td>\n      <td>0</td>\n      <td>0</td>\n      <td>0</td>\n      <td>0</td>\n      <td>0</td>\n      <td>0</td>\n      <td>1</td>\n    </tr>\n    <tr>\n      <th>21</th>\n      <td>Pablo Pagis</td>\n      <td>600000.0</td>\n      <td>60</td>\n      <td>76</td>\n      <td>181</td>\n      <td>67</td>\n      <td>20</td>\n      <td>58.0</td>\n      <td>18.0</td>\n      <td>44.000000</td>\n      <td>...</td>\n      <td>0</td>\n      <td>0</td>\n      <td>0</td>\n      <td>0</td>\n      <td>0</td>\n      <td>0</td>\n      <td>0</td>\n      <td>0</td>\n      <td>0</td>\n      <td>0</td>\n    </tr>\n    <tr>\n      <th>22</th>\n      <td>Sambou Soumano</td>\n      <td>900000.0</td>\n      <td>67</td>\n      <td>76</td>\n      <td>182</td>\n      <td>75</td>\n      <td>22</td>\n      <td>71.5</td>\n      <td>18.5</td>\n      <td>47.500000</td>\n      <td>...</td>\n      <td>0</td>\n      <td>0</td>\n      <td>0</td>\n      <td>0</td>\n      <td>0</td>\n      <td>1</td>\n      <td>0</td>\n      <td>0</td>\n      <td>0</td>\n      <td>0</td>\n    </tr>\n    <tr>\n      <th>23</th>\n      <td>Quentin Boisgard</td>\n      <td>1500000.0</td>\n      <td>70</td>\n      <td>73</td>\n      <td>174</td>\n      <td>75</td>\n      <td>25</td>\n      <td>73.0</td>\n      <td>58.5</td>\n      <td>64.166667</td>\n      <td>...</td>\n      <td>0</td>\n      <td>0</td>\n      <td>0</td>\n      <td>0</td>\n      <td>0</td>\n      <td>0</td>\n      <td>0</td>\n      <td>0</td>\n      <td>0</td>\n      <td>0</td>\n    </tr>\n    <tr>\n      <th>33</th>\n      <td>Bachana Arabuli</td>\n      <td>400000.0</td>\n      <td>61</td>\n      <td>61</td>\n      <td>188</td>\n      <td>72</td>\n      <td>29</td>\n      <td>59.0</td>\n      <td>34.0</td>\n      <td>57.333333</td>\n      <td>...</td>\n      <td>0</td>\n      <td>0</td>\n      <td>0</td>\n      <td>0</td>\n      <td>0</td>\n      <td>0</td>\n      <td>0</td>\n      <td>0</td>\n      <td>0</td>\n      <td>1</td>\n    </tr>\n    <tr>\n      <th>34</th>\n      <td>Ashley Barnes</td>\n      <td>1000000.0</td>\n      <td>70</td>\n      <td>70</td>\n      <td>186</td>\n      <td>84</td>\n      <td>33</td>\n      <td>69.0</td>\n      <td>42.5</td>\n      <td>70.166667</td>\n      <td>...</td>\n      <td>0</td>\n      <td>0</td>\n      <td>0</td>\n      <td>0</td>\n      <td>0</td>\n      <td>0</td>\n      <td>0</td>\n      <td>0</td>\n      <td>0</td>\n      <td>0</td>\n    </tr>\n    <tr>\n      <th>35</th>\n      <td>Matej Vydra</td>\n      <td>1700000.0</td>\n      <td>73</td>\n      <td>73</td>\n      <td>180</td>\n      <td>71</td>\n      <td>30</td>\n      <td>73.5</td>\n      <td>31.0</td>\n      <td>62.166667</td>\n      <td>...</td>\n      <td>0</td>\n      <td>0</td>\n      <td>0</td>\n      <td>0</td>\n      <td>0</td>\n      <td>0</td>\n      <td>0</td>\n      <td>0</td>\n      <td>0</td>\n      <td>1</td>\n    </tr>\n    <tr>\n      <th>36</th>\n      <td>Jay Rodriguez</td>\n      <td>1200000.0</td>\n      <td>74</td>\n      <td>74</td>\n      <td>185</td>\n      <td>84</td>\n      <td>33</td>\n      <td>73.0</td>\n      <td>25.5</td>\n      <td>65.000000</td>\n      <td>...</td>\n      <td>0</td>\n      <td>0</td>\n      <td>0</td>\n      <td>0</td>\n      <td>0</td>\n      <td>0</td>\n      <td>0</td>\n      <td>0</td>\n      <td>0</td>\n      <td>0</td>\n    </tr>\n    <tr>\n      <th>50</th>\n      <td>Kevin Yamga</td>\n      <td>850000.0</td>\n      <td>75</td>\n      <td>75</td>\n      <td>173</td>\n      <td>72</td>\n      <td>29</td>\n      <td>70.0</td>\n      <td>78.5</td>\n      <td>64.500000</td>\n      <td>...</td>\n      <td>0</td>\n      <td>0</td>\n      <td>0</td>\n      <td>0</td>\n      <td>0</td>\n      <td>0</td>\n      <td>0</td>\n      <td>0</td>\n      <td>0</td>\n      <td>0</td>\n    </tr>\n    <tr>\n      <th>51</th>\n      <td>Kevin Yamga</td>\n      <td>850000.0</td>\n      <td>67</td>\n      <td>77</td>\n      <td>173</td>\n      <td>69</td>\n      <td>22</td>\n      <td>70.0</td>\n      <td>32.0</td>\n      <td>53.500000</td>\n      <td>...</td>\n      <td>0</td>\n      <td>0</td>\n      <td>0</td>\n      <td>0</td>\n      <td>0</td>\n      <td>0</td>\n      <td>0</td>\n      <td>0</td>\n      <td>0</td>\n      <td>0</td>\n    </tr>\n  </tbody>\n</table>\n<p>20 rows × 40 columns</p>\n</div>"
     },
     "execution_count": 185,
     "metadata": {},
     "output_type": "execute_result"
    }
   ],
   "source": [
    "## the space and - in the column name can be an issue (this is just for something later, does not affect the modelling)\n",
    "\n",
    "column_list = []\n",
    "for things in list(X_forwards.columns):\n",
    "    column_list.append(things.replace(' ', '_'))\n",
    "\n",
    "X_forwards.columns = column_list\n",
    "\n",
    "X_forwards.rename(columns={'sub_position_Centre-Forward': 'sub_position_Centre_Forward'}, inplace=True)\n",
    "X_forwards.head(20)"
   ],
   "metadata": {
    "collapsed": false
   }
  },
  {
   "cell_type": "code",
   "execution_count": 186,
   "outputs": [],
   "source": [
    "## Splitting according to the competition group and resetting the index\n",
    "\n",
    "X_forwards_major = X_forwards[X_forwards['comp_groups'] == 'major'].copy()\n",
    "X_forwards_other = X_forwards[X_forwards['comp_groups'] == 'other'].copy()\n",
    "X_forwards_major.reset_index(inplace=True)\n",
    "X_forwards_other.reset_index(inplace=True)"
   ],
   "metadata": {
    "collapsed": false
   }
  },
  {
   "cell_type": "code",
   "execution_count": 187,
   "outputs": [
    {
     "data": {
      "text/plain": "Paulinho              6\nAdama Traore          4\nRaul Garcia           4\nJuan Cruz             3\nJoaquin               3\n                     ..\nAndrea Petagna        1\nMarco D Alessandro    1\nSamuele Vignato       1\nDany Mota             1\nTim Maciejewski       1\nName: name, Length: 1063, dtype: int64"
     },
     "execution_count": 187,
     "metadata": {},
     "output_type": "execute_result"
    }
   ],
   "source": [
    "## Similar to Model 5, we drop the duplicates\n",
    "\n",
    "X_forwards_major['name'].value_counts()"
   ],
   "metadata": {
    "collapsed": false
   }
  },
  {
   "cell_type": "code",
   "execution_count": 188,
   "outputs": [],
   "source": [
    "## Similarly, since we are in the major competitions, I keep the highest market values and highest potential scores\n",
    "\n",
    "names_list = ['Paulinho','Adama Traore','Raul Garcia','Juan Cruz','Joaquin','Joao Pedro','Diego Gonzalez','Vitinha','Pedro','Luis Javier Suarez','Rodrigo','Ousmane Camara','Luis Diaz','Chiquinho','Juan Carlos Arana','Diego Lopez','Alejandro Cantero','Joselu','Aaron Ramsey','Mamadou Camara','Andre Silva','Jae Sung Lee','Antony']\n",
    "\n",
    "for names in names_list:\n",
    "    index = X_forwards_major[X_forwards_major['name'] == names].index\n",
    "    maximum = max(list(X_forwards_major['market_value_in_eur'].loc[index]))\n",
    "    index = X_forwards_major[X_forwards_major['name'] == names][X_forwards_major.loc[index]['market_value_in_eur'] != maximum].index\n",
    "    X_forwards_major.drop(index, inplace = True)\n",
    "\n",
    "for names in names_list:\n",
    "    index = X_forwards_major[X_forwards_major['name'] == names].index\n",
    "    maximum = max(list(X_forwards_major['potential_score'].loc[index]))\n",
    "    index = X_forwards_major[X_forwards_major['name'] == names][X_forwards_major.loc[index]['potential_score'] != maximum].index\n",
    "    X_forwards_major.drop(index, inplace = True)\n",
    "\n",
    "X_forwards_major.reset_index(inplace = True)"
   ],
   "metadata": {
    "collapsed": false
   }
  },
  {
   "cell_type": "code",
   "execution_count": 189,
   "outputs": [
    {
     "data": {
      "text/plain": "Paulinho             12\nJoao Pedro            6\nRicardinho            4\nAdama Traore          4\nHernani               4\n                     ..\nWilson Eduardo        1\nEfecan Karaca         1\nMert Yusuf Torlak     1\nIvan Cavaleiro        1\nYari Verschaeren      1\nName: name, Length: 1072, dtype: int64"
     },
     "execution_count": 189,
     "metadata": {},
     "output_type": "execute_result"
    }
   ],
   "source": [
    "## I also drop the duplicates in the other competitions dataframe\n",
    "\n",
    "X_forwards_other['name'].value_counts()"
   ],
   "metadata": {
    "collapsed": false
   }
  },
  {
   "cell_type": "code",
   "execution_count": 190,
   "outputs": [],
   "source": [
    "## I keep the minimum market value and minimum potential scores in the other competition dataset\n",
    "## Although this may be a flawed assumption since there are many talents in the lower leagues\n",
    "\n",
    "names_list = ['Paulinho', 'Joao Pedro', 'Ricardinho', 'Adama Traore', 'Hernani', 'Danilo', 'Pepe', 'Marlon',\n",
    "              'Emmanuel Boateng', 'Fernando', 'Anderson Oliveira', 'Leandro Kappel', 'Nuno Santos', 'Alioune Ndour',\n",
    "              'Chiquinho', 'Inigo Cordoba', 'Roger', 'Berna', 'Andre Silva', 'Aitor Cantalapiedra', 'Savio',\n",
    "              'Jack Hamilton', 'Vitinho', 'Antony', 'Kevin Yamga', 'Max Anderson', 'Paulo Vitor', 'Costinha']\n",
    "\n",
    "for names in names_list:\n",
    "    index = X_forwards_other[X_forwards_other['name'] == names].index\n",
    "    minimum = min(list(X_forwards_other['market_value_in_eur'].loc[index]))\n",
    "    index = X_forwards_other[X_forwards_other['name'] == names][\n",
    "        X_forwards_other.loc[index]['market_value_in_eur'] != minimum].index\n",
    "    X_forwards_other.drop(index, inplace=True)\n",
    "\n",
    "for names in names_list:\n",
    "    index = X_forwards_other[X_forwards_other['name'] == names].index\n",
    "    maximum = min(list(X_forwards_other['potential_score'].loc[index]))\n",
    "    index = X_forwards_other[X_forwards_other['name'] == names][\n",
    "        X_forwards_other.loc[index]['potential_score'] != minimum].index\n",
    "    X_forwards_other.drop(index, inplace=True)\n",
    "\n",
    "X_forwards_other.reset_index(inplace=True)"
   ],
   "metadata": {
    "collapsed": false
   }
  },
  {
   "cell_type": "code",
   "execution_count": 191,
   "outputs": [],
   "source": [
    "## Resetting the index and choosing the feature columns\n",
    "X_forwards_major.drop(columns=['level_0', 'index'], inplace=True)\n",
    "X_forwards_other.drop(columns=['level_0', 'index'], inplace=True)\n",
    "\n",
    "feature_columns = list(X_forwards_major.columns)\n",
    "for columns in ['name', 'market_value_in_eur', 'Goalkeeping', 'Defence', 'comp_groups']:\n",
    "    feature_columns.remove(columns)"
   ],
   "metadata": {
    "collapsed": false
   }
  },
  {
   "cell_type": "code",
   "execution_count": 192,
   "outputs": [
    {
     "name": "stdout",
     "output_type": "stream",
     "text": [
      "the RMSE is 9856869.66289018\n"
     ]
    }
   ],
   "source": [
    "## for major comps\n",
    "\n",
    "results = statsmodel_log(X_forwards_major, 'market_value_in_eur', feature_columns, 1)"
   ],
   "metadata": {
    "collapsed": false
   }
  },
  {
   "cell_type": "code",
   "execution_count": 193,
   "outputs": [
    {
     "name": "stdout",
     "output_type": "stream",
     "text": [
      "the RMSE is 2413982.1224143603\n"
     ]
    }
   ],
   "source": [
    "## for other comps\n",
    "\n",
    "results = statsmodel_log(X_forwards_other, 'market_value_in_eur', feature_columns, 1)"
   ],
   "metadata": {
    "collapsed": false
   }
  },
  {
   "cell_type": "code",
   "execution_count": 194,
   "outputs": [],
   "source": [
    "## The RMSE scores are much better compared to Model 5\n",
    "## I then ran the same regularisation techniques and ran a gridsearch"
   ],
   "metadata": {
    "collapsed": false
   }
  },
  {
   "cell_type": "code",
   "execution_count": 197,
   "outputs": [],
   "source": [
    "## the different linear models\n",
    "## to run for the major comp set, run the cell 'for major comps' and don't run the cell 'for other comps'\n",
    "## similarly, to get scores for the other comp set, run other comps and don't run for major comps cell\n",
    "\n",
    "reg_las = linear_model.Lasso(alpha=0.5)\n",
    "reg_rdg = linear_model.Ridge(alpha=0.5)\n",
    "reg_en = linear_model.ElasticNet(alpha=0.5)\n",
    "\n",
    "las_results = reg_las.fit(X_train[feature_columns], y_train)\n",
    "rdg_results = reg_rdg.fit(X_train[feature_columns], y_train)\n",
    "en_results = reg_en.fit(X_train[feature_columns], y_train)\n",
    "\n",
    "# predictions\n",
    "X_train['las_y_pred'] = las_results.predict(X_train[feature_columns])\n",
    "X_train['rdg_y_pred'] = rdg_results.predict(X_train[feature_columns])\n",
    "X_train['en_y_pred'] = en_results.predict(X_train[feature_columns])"
   ],
   "metadata": {
    "collapsed": false
   }
  },
  {
   "cell_type": "code",
   "execution_count": 198,
   "outputs": [
    {
     "name": "stdout",
     "output_type": "stream",
     "text": [
      "2871917.0203126464\n"
     ]
    }
   ],
   "source": [
    "## RMSE for lasso\n",
    "rmse = statsmodels.tools.eval_measures.rmse(np.exp(y_train), np.exp(X_train['las_y_pred']))\n",
    "print(rmse)"
   ],
   "metadata": {
    "collapsed": false
   }
  },
  {
   "cell_type": "code",
   "execution_count": 199,
   "outputs": [
    {
     "name": "stdout",
     "output_type": "stream",
     "text": [
      "2689259.956023034\n"
     ]
    }
   ],
   "source": [
    "## RMSE for elastic net\n",
    "rmse = statsmodels.tools.eval_measures.rmse(np.exp(y_train), np.exp(X_train['en_y_pred']))\n",
    "print(rmse)"
   ],
   "metadata": {
    "collapsed": false
   }
  },
  {
   "cell_type": "code",
   "execution_count": 200,
   "outputs": [
    {
     "name": "stdout",
     "output_type": "stream",
     "text": [
      "2388522.001837289\n"
     ]
    }
   ],
   "source": [
    "## RMSE for ridge\n",
    "rmse = statsmodels.tools.eval_measures.rmse(np.exp(y_train), np.exp(X_train['rdg_y_pred']))\n",
    "print(rmse)"
   ],
   "metadata": {
    "collapsed": false
   }
  },
  {
   "cell_type": "code",
   "execution_count": 201,
   "outputs": [],
   "source": [
    "## It seems like Lasso for major and Ridge for other\n",
    "## We can now run gridsearch"
   ],
   "metadata": {
    "collapsed": false
   }
  },
  {
   "cell_type": "code",
   "execution_count": 202,
   "outputs": [
    {
     "name": "stdout",
     "output_type": "stream",
     "text": [
      "the RMSE is 9856869.66289018\n"
     ]
    }
   ],
   "source": [
    "## major comps\n",
    "\n",
    "results = statsmodel_log(X_forwards_major, 'market_value_in_eur', feature_columns, 1)"
   ],
   "metadata": {
    "collapsed": false
   }
  },
  {
   "cell_type": "code",
   "execution_count": 203,
   "outputs": [
    {
     "name": "stdout",
     "output_type": "stream",
     "text": [
      "Best Score: -0.6899314729086916\n",
      "Best Hyperparameters: {'alpha': 0.5, 'positive': False}\n"
     ]
    }
   ],
   "source": [
    "## same as before\n",
    "\n",
    "model = Lasso()\n",
    "cv = RepeatedKFold(n_splits=5, n_repeats=1, random_state=42)\n",
    "param = {\n",
    "    'alpha': [0.5, 1, 5, 10, 25, 100],\n",
    "    'positive': [True, False]\n",
    "}\n",
    "search = GridSearchCV(model, param, scoring='neg_root_mean_squared_error', n_jobs=-1, cv=cv)\n",
    "result = search.fit(X_train[feature_columns], y_train)\n",
    "print('Best Score: %s' % result.best_score_)\n",
    "print('Best Hyperparameters: %s' % result.best_params_)"
   ],
   "metadata": {
    "collapsed": false
   }
  },
  {
   "cell_type": "code",
   "execution_count": 204,
   "outputs": [
    {
     "name": "stdout",
     "output_type": "stream",
     "text": [
      "7883620.469983465\n"
     ]
    }
   ],
   "source": [
    "## modelling and RMSE for training set\n",
    "\n",
    "reg_las = linear_model.Lasso(alpha=0.5, positive=False)\n",
    "las_results_forwards_major = reg_las.fit(X_train[feature_columns], y_train)\n",
    "X_train['las_y_pred'] = las_results_forwards_major.predict(X_train[feature_columns])\n",
    "rmse = statsmodels.tools.eval_measures.rmse(np.exp(y_train), np.exp(X_train['las_y_pred']))\n",
    "print(rmse)"
   ],
   "metadata": {
    "collapsed": false
   }
  },
  {
   "cell_type": "code",
   "execution_count": 205,
   "outputs": [
    {
     "name": "stdout",
     "output_type": "stream",
     "text": [
      "9099924.346661625\n"
     ]
    }
   ],
   "source": [
    "## RMSE for testing set\n",
    "\n",
    "X_test['las_y_pred'] = las_results_forwards_major.predict(X_test[feature_columns])\n",
    "rmse = statsmodels.tools.eval_measures.rmse(np.exp(y_test), np.exp(X_test['las_y_pred']))\n",
    "print(rmse)"
   ],
   "metadata": {
    "collapsed": false
   }
  },
  {
   "cell_type": "code",
   "execution_count": null,
   "outputs": [],
   "source": [
    "## We can see overfitting, to be more sure, I looked into the residuals and ran a shapiro check to see whether if its normally distributed\n",
    "## if it is normally distributed, this suggests that the model is not overfitting"
   ],
   "metadata": {
    "collapsed": false
   }
  },
  {
   "cell_type": "code",
   "execution_count": 206,
   "outputs": [
    {
     "data": {
      "text/plain": "<Figure size 500x500 with 1 Axes>",
      "image/png": "[encoded data removed]"
     },
     "metadata": {},
     "output_type": "display_data"
    }
   ],
   "source": [
    "## residuals\n",
    "resids = np.exp(y_test) - np.exp(X_test['las_y_pred'])\n",
    "sns.displot(resids)\n",
    "plt.show()"
   ],
   "metadata": {
    "collapsed": false
   }
  },
  {
   "cell_type": "code",
   "execution_count": 207,
   "outputs": [
    {
     "data": {
      "text/plain": "ShapiroResult(statistic=0.6948585510253906, pvalue=1.9494562284237287e-19)"
     },
     "execution_count": 207,
     "metadata": {},
     "output_type": "execute_result"
    }
   ],
   "source": [
    "shapiro_test = stats.shapiro(resids)\n",
    "shapiro_test"
   ],
   "metadata": {
    "collapsed": false
   }
  },
  {
   "cell_type": "code",
   "execution_count": 208,
   "outputs": [],
   "source": [
    "## A value of 0.69 suggests that it could be normally distributed, but not definitive\n",
    "## I continue to the analysis for the other comps dataset"
   ],
   "metadata": {
    "collapsed": false
   }
  },
  {
   "cell_type": "code",
   "execution_count": 209,
   "outputs": [
    {
     "name": "stdout",
     "output_type": "stream",
     "text": [
      "the RMSE is 2413982.1224143603\n"
     ]
    }
   ],
   "source": [
    "results = statsmodel_log(X_forwards_other, 'market_value_in_eur', feature_columns, 1)"
   ],
   "metadata": {
    "collapsed": false
   }
  },
  {
   "cell_type": "code",
   "execution_count": 210,
   "outputs": [
    {
     "name": "stdout",
     "output_type": "stream",
     "text": [
      "Best Score: -0.698065525866971\n",
      "Best Hyperparameters: {'alpha': 10, 'positive': False, 'solver': 'svd'}\n"
     ]
    },
    {
     "name": "stderr",
     "output_type": "stream",
     "text": [
      "C:\\Users\\james\\anaconda3\\lib\\site-packages\\sklearn\\model_selection\\_validation.py:372: FitFailedWarning: \n",
      "210 fits failed out of a total of 480.\n",
      "The score on these train-test partitions for these parameters will be set to nan.\n",
      "If these failures are not expected, you can try to debug them by setting error_score='raise'.\n",
      "\n",
      "Below are more details about the failures:\n",
      "--------------------------------------------------------------------------------\n",
      "30 fits failed with the following error:\n",
      "Traceback (most recent call last):\n",
      "  File \"C:\\Users\\james\\anaconda3\\lib\\site-packages\\sklearn\\model_selection\\_validation.py\", line 680, in _fit_and_score\n",
      "    estimator.fit(X_train, y_train, **fit_params)\n",
      "  File \"C:\\Users\\james\\anaconda3\\lib\\site-packages\\sklearn\\linear_model\\_ridge.py\", line 1011, in fit\n",
      "    return super().fit(X, y, sample_weight=sample_weight)\n",
      "  File \"C:\\Users\\james\\anaconda3\\lib\\site-packages\\sklearn\\linear_model\\_ridge.py\", line 712, in fit\n",
      "    raise ValueError(\n",
      "ValueError: solver='svd' does not support positive fitting. Please set the solver to 'auto' or 'lbfgs', or set `positive=False`\n",
      "\n",
      "--------------------------------------------------------------------------------\n",
      "30 fits failed with the following error:\n",
      "Traceback (most recent call last):\n",
      "  File \"C:\\Users\\james\\anaconda3\\lib\\site-packages\\sklearn\\model_selection\\_validation.py\", line 680, in _fit_and_score\n",
      "    estimator.fit(X_train, y_train, **fit_params)\n",
      "  File \"C:\\Users\\james\\anaconda3\\lib\\site-packages\\sklearn\\linear_model\\_ridge.py\", line 1011, in fit\n",
      "    return super().fit(X, y, sample_weight=sample_weight)\n",
      "  File \"C:\\Users\\james\\anaconda3\\lib\\site-packages\\sklearn\\linear_model\\_ridge.py\", line 712, in fit\n",
      "    raise ValueError(\n",
      "ValueError: solver='cholesky' does not support positive fitting. Please set the solver to 'auto' or 'lbfgs', or set `positive=False`\n",
      "\n",
      "--------------------------------------------------------------------------------\n",
      "30 fits failed with the following error:\n",
      "Traceback (most recent call last):\n",
      "  File \"C:\\Users\\james\\anaconda3\\lib\\site-packages\\sklearn\\model_selection\\_validation.py\", line 680, in _fit_and_score\n",
      "    estimator.fit(X_train, y_train, **fit_params)\n",
      "  File \"C:\\Users\\james\\anaconda3\\lib\\site-packages\\sklearn\\linear_model\\_ridge.py\", line 1011, in fit\n",
      "    return super().fit(X, y, sample_weight=sample_weight)\n",
      "  File \"C:\\Users\\james\\anaconda3\\lib\\site-packages\\sklearn\\linear_model\\_ridge.py\", line 712, in fit\n",
      "    raise ValueError(\n",
      "ValueError: solver='lsqr' does not support positive fitting. Please set the solver to 'auto' or 'lbfgs', or set `positive=False`\n",
      "\n",
      "--------------------------------------------------------------------------------\n",
      "30 fits failed with the following error:\n",
      "Traceback (most recent call last):\n",
      "  File \"C:\\Users\\james\\anaconda3\\lib\\site-packages\\sklearn\\model_selection\\_validation.py\", line 680, in _fit_and_score\n",
      "    estimator.fit(X_train, y_train, **fit_params)\n",
      "  File \"C:\\Users\\james\\anaconda3\\lib\\site-packages\\sklearn\\linear_model\\_ridge.py\", line 1011, in fit\n",
      "    return super().fit(X, y, sample_weight=sample_weight)\n",
      "  File \"C:\\Users\\james\\anaconda3\\lib\\site-packages\\sklearn\\linear_model\\_ridge.py\", line 712, in fit\n",
      "    raise ValueError(\n",
      "ValueError: solver='sparse_cg' does not support positive fitting. Please set the solver to 'auto' or 'lbfgs', or set `positive=False`\n",
      "\n",
      "--------------------------------------------------------------------------------\n",
      "30 fits failed with the following error:\n",
      "Traceback (most recent call last):\n",
      "  File \"C:\\Users\\james\\anaconda3\\lib\\site-packages\\sklearn\\model_selection\\_validation.py\", line 680, in _fit_and_score\n",
      "    estimator.fit(X_train, y_train, **fit_params)\n",
      "  File \"C:\\Users\\james\\anaconda3\\lib\\site-packages\\sklearn\\linear_model\\_ridge.py\", line 1011, in fit\n",
      "    return super().fit(X, y, sample_weight=sample_weight)\n",
      "  File \"C:\\Users\\james\\anaconda3\\lib\\site-packages\\sklearn\\linear_model\\_ridge.py\", line 712, in fit\n",
      "    raise ValueError(\n",
      "ValueError: solver='sag' does not support positive fitting. Please set the solver to 'auto' or 'lbfgs', or set `positive=False`\n",
      "\n",
      "--------------------------------------------------------------------------------\n",
      "30 fits failed with the following error:\n",
      "Traceback (most recent call last):\n",
      "  File \"C:\\Users\\james\\anaconda3\\lib\\site-packages\\sklearn\\model_selection\\_validation.py\", line 680, in _fit_and_score\n",
      "    estimator.fit(X_train, y_train, **fit_params)\n",
      "  File \"C:\\Users\\james\\anaconda3\\lib\\site-packages\\sklearn\\linear_model\\_ridge.py\", line 1011, in fit\n",
      "    return super().fit(X, y, sample_weight=sample_weight)\n",
      "  File \"C:\\Users\\james\\anaconda3\\lib\\site-packages\\sklearn\\linear_model\\_ridge.py\", line 712, in fit\n",
      "    raise ValueError(\n",
      "ValueError: solver='saga' does not support positive fitting. Please set the solver to 'auto' or 'lbfgs', or set `positive=False`\n",
      "\n",
      "--------------------------------------------------------------------------------\n",
      "30 fits failed with the following error:\n",
      "Traceback (most recent call last):\n",
      "  File \"C:\\Users\\james\\anaconda3\\lib\\site-packages\\sklearn\\model_selection\\_validation.py\", line 680, in _fit_and_score\n",
      "    estimator.fit(X_train, y_train, **fit_params)\n",
      "  File \"C:\\Users\\james\\anaconda3\\lib\\site-packages\\sklearn\\linear_model\\_ridge.py\", line 1011, in fit\n",
      "    return super().fit(X, y, sample_weight=sample_weight)\n",
      "  File \"C:\\Users\\james\\anaconda3\\lib\\site-packages\\sklearn\\linear_model\\_ridge.py\", line 705, in fit\n",
      "    raise ValueError(\n",
      "ValueError: 'lbfgs' solver can be used only when positive=True. Please use another solver.\n",
      "\n",
      "  warnings.warn(some_fits_failed_message, FitFailedWarning)\n",
      "C:\\Users\\james\\anaconda3\\lib\\site-packages\\sklearn\\model_selection\\_search.py:969: UserWarning: One or more of the test scores are non-finite: [-0.72370472         nan         nan         nan         nan         nan\n",
      "         nan -0.72370472 -0.70289176 -0.70289176 -0.70289176 -0.70197588\n",
      " -0.702122   -0.69927956 -0.69895649         nan -0.72370577         nan\n",
      "         nan         nan         nan         nan         nan -0.72370577\n",
      " -0.70171506 -0.70171506 -0.70171506 -0.70164279 -0.70167828 -0.69912661\n",
      " -0.69897926         nan -0.72371428         nan         nan         nan\n",
      "         nan         nan         nan -0.72371428 -0.6987324  -0.6987324\n",
      " -0.6987324  -0.69941874 -0.69991547 -0.69853209 -0.69926038         nan\n",
      " -0.72372514         nan         nan         nan         nan         nan\n",
      "         nan -0.72372514 -0.69806553 -0.69806553 -0.69806553 -0.69874366\n",
      " -0.69917396 -0.69853969 -0.6995402          nan -0.72372351         nan\n",
      "         nan         nan         nan         nan         nan -0.72372351\n",
      " -0.6983548  -0.6983548  -0.6983548  -0.69928278 -0.69852091 -0.69911916\n",
      " -0.70011075         nan -0.72406542         nan         nan         nan\n",
      "         nan         nan         nan -0.72406542 -0.70082973 -0.70082973\n",
      " -0.70082973 -0.70145625 -0.70145208 -0.70133146 -0.70176725         nan]\n",
      "  warnings.warn(\n"
     ]
    }
   ],
   "source": [
    "## same as before\n",
    "\n",
    "model = Ridge()\n",
    "cv = RepeatedKFold(n_splits=5, n_repeats=1, random_state=42)\n",
    "param = {\n",
    "    'solver': ['auto', 'svd', 'cholesky', 'lsqr', 'sparse_cg', 'sag', 'saga', 'lbfgs'],\n",
    "    'alpha': [0.5, 1, 5, 10, 25, 100],\n",
    "    'positive': [True, False]\n",
    "}\n",
    "search = GridSearchCV(model, param, scoring='neg_root_mean_squared_error', n_jobs=-1, cv=cv)\n",
    "result = search.fit(X_train[feature_columns], y_train)\n",
    "print('Best Score: %s' % result.best_score_)\n",
    "print('Best Hyperparameters: %s' % result.best_params_)"
   ],
   "metadata": {
    "collapsed": false
   }
  },
  {
   "cell_type": "code",
   "execution_count": 211,
   "outputs": [
    {
     "name": "stdout",
     "output_type": "stream",
     "text": [
      "2372987.912439779\n"
     ]
    }
   ],
   "source": [
    "## modelling and RMSE for training set\n",
    "\n",
    "reg_rdg = linear_model.Ridge(alpha=10, positive=False, solver='svd')\n",
    "rdg_results_forwards_other = reg_rdg.fit(X_train[feature_columns], y_train)\n",
    "X_train['rdg_y_pred'] = rdg_results_forwards_other.predict(X_train[feature_columns])\n",
    "rmse = statsmodels.tools.eval_measures.rmse(np.exp(y_train), np.exp(X_train['rdg_y_pred']))\n",
    "print(rmse)"
   ],
   "metadata": {
    "collapsed": false
   }
  },
  {
   "cell_type": "code",
   "execution_count": 212,
   "outputs": [
    {
     "name": "stdout",
     "output_type": "stream",
     "text": [
      "2019084.6684738805\n"
     ]
    }
   ],
   "source": [
    "## RMSE for training set\n",
    "\n",
    "X_test['rdg_y_pred'] = rdg_results_forwards_other.predict(X_test[feature_columns])\n",
    "rmse = statsmodels.tools.eval_measures.rmse(np.exp(y_test), np.exp(X_test['rdg_y_pred']))\n",
    "print(rmse)"
   ],
   "metadata": {
    "collapsed": false
   }
  },
  {
   "cell_type": "code",
   "execution_count": null,
   "outputs": [],
   "source": [
    "## It seems like there is slight underfitting, but this is a much better model than Model 5\n",
    "\n",
    "## I chose Model 6 as my final Capstone model. For the following reasons:\n",
    "## 1. I ran out of time, I had tried out many models and improved on the ones that shown improvements along the way, there could have been a better approach\n",
    "## 2. The extreme outliers in the footballer values had significant impact on the modelling, a further split would probably show more improvement. I chose not to drop the\n",
    "## outliers because I wanted a realistic model and not just a model for the lower end of the spectrum"
   ],
   "metadata": {
    "collapsed": false
   }
  },
  {
   "cell_type": "code",
   "execution_count": null,
   "outputs": [],
   "source": [],
   "metadata": {
    "collapsed": false
   }
  },
  {
   "cell_type": "markdown",
   "source": [
    "## The function"
   ],
   "metadata": {
    "collapsed": false
   }
  },
  {
   "cell_type": "code",
   "execution_count": 218,
   "outputs": [],
   "source": [
    "## For the Capstone, I also wrote a function that takes in user input and returns a market value\n",
    "## The inputs needed are the features required for model 6, for the function to work, requires the section Model 6 to be ran beforehand\n",
    "## the function is not finished and only predicts forward pricings\n",
    "\n",
    "def player_market_value(position):\n",
    "\n",
    "    if position == 'Forward':\n",
    "        overall_score = input('Enter overall score: ')\n",
    "        potential_score = input('Enter potential score: ')\n",
    "        Height = input('Enter Height(in cm): ')\n",
    "        Weight = input('Enter Weight(in kg): ')\n",
    "        Age = input('Enter age: ')\n",
    "        ball_skills = input('Enter ball skills score: ')\n",
    "        Mental = input('Enter mental score: ')\n",
    "        Passing = input('Enter passing score: ')\n",
    "        Physical = input('Enter physical score: ')\n",
    "        Shooting = input('Enter shooting score: ')\n",
    "        foot = input('Enter preferred foot (right/left): ')\n",
    "        if foot == 'right':\n",
    "            preferred_foot_Right = 1\n",
    "        else:\n",
    "            preferred_foot_Right = 0\n",
    "        position = input('Choose from these positions: Centre Forward, Left Winger, Right Winger, Second Striker')\n",
    "        sub_position_Centre_Forward = 0\n",
    "        sub_position_Left_Winger = 0\n",
    "        sub_position_Right_Winger = 0\n",
    "        sub_position_Second_Striker = 0\n",
    "        if position == 'Centre Forward':\n",
    "            sub_position_Centre_Forward = 1\n",
    "        elif position == 'Left Winger':\n",
    "            sub_position_Left_Winger = 1\n",
    "        elif position == 'Right Winger':\n",
    "            sub_position_Right_Winger = 1\n",
    "        elif position == 'Second Striker':\n",
    "            sub_position_Second_Striker = 1\n",
    "\n",
    "        country = input('Choose from these countries: Argentina, Belgium, Brazil, Croatia, Denmark, England, France, Germany, Italy, Morocco, Netherlands, Nigeria, Norway, Poland, Portugal, Scotland, Senegal, Spain, Sweden, Turkey or other')\n",
    "        country_groups_Belgium = 0\n",
    "        country_groups_Brazil = 0\n",
    "        country_groups_Croatia = 0\n",
    "        country_groups_Denmark = 0\n",
    "        country_groups_England = 0\n",
    "        country_groups_France = 0\n",
    "        country_groups_Germany = 0\n",
    "        country_groups_Italy = 0\n",
    "        country_groups_Morocco = 0\n",
    "        country_groups_Netherlands = 0\n",
    "        country_groups_Nigeria = 0\n",
    "        country_groups_Norway = 0\n",
    "        country_groups_Poland = 0\n",
    "        country_groups_Portugal = 0\n",
    "        country_groups_Scotland = 0\n",
    "        country_groups_Senegal = 0\n",
    "        country_groups_Spain = 0\n",
    "        country_groups_Sweden = 0\n",
    "        country_groups_Turkey = 0\n",
    "        country_groups_other = 0\n",
    "        if country == 'Belgium':\n",
    "            country_groups_Belgium = 1\n",
    "        elif country == 'Brazil':\n",
    "            country_groups_Brazil = 1\n",
    "        elif country == 'Croatia':\n",
    "            country_groups_Croatia = 1\n",
    "        elif country == 'Denmark':\n",
    "            country_groups_Denmark = 1\n",
    "        elif country == 'England':\n",
    "            country_groups_England = 1\n",
    "        elif country == 'France':\n",
    "            country_groups_France = 1\n",
    "        elif country == 'Germany':\n",
    "            country_groups_Germany = 1\n",
    "        elif country == 'Italy':\n",
    "            country_groups_Italy = 1\n",
    "        elif country == 'Morocco':\n",
    "            country_groups_Morocco = 1\n",
    "        elif country == 'Netherlands':\n",
    "            country_groups_Netherlands = 1\n",
    "        elif country == 'Nigeria':\n",
    "            country_groups_Nigeria = 1\n",
    "        elif country == 'Norway':\n",
    "            country_groups_Norway = 1\n",
    "        elif country == 'Poland':\n",
    "            country_groups_Poland = 1\n",
    "        elif country == 'Portugal':\n",
    "            country_groups_Portugal = 1\n",
    "        elif country == 'Scotland':\n",
    "            country_groups_Scotland = 1\n",
    "        elif country == 'Senegal':\n",
    "            country_groups_Senegal = 1\n",
    "        elif country == 'Spain':\n",
    "            country_groups_Spain = 1\n",
    "        elif country == 'Sweden':\n",
    "            country_groups_Sweden = 1\n",
    "        elif country == 'Turkey':\n",
    "            country_groups_Turkey = 1\n",
    "        elif country == 'other':\n",
    "            country_groups_other = 1\n",
    "\n",
    "        row = {'overall_score': overall_score, 'potential_score': potential_score, 'Height': Height, 'Weight': Weight, 'Age': Age, 'ball_skills': ball_skills, 'Mental': Mental, 'Passing':Passing, 'Physical':Physical, 'Shooting':Shooting, 'preferred_foot_Right': preferred_foot_Right, 'sub_position_Centre_Forward':sub_position_Centre_Forward, 'sub_position_Left_Winger': sub_position_Left_Winger, 'sub_position_Right_Winger':sub_position_Right_Winger, 'sub_position_Second_Striker':sub_position_Second_Striker, 'country_groups_Belgium':country_groups_Belgium, 'country_groups_Brazil':country_groups_Brazil, 'country_groups_Croatia':country_groups_Croatia, 'country_groups_Denmark':country_groups_Denmark, 'country_groups_England':country_groups_England, 'country_groups_France':country_groups_France, 'country_groups_Germany':country_groups_Germany, 'country_groups_Italy':country_groups_Italy, 'country_groups_Morocco':country_groups_Morocco, 'country_groups_Netherlands':country_groups_Netherlands, 'country_groups_Nigeria':country_groups_Nigeria, 'country_groups_Norway':country_groups_Norway, 'country_groups_Poland':country_groups_Poland, 'country_groups_Portugal':country_groups_Portugal, 'country_groups_Scotland':country_groups_Scotland, 'country_groups_Senegal':country_groups_Senegal, 'country_groups_Spain':country_groups_Spain, 'country_groups_Sweden':country_groups_Sweden, 'country_groups_Turkey':country_groups_Turkey, 'country_groups_other':country_groups_other}\n",
    "\n",
    "        single_row = pd.DataFrame(row, index = [0])\n",
    "        comp = input('Is the player from Premier League, Ligue 1, Seria A, Bundesliga or La Liga? (Yes/No)')\n",
    "\n",
    "        if comp == 'Yes':\n",
    "            market_value = np.exp(las_results_forwards_major.predict(single_row))\n",
    "        else:\n",
    "            market_value = np.exp(rdg_results_forwards_other.predict(single_row))\n",
    "\n",
    "        return format(market_value[0], '.2f')"
   ],
   "metadata": {
    "collapsed": false
   }
  },
  {
   "cell_type": "code",
   "execution_count": null,
   "outputs": [],
   "source": [
    "## Information on R9, stats taken from R9 icon card from FIFA 20\n",
    "\n",
    "R9 = [overall = 96, potential 96, height 183, age 20, weight n/a, ball_skills 96.5, mental 74.67, passing 78, physical 88.29, shooting 90.875, preferred_foot right, position striker, country brazil, comp it1]"
   ],
   "metadata": {
    "collapsed": false
   }
  },
  {
   "cell_type": "code",
   "execution_count": 219,
   "outputs": [
    {
     "data": {
      "text/plain": "'874514677.65'"
     },
     "execution_count": 219,
     "metadata": {},
     "output_type": "execute_result"
    }
   ],
   "source": [
    "player_market_value('Forward')"
   ],
   "metadata": {
    "collapsed": false
   }
  },
  {
   "cell_type": "code",
   "execution_count": 220,
   "outputs": [],
   "source": [
    "## A market value of 874m is predicted, which could be valid since its R9?\n",
    "## I do not have actual market value for R9 in 2023, so there is no way to know how accurate this is ..."
   ],
   "metadata": {
    "collapsed": false
   }
  },
  {
   "cell_type": "code",
   "execution_count": null,
   "outputs": [],
   "source": [],
   "metadata": {
    "collapsed": false
   }
  }
 ],
 "metadata": {
  "kernelspec": {
   "display_name": "Python 3",
   "language": "python",
   "name": "python3"
  },
  "language_info": {
   "codemirror_mode": {
    "name": "ipython",
    "version": 2
   },
   "file_extension": ".py",
   "mimetype": "text/x-python",
   "name": "python",
   "nbconvert_exporter": "python",
   "pygments_lexer": "ipython2",
   "version": "2.7.6"
  }
 },
 "nbformat": 4,
 "nbformat_minor": 0
}
