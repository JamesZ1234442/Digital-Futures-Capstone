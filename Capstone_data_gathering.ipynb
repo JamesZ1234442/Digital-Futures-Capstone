{
 "cells": [
  {
   "cell_type": "markdown",
   "source": [
    "## Capstone Data Gathering"
   ],
   "metadata": {
    "collapsed": false
   }
  },
  {
   "cell_type": "code",
   "execution_count": 27,
   "outputs": [],
   "source": [
    "## Importing all the modules needed\n",
    "\n",
    "import pandas as pd\n",
    "import numpy as np\n",
    "from bs4 import BeautifulSoup\n",
    "import requests"
   ],
   "metadata": {
    "collapsed": false
   }
  },
  {
   "cell_type": "code",
   "execution_count": 3,
   "outputs": [],
   "source": [
    "## The first dataset have been downloaded from Kaggle\n",
    "## Containing players general information\n",
    "\n",
    "players = pd.read_csv('players.csv')"
   ],
   "metadata": {
    "collapsed": false
   }
  },
  {
   "cell_type": "code",
   "execution_count": 5,
   "outputs": [
    {
     "data": {
      "text/plain": "    player_id                name  current_club_id   current_club_name  \\\n0      134354     Ian Raeymaekers              498         Ksc Lokeren   \n1       99946      Mohamed Camara             1095        Es Troyes Ac   \n2       76948       Pablo Olivera              979       Moreirense Fc   \n3      108372      Aliosman Aydin               38  Fortuna Dusseldorf   \n4       78820  Jaime Alfonso Ruiz              354         Kv Mechelen   \n5      167061   Leighton McIntosh              511           Dundee Fc   \n6      188076        Kevin Buchan              511           Dundee Fc   \n7       12840        Steven Milne              511           Dundee Fc   \n8      126278     Giannis Simosis             5219         Aok Kerkyra   \n9      139735      Giannis Gesios             5219         Aok Kerkyra   \n10      39049          Kei Kamara             1123        Norwich City   \n11      46154        Chris Martin             1123        Norwich City   \n12     104725       Steve Morison             1123        Norwich City   \n13      30471       James Vaughan             1123        Norwich City   \n14       3666       Jason Roberts             1032          Fc Reading   \n15     192366          Gozie Ugwu             1032          Fc Reading   \n16      12628           Noel Hunt             1032          Fc Reading   \n17      69653     Garath McCleary             1032          Fc Reading   \n18      67369       Nick Blackman             1032          Fc Reading   \n19      46106      Adam Le Fondre             1032          Fc Reading   \n\n   country_of_citizenship country_of_birth city_of_birth date_of_birth  \\\n0                 Belgium          Belgium       Aalst      1995-01-30   \n1                  Guinea           Guinea     Conakry      1990-09-20   \n2                 Uruguay          Uruguay        Melo      1987-12-08   \n3                  Turkey          Germany    Dormagen      1992-02-06   \n4                Colombia         Colombia        Cali      1984-01-03   \n5                Scotland         Scotland      Dundee      1993-02-06   \n6                Scotland         Scotland      Dundee      1994-08-07   \n7                Scotland         Scotland      Dundee      1980-05-05   \n8                  Greece           Greece        Evia      1991-03-13   \n9                  Greece           Greece      Edessa      1988-08-03   \n10           Sierra Leone     Sierra Leone      Kenema      1984-09-01   \n11               Scotland          England     Beccles      1988-11-04   \n12                  Wales          England      London      1983-08-29   \n13                England          England  Birmingham      1988-07-14   \n14                Grenada          England      London      1978-01-25   \n15                England          England      Oxford      1993-04-22   \n16                Ireland          Ireland   Waterford      1982-12-26   \n17                Jamaica          England      Oxford      1987-05-15   \n18               Barbados          England        Bury      1989-11-11   \n19                England          England   Stockport      1986-12-02   \n\n   position    sub_position  ... highest_market_value_in_eur  \\\n0    Attack  Centre-Forward  ...                     50000.0   \n1    Attack  Centre-Forward  ...                    300000.0   \n2    Attack  Centre-Forward  ...                    600000.0   \n3    Attack  Centre-Forward  ...                    125000.0   \n4    Attack  Centre-Forward  ...                   1700000.0   \n5    Attack  Centre-Forward  ...                    175000.0   \n6    Attack  Centre-Forward  ...                         NaN   \n7    Attack  Centre-Forward  ...                    500000.0   \n8    Attack  Centre-Forward  ...                    300000.0   \n9    Attack  Centre-Forward  ...                    300000.0   \n10   Attack  Centre-Forward  ...                   1000000.0   \n11   Attack  Centre-Forward  ...                   4500000.0   \n12   Attack  Centre-Forward  ...                   3500000.0   \n13   Attack  Centre-Forward  ...                   2000000.0   \n14   Attack  Centre-Forward  ...                   4000000.0   \n15   Attack  Centre-Forward  ...                    250000.0   \n16   Attack  Centre-Forward  ...                   2250000.0   \n17   Attack    Right Winger  ...                   1500000.0   \n18   Attack  Centre-Forward  ...                   2500000.0   \n19   Attack  Centre-Forward  ...                   4000000.0   \n\n                       agent_name  contract_expiration_date  \\\n0                             NaN                       NaN   \n1                             NaN                       NaN   \n2                             NaN                       NaN   \n3                             NaN                       NaN   \n4                             NaN                       NaN   \n5                             NaN                       NaN   \n6                             NaN                2023-06-30   \n7                             NaN                       NaN   \n8                             NaN                       NaN   \n9                             NaN                2023-06-30   \n10            PROSPORT Management                2023-12-31   \n11       After Sports Consultancy                2023-06-30   \n12                 10Ten Football                       NaN   \n13            Unique Sports Group                       NaN   \n14  First Artist Corporation Plc.                       NaN   \n15    RT Management & Consultancy                2023-06-01   \n16                            NaN                       NaN   \n17                            SBM                       NaN   \n18                      Wasserman                       NaN   \n19      Football Asset Management                2023-06-30   \n\n    current_club_domestic_competition_id     first_name    last_name  \\\n0                                    BE1            Ian  Raeymaekers   \n1                                    FR1        Mohamed       Camara   \n2                                    PO1          Pablo      Olivera   \n3                                     L1       Aliosman        Aydin   \n4                                    BE1  Jaime Alfonso         Ruiz   \n5                                    SC1       Leighton     McIntosh   \n6                                    SC1          Kevin       Buchan   \n7                                    SC1         Steven        Milne   \n8                                    GR1        Giannis      Simosis   \n9                                    GR1        Giannis       Gesios   \n10                                   GB1            Kei       Kamara   \n11                                   GB1          Chris       Martin   \n12                                   GB1          Steve      Morison   \n13                                   GB1          James      Vaughan   \n14                                   GB1          Jason      Roberts   \n15                                   GB1          Gozie         Ugwu   \n16                                   GB1           Noel         Hunt   \n17                                   GB1         Garath     McCleary   \n18                                   GB1           Nick     Blackman   \n19                                   GB1           Adam    Le Fondre   \n\n           player_code                                          image_url  \\\n0      ian-raeymaekers  https://img.a.transfermarkt.technology/portrai...   \n1       mohamed-camara  https://img.a.transfermarkt.technology/portrai...   \n2        pablo-olivera  https://img.a.transfermarkt.technology/portrai...   \n3       aliosman-aydin  https://img.a.transfermarkt.technology/portrai...   \n4   jaime-alfonso-ruiz  https://img.a.transfermarkt.technology/portrai...   \n5    leighton-mcintosh  https://img.a.transfermarkt.technology/portrai...   \n6         kevin-buchan  https://img.a.transfermarkt.technology/portrai...   \n7         steven-milne  https://img.a.transfermarkt.technology/portrai...   \n8      giannis-simosis  https://img.a.transfermarkt.technology/portrai...   \n9       giannis-gesios  https://img.a.transfermarkt.technology/portrai...   \n10          kei-kamara  https://img.a.transfermarkt.technology/portrai...   \n11        chris-martin  https://img.a.transfermarkt.technology/portrai...   \n12       steve-morison  https://img.a.transfermarkt.technology/portrai...   \n13       james-vaughan  https://img.a.transfermarkt.technology/portrai...   \n14       jason-roberts  https://img.a.transfermarkt.technology/portrai...   \n15          gozie-ugwu  https://img.a.transfermarkt.technology/portrai...   \n16           noel-hunt  https://img.a.transfermarkt.technology/portrai...   \n17     garath-mccleary  https://img.a.transfermarkt.technology/portrai...   \n18       nick-blackman  https://img.a.transfermarkt.technology/portrai...   \n19      adam-le-fondre  https://img.a.transfermarkt.technology/portrai...   \n\n   last_season                                                url  \n0         2012  https://www.transfermarkt.co.uk/ian-raeymaeker...  \n1         2012  https://www.transfermarkt.co.uk/mohamed-camara...  \n2         2012  https://www.transfermarkt.co.uk/pablo-olivera/...  \n3         2012  https://www.transfermarkt.co.uk/aliosman-aydin...  \n4         2012  https://www.transfermarkt.co.uk/jaime-alfonso-...  \n5         2012  https://www.transfermarkt.co.uk/leighton-mcint...  \n6         2012  https://www.transfermarkt.co.uk/kevin-buchan/p...  \n7         2012  https://www.transfermarkt.co.uk/steven-milne/p...  \n8         2012  https://www.transfermarkt.co.uk/giannis-simosi...  \n9         2012  https://www.transfermarkt.co.uk/giannis-gesios...  \n10        2012  https://www.transfermarkt.co.uk/kei-kamara/pro...  \n11        2012  https://www.transfermarkt.co.uk/chris-martin/p...  \n12        2012  https://www.transfermarkt.co.uk/steve-morison/...  \n13        2012  https://www.transfermarkt.co.uk/james-vaughan/...  \n14        2012  https://www.transfermarkt.co.uk/jason-roberts/...  \n15        2012  https://www.transfermarkt.co.uk/gozie-ugwu/pro...  \n16        2012  https://www.transfermarkt.co.uk/noel-hunt/prof...  \n17        2012  https://www.transfermarkt.co.uk/garath-mcclear...  \n18        2012  https://www.transfermarkt.co.uk/nick-blackman/...  \n19        2012  https://www.transfermarkt.co.uk/adam-le-fondre...  \n\n[20 rows x 23 columns]",
      "text/html": "<div>\n<style scoped>\n    .dataframe tbody tr th:only-of-type {\n        vertical-align: middle;\n    }\n\n    .dataframe tbody tr th {\n        vertical-align: top;\n    }\n\n    .dataframe thead th {\n        text-align: right;\n    }\n</style>\n<table border=\"1\" class=\"dataframe\">\n  <thead>\n    <tr style=\"text-align: right;\">\n      <th></th>\n      <th>player_id</th>\n      <th>name</th>\n      <th>current_club_id</th>\n      <th>current_club_name</th>\n      <th>country_of_citizenship</th>\n      <th>country_of_birth</th>\n      <th>city_of_birth</th>\n      <th>date_of_birth</th>\n      <th>position</th>\n      <th>sub_position</th>\n      <th>...</th>\n      <th>highest_market_value_in_eur</th>\n      <th>agent_name</th>\n      <th>contract_expiration_date</th>\n      <th>current_club_domestic_competition_id</th>\n      <th>first_name</th>\n      <th>last_name</th>\n      <th>player_code</th>\n      <th>image_url</th>\n      <th>last_season</th>\n      <th>url</th>\n    </tr>\n  </thead>\n  <tbody>\n    <tr>\n      <th>0</th>\n      <td>134354</td>\n      <td>Ian Raeymaekers</td>\n      <td>498</td>\n      <td>Ksc Lokeren</td>\n      <td>Belgium</td>\n      <td>Belgium</td>\n      <td>Aalst</td>\n      <td>1995-01-30</td>\n      <td>Attack</td>\n      <td>Centre-Forward</td>\n      <td>...</td>\n      <td>50000.0</td>\n      <td>NaN</td>\n      <td>NaN</td>\n      <td>BE1</td>\n      <td>Ian</td>\n      <td>Raeymaekers</td>\n      <td>ian-raeymaekers</td>\n      <td>https://img.a.transfermarkt.technology/portrai...</td>\n      <td>2012</td>\n      <td>https://www.transfermarkt.co.uk/ian-raeymaeker...</td>\n    </tr>\n    <tr>\n      <th>1</th>\n      <td>99946</td>\n      <td>Mohamed Camara</td>\n      <td>1095</td>\n      <td>Es Troyes Ac</td>\n      <td>Guinea</td>\n      <td>Guinea</td>\n      <td>Conakry</td>\n      <td>1990-09-20</td>\n      <td>Attack</td>\n      <td>Centre-Forward</td>\n      <td>...</td>\n      <td>300000.0</td>\n      <td>NaN</td>\n      <td>NaN</td>\n      <td>FR1</td>\n      <td>Mohamed</td>\n      <td>Camara</td>\n      <td>mohamed-camara</td>\n      <td>https://img.a.transfermarkt.technology/portrai...</td>\n      <td>2012</td>\n      <td>https://www.transfermarkt.co.uk/mohamed-camara...</td>\n    </tr>\n    <tr>\n      <th>2</th>\n      <td>76948</td>\n      <td>Pablo Olivera</td>\n      <td>979</td>\n      <td>Moreirense Fc</td>\n      <td>Uruguay</td>\n      <td>Uruguay</td>\n      <td>Melo</td>\n      <td>1987-12-08</td>\n      <td>Attack</td>\n      <td>Centre-Forward</td>\n      <td>...</td>\n      <td>600000.0</td>\n      <td>NaN</td>\n      <td>NaN</td>\n      <td>PO1</td>\n      <td>Pablo</td>\n      <td>Olivera</td>\n      <td>pablo-olivera</td>\n      <td>https://img.a.transfermarkt.technology/portrai...</td>\n      <td>2012</td>\n      <td>https://www.transfermarkt.co.uk/pablo-olivera/...</td>\n    </tr>\n    <tr>\n      <th>3</th>\n      <td>108372</td>\n      <td>Aliosman Aydin</td>\n      <td>38</td>\n      <td>Fortuna Dusseldorf</td>\n      <td>Turkey</td>\n      <td>Germany</td>\n      <td>Dormagen</td>\n      <td>1992-02-06</td>\n      <td>Attack</td>\n      <td>Centre-Forward</td>\n      <td>...</td>\n      <td>125000.0</td>\n      <td>NaN</td>\n      <td>NaN</td>\n      <td>L1</td>\n      <td>Aliosman</td>\n      <td>Aydin</td>\n      <td>aliosman-aydin</td>\n      <td>https://img.a.transfermarkt.technology/portrai...</td>\n      <td>2012</td>\n      <td>https://www.transfermarkt.co.uk/aliosman-aydin...</td>\n    </tr>\n    <tr>\n      <th>4</th>\n      <td>78820</td>\n      <td>Jaime Alfonso Ruiz</td>\n      <td>354</td>\n      <td>Kv Mechelen</td>\n      <td>Colombia</td>\n      <td>Colombia</td>\n      <td>Cali</td>\n      <td>1984-01-03</td>\n      <td>Attack</td>\n      <td>Centre-Forward</td>\n      <td>...</td>\n      <td>1700000.0</td>\n      <td>NaN</td>\n      <td>NaN</td>\n      <td>BE1</td>\n      <td>Jaime Alfonso</td>\n      <td>Ruiz</td>\n      <td>jaime-alfonso-ruiz</td>\n      <td>https://img.a.transfermarkt.technology/portrai...</td>\n      <td>2012</td>\n      <td>https://www.transfermarkt.co.uk/jaime-alfonso-...</td>\n    </tr>\n    <tr>\n      <th>5</th>\n      <td>167061</td>\n      <td>Leighton McIntosh</td>\n      <td>511</td>\n      <td>Dundee Fc</td>\n      <td>Scotland</td>\n      <td>Scotland</td>\n      <td>Dundee</td>\n      <td>1993-02-06</td>\n      <td>Attack</td>\n      <td>Centre-Forward</td>\n      <td>...</td>\n      <td>175000.0</td>\n      <td>NaN</td>\n      <td>NaN</td>\n      <td>SC1</td>\n      <td>Leighton</td>\n      <td>McIntosh</td>\n      <td>leighton-mcintosh</td>\n      <td>https://img.a.transfermarkt.technology/portrai...</td>\n      <td>2012</td>\n      <td>https://www.transfermarkt.co.uk/leighton-mcint...</td>\n    </tr>\n    <tr>\n      <th>6</th>\n      <td>188076</td>\n      <td>Kevin Buchan</td>\n      <td>511</td>\n      <td>Dundee Fc</td>\n      <td>Scotland</td>\n      <td>Scotland</td>\n      <td>Dundee</td>\n      <td>1994-08-07</td>\n      <td>Attack</td>\n      <td>Centre-Forward</td>\n      <td>...</td>\n      <td>NaN</td>\n      <td>NaN</td>\n      <td>2023-06-30</td>\n      <td>SC1</td>\n      <td>Kevin</td>\n      <td>Buchan</td>\n      <td>kevin-buchan</td>\n      <td>https://img.a.transfermarkt.technology/portrai...</td>\n      <td>2012</td>\n      <td>https://www.transfermarkt.co.uk/kevin-buchan/p...</td>\n    </tr>\n    <tr>\n      <th>7</th>\n      <td>12840</td>\n      <td>Steven Milne</td>\n      <td>511</td>\n      <td>Dundee Fc</td>\n      <td>Scotland</td>\n      <td>Scotland</td>\n      <td>Dundee</td>\n      <td>1980-05-05</td>\n      <td>Attack</td>\n      <td>Centre-Forward</td>\n      <td>...</td>\n      <td>500000.0</td>\n      <td>NaN</td>\n      <td>NaN</td>\n      <td>SC1</td>\n      <td>Steven</td>\n      <td>Milne</td>\n      <td>steven-milne</td>\n      <td>https://img.a.transfermarkt.technology/portrai...</td>\n      <td>2012</td>\n      <td>https://www.transfermarkt.co.uk/steven-milne/p...</td>\n    </tr>\n    <tr>\n      <th>8</th>\n      <td>126278</td>\n      <td>Giannis Simosis</td>\n      <td>5219</td>\n      <td>Aok Kerkyra</td>\n      <td>Greece</td>\n      <td>Greece</td>\n      <td>Evia</td>\n      <td>1991-03-13</td>\n      <td>Attack</td>\n      <td>Centre-Forward</td>\n      <td>...</td>\n      <td>300000.0</td>\n      <td>NaN</td>\n      <td>NaN</td>\n      <td>GR1</td>\n      <td>Giannis</td>\n      <td>Simosis</td>\n      <td>giannis-simosis</td>\n      <td>https://img.a.transfermarkt.technology/portrai...</td>\n      <td>2012</td>\n      <td>https://www.transfermarkt.co.uk/giannis-simosi...</td>\n    </tr>\n    <tr>\n      <th>9</th>\n      <td>139735</td>\n      <td>Giannis Gesios</td>\n      <td>5219</td>\n      <td>Aok Kerkyra</td>\n      <td>Greece</td>\n      <td>Greece</td>\n      <td>Edessa</td>\n      <td>1988-08-03</td>\n      <td>Attack</td>\n      <td>Centre-Forward</td>\n      <td>...</td>\n      <td>300000.0</td>\n      <td>NaN</td>\n      <td>2023-06-30</td>\n      <td>GR1</td>\n      <td>Giannis</td>\n      <td>Gesios</td>\n      <td>giannis-gesios</td>\n      <td>https://img.a.transfermarkt.technology/portrai...</td>\n      <td>2012</td>\n      <td>https://www.transfermarkt.co.uk/giannis-gesios...</td>\n    </tr>\n    <tr>\n      <th>10</th>\n      <td>39049</td>\n      <td>Kei Kamara</td>\n      <td>1123</td>\n      <td>Norwich City</td>\n      <td>Sierra Leone</td>\n      <td>Sierra Leone</td>\n      <td>Kenema</td>\n      <td>1984-09-01</td>\n      <td>Attack</td>\n      <td>Centre-Forward</td>\n      <td>...</td>\n      <td>1000000.0</td>\n      <td>PROSPORT Management</td>\n      <td>2023-12-31</td>\n      <td>GB1</td>\n      <td>Kei</td>\n      <td>Kamara</td>\n      <td>kei-kamara</td>\n      <td>https://img.a.transfermarkt.technology/portrai...</td>\n      <td>2012</td>\n      <td>https://www.transfermarkt.co.uk/kei-kamara/pro...</td>\n    </tr>\n    <tr>\n      <th>11</th>\n      <td>46154</td>\n      <td>Chris Martin</td>\n      <td>1123</td>\n      <td>Norwich City</td>\n      <td>Scotland</td>\n      <td>England</td>\n      <td>Beccles</td>\n      <td>1988-11-04</td>\n      <td>Attack</td>\n      <td>Centre-Forward</td>\n      <td>...</td>\n      <td>4500000.0</td>\n      <td>After Sports Consultancy</td>\n      <td>2023-06-30</td>\n      <td>GB1</td>\n      <td>Chris</td>\n      <td>Martin</td>\n      <td>chris-martin</td>\n      <td>https://img.a.transfermarkt.technology/portrai...</td>\n      <td>2012</td>\n      <td>https://www.transfermarkt.co.uk/chris-martin/p...</td>\n    </tr>\n    <tr>\n      <th>12</th>\n      <td>104725</td>\n      <td>Steve Morison</td>\n      <td>1123</td>\n      <td>Norwich City</td>\n      <td>Wales</td>\n      <td>England</td>\n      <td>London</td>\n      <td>1983-08-29</td>\n      <td>Attack</td>\n      <td>Centre-Forward</td>\n      <td>...</td>\n      <td>3500000.0</td>\n      <td>10Ten Football</td>\n      <td>NaN</td>\n      <td>GB1</td>\n      <td>Steve</td>\n      <td>Morison</td>\n      <td>steve-morison</td>\n      <td>https://img.a.transfermarkt.technology/portrai...</td>\n      <td>2012</td>\n      <td>https://www.transfermarkt.co.uk/steve-morison/...</td>\n    </tr>\n    <tr>\n      <th>13</th>\n      <td>30471</td>\n      <td>James Vaughan</td>\n      <td>1123</td>\n      <td>Norwich City</td>\n      <td>England</td>\n      <td>England</td>\n      <td>Birmingham</td>\n      <td>1988-07-14</td>\n      <td>Attack</td>\n      <td>Centre-Forward</td>\n      <td>...</td>\n      <td>2000000.0</td>\n      <td>Unique Sports Group</td>\n      <td>NaN</td>\n      <td>GB1</td>\n      <td>James</td>\n      <td>Vaughan</td>\n      <td>james-vaughan</td>\n      <td>https://img.a.transfermarkt.technology/portrai...</td>\n      <td>2012</td>\n      <td>https://www.transfermarkt.co.uk/james-vaughan/...</td>\n    </tr>\n    <tr>\n      <th>14</th>\n      <td>3666</td>\n      <td>Jason Roberts</td>\n      <td>1032</td>\n      <td>Fc Reading</td>\n      <td>Grenada</td>\n      <td>England</td>\n      <td>London</td>\n      <td>1978-01-25</td>\n      <td>Attack</td>\n      <td>Centre-Forward</td>\n      <td>...</td>\n      <td>4000000.0</td>\n      <td>First Artist Corporation Plc.</td>\n      <td>NaN</td>\n      <td>GB1</td>\n      <td>Jason</td>\n      <td>Roberts</td>\n      <td>jason-roberts</td>\n      <td>https://img.a.transfermarkt.technology/portrai...</td>\n      <td>2012</td>\n      <td>https://www.transfermarkt.co.uk/jason-roberts/...</td>\n    </tr>\n    <tr>\n      <th>15</th>\n      <td>192366</td>\n      <td>Gozie Ugwu</td>\n      <td>1032</td>\n      <td>Fc Reading</td>\n      <td>England</td>\n      <td>England</td>\n      <td>Oxford</td>\n      <td>1993-04-22</td>\n      <td>Attack</td>\n      <td>Centre-Forward</td>\n      <td>...</td>\n      <td>250000.0</td>\n      <td>RT Management &amp; Consultancy</td>\n      <td>2023-06-01</td>\n      <td>GB1</td>\n      <td>Gozie</td>\n      <td>Ugwu</td>\n      <td>gozie-ugwu</td>\n      <td>https://img.a.transfermarkt.technology/portrai...</td>\n      <td>2012</td>\n      <td>https://www.transfermarkt.co.uk/gozie-ugwu/pro...</td>\n    </tr>\n    <tr>\n      <th>16</th>\n      <td>12628</td>\n      <td>Noel Hunt</td>\n      <td>1032</td>\n      <td>Fc Reading</td>\n      <td>Ireland</td>\n      <td>Ireland</td>\n      <td>Waterford</td>\n      <td>1982-12-26</td>\n      <td>Attack</td>\n      <td>Centre-Forward</td>\n      <td>...</td>\n      <td>2250000.0</td>\n      <td>NaN</td>\n      <td>NaN</td>\n      <td>GB1</td>\n      <td>Noel</td>\n      <td>Hunt</td>\n      <td>noel-hunt</td>\n      <td>https://img.a.transfermarkt.technology/portrai...</td>\n      <td>2012</td>\n      <td>https://www.transfermarkt.co.uk/noel-hunt/prof...</td>\n    </tr>\n    <tr>\n      <th>17</th>\n      <td>69653</td>\n      <td>Garath McCleary</td>\n      <td>1032</td>\n      <td>Fc Reading</td>\n      <td>Jamaica</td>\n      <td>England</td>\n      <td>Oxford</td>\n      <td>1987-05-15</td>\n      <td>Attack</td>\n      <td>Right Winger</td>\n      <td>...</td>\n      <td>1500000.0</td>\n      <td>SBM</td>\n      <td>NaN</td>\n      <td>GB1</td>\n      <td>Garath</td>\n      <td>McCleary</td>\n      <td>garath-mccleary</td>\n      <td>https://img.a.transfermarkt.technology/portrai...</td>\n      <td>2012</td>\n      <td>https://www.transfermarkt.co.uk/garath-mcclear...</td>\n    </tr>\n    <tr>\n      <th>18</th>\n      <td>67369</td>\n      <td>Nick Blackman</td>\n      <td>1032</td>\n      <td>Fc Reading</td>\n      <td>Barbados</td>\n      <td>England</td>\n      <td>Bury</td>\n      <td>1989-11-11</td>\n      <td>Attack</td>\n      <td>Centre-Forward</td>\n      <td>...</td>\n      <td>2500000.0</td>\n      <td>Wasserman</td>\n      <td>NaN</td>\n      <td>GB1</td>\n      <td>Nick</td>\n      <td>Blackman</td>\n      <td>nick-blackman</td>\n      <td>https://img.a.transfermarkt.technology/portrai...</td>\n      <td>2012</td>\n      <td>https://www.transfermarkt.co.uk/nick-blackman/...</td>\n    </tr>\n    <tr>\n      <th>19</th>\n      <td>46106</td>\n      <td>Adam Le Fondre</td>\n      <td>1032</td>\n      <td>Fc Reading</td>\n      <td>England</td>\n      <td>England</td>\n      <td>Stockport</td>\n      <td>1986-12-02</td>\n      <td>Attack</td>\n      <td>Centre-Forward</td>\n      <td>...</td>\n      <td>4000000.0</td>\n      <td>Football Asset Management</td>\n      <td>2023-06-30</td>\n      <td>GB1</td>\n      <td>Adam</td>\n      <td>Le Fondre</td>\n      <td>adam-le-fondre</td>\n      <td>https://img.a.transfermarkt.technology/portrai...</td>\n      <td>2012</td>\n      <td>https://www.transfermarkt.co.uk/adam-le-fondre...</td>\n    </tr>\n  </tbody>\n</table>\n<p>20 rows × 23 columns</p>\n</div>"
     },
     "execution_count": 5,
     "metadata": {},
     "output_type": "execute_result"
    }
   ],
   "source": [
    "## Checking if its imported properly\n",
    "\n",
    "players.head(20)"
   ],
   "metadata": {
    "collapsed": false
   }
  },
  {
   "cell_type": "code",
   "execution_count": 6,
   "outputs": [],
   "source": [
    "## The second dataset is webscrapped from FIFA index using the below code\n",
    "## A code inspired by the code in https://towardsdatascience.com/predicting-market-value-of-fifa-soccer-players-with-regression-5d79aed207d9\n",
    "## An article by Tan Pengshi Alvin\n",
    "## Very similar, as some bits were copied and pasted for efficiency\n",
    "\n",
    "#player_abilities = []\n",
    "#k=1\n",
    "#main_page = f'https://www.fifaindex.com/players/?page={k}'\n",
    "#resp = requests.get(main_page)\n",
    "#soup = BeautifulSoup(resp.text)\n",
    "#while soup.find('li', class_ = 'ml-auto').text != None:\n",
    "#    main_page = f'https://www.fifaindex.com/players/?page={k}'\n",
    "#    resp = requests.get(main_page)\n",
    "#    soup = BeautifulSoup(resp.text)\n",
    "\n",
    "#    link_player = []\n",
    "#    for x in soup.findAll('a', class_='link-player'):\n",
    "#        link_player.append(x.get('href'))\n",
    "#    link_player = set(link_player)\n",
    "#    link_player = ['https://www.fifaindex.com' + x for x in link_player]\n",
    "\n",
    "#    for links in link_player:\n",
    "#        player_page = links\n",
    "#        resp = requests.get(player_page)\n",
    "#        soup = BeautifulSoup(resp.text)\n",
    "\n",
    "#        player_name = soup.find('li', class_ = 'breadcrumb-item active').text\n",
    "\n",
    "#        try:\n",
    "#            player_overall = soup.findAll('h5', class_='card-header')[0].contents[1].contents[0].text\n",
    "#            player_potential = soup.findAll('h5', class_='card-header')[0].contents[1].contents[2].text\n",
    "#        except:\n",
    "#            player_overall = soup.findAll('h5', class_='card-header')[1].contents[1].contents[0].text\n",
    "#            player_potential = soup.findAll('h5', class_='card-header')[1].contents[1].contents[2].text\n",
    "\n",
    "#        Height = soup.findAll('span', class_=\"data-units data-units-metric\")[0].text.split()[0]\n",
    "#        Weight = soup.findAll('span', class_=\"data-units data-units-metric\")[1].text.split()[0]\n",
    "#        Age = soup.find(text='Age ').findNext().text\n",
    "#        Preferred_Foot = soup.find(text='Preferred Foot ').findNext().text\n",
    "\n",
    "#        Ball_Control = float(soup.find(text='Ball Control ').findNext().text)\n",
    "#        Dribbling = float(soup.find(text='Dribbling ').findNext().text)\n",
    "#        Ball_Skills = np.mean([Ball_Control,Dribbling])\n",
    "\n",
    "#        Slide_Tackle = float(soup.find(text='Slide Tackle ').findNext().text)\n",
    "#        Stand_Tackle = float(soup.find(text='Stand Tackle ').findNext().text)\n",
    "#        Defence = np.mean([Slide_Tackle,Stand_Tackle])\n",
    "\n",
    "#        Aggression = float(soup.find(text='Aggression ').findNext().text)\n",
    "#        Reactions = float(soup.find(text='Reactions ').findNext().text)\n",
    "#        Attack_Position = float(soup.find(text='Att. Position ').findNext().text)\n",
    "#        Interceptions = float(soup.find(text='Interceptions ').findNext().text)\n",
    "#        Vision = float(soup.find(text='Vision ').findNext().text)\n",
    "#        Composure = float(soup.find(text='Composure ').findNext().text)\n",
    "#        Mental = np.mean([Aggression,Reactions,Attack_Position,Interceptions,Vision,Composure])\n",
    "\n",
    "#        Crossing = float(soup.find(text='Crossing ').findNext().text)\n",
    "#        Short_Pass = float(soup.find(text='Short Pass ').findNext().text)\n",
    "#        Long_Pass = float(soup.find(text='Long Pass ').findNext().text)\n",
    "#        Passing = np.mean([Crossing,Short_Pass,Long_Pass])\n",
    "\n",
    "#        Acceleration = float(soup.find(text='Acceleration ').findNext().text)\n",
    "#        Stamina = float(soup.find(text='Stamina ').findNext().text)\n",
    "#        Strength = float(soup.find(text='Strength ').findNext().text)\n",
    "#        Balance = float(soup.find(text='Balance ').findNext().text)\n",
    "#        Sprint_Speed = float(soup.find(text='Sprint Speed ').findNext().text)\n",
    "#        Agility = float(soup.find(text='Agility ').findNext().text)\n",
    "#        Jumping = float(soup.find(text='Jumping ').findNext().text)\n",
    "#        Physical = np.mean([Acceleration,Stamina,Strength,Balance,Sprint_Speed,Agility,Jumping])\n",
    "\n",
    "#        Heading = float(soup.find(text='Heading ').findNext().text)\n",
    "#        Shot_Power = float(soup.find(text='Shot Power ').findNext().text)\n",
    "#        Finishing = float(soup.find(text='Finishing ').findNext().text)\n",
    "#        Long_Shots = float(soup.find(text='Long Shots ').findNext().text)\n",
    "#        Curve = float(soup.find(text='Curve ').findNext().text)\n",
    "#        FK_Acc = float(soup.find(text='FK Acc. ').findNext().text)\n",
    "#        Penalties = float(soup.find(text='Penalties ').findNext().text)\n",
    "#        Volleys = float(soup.find(text='Volleys ').findNext().text)\n",
    "#        Shooting = np.mean([Heading,Shot_Power,Finishing,Long_Shots,Curve,FK_Acc,Penalties,Volleys])\n",
    "\n",
    "#        GK_Positioning = float(soup.find(text='GK Positioning ').findNext().text)\n",
    "#        GK_Diving = float(soup.find(text='GK Diving ').findNext().text)\n",
    "#        GK_Handling = float(soup.find(text='GK Handling ').findNext().text)\n",
    "#        GK_Kicking = float(soup.find(text='GK Kicking ').findNext().text)\n",
    "#        GK_Reflexes = float(soup.find(text='GK Reflexes ').findNext().text)\n",
    "#        Goalkeeping = np.mean([GK_Positioning,GK_Diving,GK_Handling,GK_Kicking,GK_Reflexes])\n",
    "\n",
    "#        player = {'Player':player_name,'Overall Score':player_overall,'Potential Score':player_potential,\n",
    "#                  'Height':Height,'Weight':Weight,'Age':Age,'Preferred Foot':Preferred_Foot,\n",
    "#                  'Ball Skills':Ball_Skills,'Defence':Defence,'Mental':Mental,'Passing':Passing,'Physical':Physical,'Shooting':Shooting,\n",
    "#                  'Goalkeeping':Goalkeeping}\n",
    "#        player_abilities.append(player)\n",
    "\n",
    "#    main_page = f'https://www.fifaindex.com/players/?page={k}'\n",
    "#    resp = requests.get(main_page)\n",
    "#    soup = BeautifulSoup(resp.text)\n",
    "#    print(k)\n",
    "#    k+=1"
   ],
   "metadata": {
    "collapsed": false
   }
  },
  {
   "cell_type": "code",
   "execution_count": 8,
   "outputs": [],
   "source": [
    "## I have run the code above to create a dictionary and created a dataframe\n",
    "## The result have been downloaded to be a file named fifa_index.csv\n",
    "\n",
    "df = pd.read_csv('fifa_index.csv')"
   ],
   "metadata": {
    "collapsed": false
   }
  },
  {
   "cell_type": "code",
   "execution_count": 9,
   "outputs": [
    {
     "data": {
      "text/plain": "     #  Unnamed: 1                 Player  Overall Score  Potential Score  \\\n0    1           0                  Rodri             87               89   \n1    2           1              Neymar Jr             89               89   \n2    3           2          Karim Benzema             91               91   \n3    4           3              Jan Oblak             89               90   \n4    5           4               Casemiro             89               89   \n5    6           5  Marc-André ter Stegen             88               89   \n6    7           6        Frenkie de Jong             87               92   \n7    8           7     Robert Lewandowski             91               91   \n8    9           8   Gianluigi Donnarumma             88               92   \n9   10           9       Thibaut Courtois             90               91   \n10  11          10            Luka Modrić             88               88   \n11  12          11          Mohamed Salah             89               89   \n12  13          12             Sadio Mané             89               89   \n13  14          13          Kylian Mbappé             91               95   \n14  15          14                Alisson             89               90   \n15  16          15                Ederson             89               91   \n16  17          16         Erling Haaland             89               94   \n17  18          17             Harry Kane             89               89   \n18  19          18             Rúben Dias             88               91   \n19  20          19             Marquinhos             88               90   \n\n    Height  Weight  Age Preferred Foot  Ball Skills  Defence     Mental  \\\n0      191      82   26          Right         81.5     82.0  81.666667   \n1      175      68   31          Right         94.5     30.5  76.166667   \n2      185      81   35          Right         89.0     21.0  77.500000   \n3      188      87   30          Right         21.0     16.0  48.666667   \n4      185      84   31          Right         74.5     87.5  84.166667   \n5      187      85   30          Right         25.5     11.5  50.166667   \n6      180      74   25          Right         88.0     76.5  83.166667   \n7      185      81   34          Right         87.0     30.5  81.000000   \n8      196      90   24          Right         29.0     15.0  46.666667   \n9      199      96   30           Left         18.0     17.0  40.833333   \n10     172      66   37          Right         87.5     73.5  81.666667   \n11     175      71   30           Left         87.0     42.0  79.166667   \n12     174      69   30          Right         87.0     40.0  76.500000   \n13     182      73   24          Right         92.0     33.0  76.333333   \n14     193      91   30          Right         33.5     17.5  45.000000   \n15     188      86   29           Left         31.5     11.5  52.166667   \n16     195      94   22           Left         80.0     41.0  78.333333   \n17     188      89   29          Right         84.5     37.0  81.500000   \n18     187      82   25          Right         69.0     86.5  73.000000   \n19     183      75   28          Right         74.0     89.0  81.666667   \n\n      Passing   Physical  Shooting  Goalkeeping  \n0   77.333333  70.000000    68.250          9.8  \n1   83.000000  77.428571    82.250         11.8  \n2   80.000000  78.857143    84.500          8.2  \n3   32.000000  57.714286    18.500         86.2  \n4   76.666667  73.714286    73.875         13.4  \n5   47.333333  52.714286    21.125         86.6  \n6   86.000000  81.142857    68.625          9.8  \n7   75.000000  79.714286    87.875         10.2  \n8   27.333333  55.000000    19.875         85.2  \n9   27.333333  54.000000    22.250         85.4  \n10  89.666667  76.714286    76.250         10.4  \n11  80.333333  84.285714    79.875         12.4  \n12  77.666667  86.000000    77.625         11.2  \n13  78.000000  86.857143    81.375          8.4  \n14  45.000000  49.428571    25.000         87.0  \n15  48.666667  60.000000    27.375         87.2  \n16  58.000000  82.000000    82.625         10.4  \n17  83.333333  74.714286    85.250         10.8  \n18  70.666667  69.142857    48.375          9.4  \n19  79.000000  77.714286    54.250          9.4  ",
      "text/html": "<div>\n<style scoped>\n    .dataframe tbody tr th:only-of-type {\n        vertical-align: middle;\n    }\n\n    .dataframe tbody tr th {\n        vertical-align: top;\n    }\n\n    .dataframe thead th {\n        text-align: right;\n    }\n</style>\n<table border=\"1\" class=\"dataframe\">\n  <thead>\n    <tr style=\"text-align: right;\">\n      <th></th>\n      <th>#</th>\n      <th>Unnamed: 1</th>\n      <th>Player</th>\n      <th>Overall Score</th>\n      <th>Potential Score</th>\n      <th>Height</th>\n      <th>Weight</th>\n      <th>Age</th>\n      <th>Preferred Foot</th>\n      <th>Ball Skills</th>\n      <th>Defence</th>\n      <th>Mental</th>\n      <th>Passing</th>\n      <th>Physical</th>\n      <th>Shooting</th>\n      <th>Goalkeeping</th>\n    </tr>\n  </thead>\n  <tbody>\n    <tr>\n      <th>0</th>\n      <td>1</td>\n      <td>0</td>\n      <td>Rodri</td>\n      <td>87</td>\n      <td>89</td>\n      <td>191</td>\n      <td>82</td>\n      <td>26</td>\n      <td>Right</td>\n      <td>81.5</td>\n      <td>82.0</td>\n      <td>81.666667</td>\n      <td>77.333333</td>\n      <td>70.000000</td>\n      <td>68.250</td>\n      <td>9.8</td>\n    </tr>\n    <tr>\n      <th>1</th>\n      <td>2</td>\n      <td>1</td>\n      <td>Neymar Jr</td>\n      <td>89</td>\n      <td>89</td>\n      <td>175</td>\n      <td>68</td>\n      <td>31</td>\n      <td>Right</td>\n      <td>94.5</td>\n      <td>30.5</td>\n      <td>76.166667</td>\n      <td>83.000000</td>\n      <td>77.428571</td>\n      <td>82.250</td>\n      <td>11.8</td>\n    </tr>\n    <tr>\n      <th>2</th>\n      <td>3</td>\n      <td>2</td>\n      <td>Karim Benzema</td>\n      <td>91</td>\n      <td>91</td>\n      <td>185</td>\n      <td>81</td>\n      <td>35</td>\n      <td>Right</td>\n      <td>89.0</td>\n      <td>21.0</td>\n      <td>77.500000</td>\n      <td>80.000000</td>\n      <td>78.857143</td>\n      <td>84.500</td>\n      <td>8.2</td>\n    </tr>\n    <tr>\n      <th>3</th>\n      <td>4</td>\n      <td>3</td>\n      <td>Jan Oblak</td>\n      <td>89</td>\n      <td>90</td>\n      <td>188</td>\n      <td>87</td>\n      <td>30</td>\n      <td>Right</td>\n      <td>21.0</td>\n      <td>16.0</td>\n      <td>48.666667</td>\n      <td>32.000000</td>\n      <td>57.714286</td>\n      <td>18.500</td>\n      <td>86.2</td>\n    </tr>\n    <tr>\n      <th>4</th>\n      <td>5</td>\n      <td>4</td>\n      <td>Casemiro</td>\n      <td>89</td>\n      <td>89</td>\n      <td>185</td>\n      <td>84</td>\n      <td>31</td>\n      <td>Right</td>\n      <td>74.5</td>\n      <td>87.5</td>\n      <td>84.166667</td>\n      <td>76.666667</td>\n      <td>73.714286</td>\n      <td>73.875</td>\n      <td>13.4</td>\n    </tr>\n    <tr>\n      <th>5</th>\n      <td>6</td>\n      <td>5</td>\n      <td>Marc-André ter Stegen</td>\n      <td>88</td>\n      <td>89</td>\n      <td>187</td>\n      <td>85</td>\n      <td>30</td>\n      <td>Right</td>\n      <td>25.5</td>\n      <td>11.5</td>\n      <td>50.166667</td>\n      <td>47.333333</td>\n      <td>52.714286</td>\n      <td>21.125</td>\n      <td>86.6</td>\n    </tr>\n    <tr>\n      <th>6</th>\n      <td>7</td>\n      <td>6</td>\n      <td>Frenkie de Jong</td>\n      <td>87</td>\n      <td>92</td>\n      <td>180</td>\n      <td>74</td>\n      <td>25</td>\n      <td>Right</td>\n      <td>88.0</td>\n      <td>76.5</td>\n      <td>83.166667</td>\n      <td>86.000000</td>\n      <td>81.142857</td>\n      <td>68.625</td>\n      <td>9.8</td>\n    </tr>\n    <tr>\n      <th>7</th>\n      <td>8</td>\n      <td>7</td>\n      <td>Robert Lewandowski</td>\n      <td>91</td>\n      <td>91</td>\n      <td>185</td>\n      <td>81</td>\n      <td>34</td>\n      <td>Right</td>\n      <td>87.0</td>\n      <td>30.5</td>\n      <td>81.000000</td>\n      <td>75.000000</td>\n      <td>79.714286</td>\n      <td>87.875</td>\n      <td>10.2</td>\n    </tr>\n    <tr>\n      <th>8</th>\n      <td>9</td>\n      <td>8</td>\n      <td>Gianluigi Donnarumma</td>\n      <td>88</td>\n      <td>92</td>\n      <td>196</td>\n      <td>90</td>\n      <td>24</td>\n      <td>Right</td>\n      <td>29.0</td>\n      <td>15.0</td>\n      <td>46.666667</td>\n      <td>27.333333</td>\n      <td>55.000000</td>\n      <td>19.875</td>\n      <td>85.2</td>\n    </tr>\n    <tr>\n      <th>9</th>\n      <td>10</td>\n      <td>9</td>\n      <td>Thibaut Courtois</td>\n      <td>90</td>\n      <td>91</td>\n      <td>199</td>\n      <td>96</td>\n      <td>30</td>\n      <td>Left</td>\n      <td>18.0</td>\n      <td>17.0</td>\n      <td>40.833333</td>\n      <td>27.333333</td>\n      <td>54.000000</td>\n      <td>22.250</td>\n      <td>85.4</td>\n    </tr>\n    <tr>\n      <th>10</th>\n      <td>11</td>\n      <td>10</td>\n      <td>Luka Modrić</td>\n      <td>88</td>\n      <td>88</td>\n      <td>172</td>\n      <td>66</td>\n      <td>37</td>\n      <td>Right</td>\n      <td>87.5</td>\n      <td>73.5</td>\n      <td>81.666667</td>\n      <td>89.666667</td>\n      <td>76.714286</td>\n      <td>76.250</td>\n      <td>10.4</td>\n    </tr>\n    <tr>\n      <th>11</th>\n      <td>12</td>\n      <td>11</td>\n      <td>Mohamed Salah</td>\n      <td>89</td>\n      <td>89</td>\n      <td>175</td>\n      <td>71</td>\n      <td>30</td>\n      <td>Left</td>\n      <td>87.0</td>\n      <td>42.0</td>\n      <td>79.166667</td>\n      <td>80.333333</td>\n      <td>84.285714</td>\n      <td>79.875</td>\n      <td>12.4</td>\n    </tr>\n    <tr>\n      <th>12</th>\n      <td>13</td>\n      <td>12</td>\n      <td>Sadio Mané</td>\n      <td>89</td>\n      <td>89</td>\n      <td>174</td>\n      <td>69</td>\n      <td>30</td>\n      <td>Right</td>\n      <td>87.0</td>\n      <td>40.0</td>\n      <td>76.500000</td>\n      <td>77.666667</td>\n      <td>86.000000</td>\n      <td>77.625</td>\n      <td>11.2</td>\n    </tr>\n    <tr>\n      <th>13</th>\n      <td>14</td>\n      <td>13</td>\n      <td>Kylian Mbappé</td>\n      <td>91</td>\n      <td>95</td>\n      <td>182</td>\n      <td>73</td>\n      <td>24</td>\n      <td>Right</td>\n      <td>92.0</td>\n      <td>33.0</td>\n      <td>76.333333</td>\n      <td>78.000000</td>\n      <td>86.857143</td>\n      <td>81.375</td>\n      <td>8.4</td>\n    </tr>\n    <tr>\n      <th>14</th>\n      <td>15</td>\n      <td>14</td>\n      <td>Alisson</td>\n      <td>89</td>\n      <td>90</td>\n      <td>193</td>\n      <td>91</td>\n      <td>30</td>\n      <td>Right</td>\n      <td>33.5</td>\n      <td>17.5</td>\n      <td>45.000000</td>\n      <td>45.000000</td>\n      <td>49.428571</td>\n      <td>25.000</td>\n      <td>87.0</td>\n    </tr>\n    <tr>\n      <th>15</th>\n      <td>16</td>\n      <td>15</td>\n      <td>Ederson</td>\n      <td>89</td>\n      <td>91</td>\n      <td>188</td>\n      <td>86</td>\n      <td>29</td>\n      <td>Left</td>\n      <td>31.5</td>\n      <td>11.5</td>\n      <td>52.166667</td>\n      <td>48.666667</td>\n      <td>60.000000</td>\n      <td>27.375</td>\n      <td>87.2</td>\n    </tr>\n    <tr>\n      <th>16</th>\n      <td>17</td>\n      <td>16</td>\n      <td>Erling Haaland</td>\n      <td>89</td>\n      <td>94</td>\n      <td>195</td>\n      <td>94</td>\n      <td>22</td>\n      <td>Left</td>\n      <td>80.0</td>\n      <td>41.0</td>\n      <td>78.333333</td>\n      <td>58.000000</td>\n      <td>82.000000</td>\n      <td>82.625</td>\n      <td>10.4</td>\n    </tr>\n    <tr>\n      <th>17</th>\n      <td>18</td>\n      <td>17</td>\n      <td>Harry Kane</td>\n      <td>89</td>\n      <td>89</td>\n      <td>188</td>\n      <td>89</td>\n      <td>29</td>\n      <td>Right</td>\n      <td>84.5</td>\n      <td>37.0</td>\n      <td>81.500000</td>\n      <td>83.333333</td>\n      <td>74.714286</td>\n      <td>85.250</td>\n      <td>10.8</td>\n    </tr>\n    <tr>\n      <th>18</th>\n      <td>19</td>\n      <td>18</td>\n      <td>Rúben Dias</td>\n      <td>88</td>\n      <td>91</td>\n      <td>187</td>\n      <td>82</td>\n      <td>25</td>\n      <td>Right</td>\n      <td>69.0</td>\n      <td>86.5</td>\n      <td>73.000000</td>\n      <td>70.666667</td>\n      <td>69.142857</td>\n      <td>48.375</td>\n      <td>9.4</td>\n    </tr>\n    <tr>\n      <th>19</th>\n      <td>20</td>\n      <td>19</td>\n      <td>Marquinhos</td>\n      <td>88</td>\n      <td>90</td>\n      <td>183</td>\n      <td>75</td>\n      <td>28</td>\n      <td>Right</td>\n      <td>74.0</td>\n      <td>89.0</td>\n      <td>81.666667</td>\n      <td>79.000000</td>\n      <td>77.714286</td>\n      <td>54.250</td>\n      <td>9.4</td>\n    </tr>\n  </tbody>\n</table>\n</div>"
     },
     "execution_count": 9,
     "metadata": {},
     "output_type": "execute_result"
    }
   ],
   "source": [
    "## Checking if its imported properly\n",
    "\n",
    "df.head(20)"
   ],
   "metadata": {
    "collapsed": false
   }
  },
  {
   "cell_type": "code",
   "execution_count": 10,
   "outputs": [],
   "source": [
    "## For my project, I intend to have one dataframe with both players general information and scores in different areas\n",
    "## To do this, I will need a join on the name columns\n",
    "\n",
    "df = df.rename(columns={'Player':'name'})"
   ],
   "metadata": {
    "collapsed": false
   }
  },
  {
   "cell_type": "code",
   "execution_count": 11,
   "outputs": [],
   "source": [
    "## There are a few problems, such as accents in names, shortened names, nicknames, different spellings and many more...\n",
    "## I will begin by dealing with the accents\n",
    "## The code below creates a list of non-alphabets in both name columns in the dataframes\n",
    "\n",
    "letters = []\n",
    "alphabets = 'qwertyuiopasdfghjklzxcvbnm'\n",
    "for names in players.name:\n",
    "    for index in range(0, len(names)):\n",
    "        if names[index].lower() not in alphabets:\n",
    "            letters.append(names[index])\n",
    "\n",
    "for names in df.name:\n",
    "    for index in range(0, len(names)):\n",
    "        if names[index].lower() not in alphabets:\n",
    "            letters.append(names[index])"
   ],
   "metadata": {
    "collapsed": false
   }
  },
  {
   "cell_type": "code",
   "execution_count": 12,
   "outputs": [],
   "source": [
    "## We expect duplicates in the list, so we turn this into a set to reduce the length of the list\n",
    "\n",
    "letters = set(letters)"
   ],
   "metadata": {
    "collapsed": false
   }
  },
  {
   "cell_type": "code",
   "execution_count": 14,
   "outputs": [
    {
     "name": "stderr",
     "output_type": "stream",
     "text": [
      "C:\\Users\\james\\AppData\\Local\\Temp\\ipykernel_8800\\797606705.py:26: FutureWarning: The default value of regex will change from True to False in a future version. In addition, single character regular expressions will *not* be treated as literal strings when regex=True.\n",
      "  df['name'] = df['name'].str.replace(things, ' ').str.title()\n",
      "C:\\Users\\james\\AppData\\Local\\Temp\\ipykernel_8800\\797606705.py:27: FutureWarning: The default value of regex will change from True to False in a future version. In addition, single character regular expressions will *not* be treated as literal strings when regex=True.\n",
      "  players['name'] = players['name'].str.replace(things, ' ').str.title()\n"
     ]
    }
   ],
   "source": [
    "## changing the accents to alphabets using the letters set and matching them\n",
    "## I have used a lot of for loops here, I'm sure there are more efficient ways to do this.\n",
    "\n",
    "punctuations =[' ',\"'\",'-','.','́','̈','̌','‑','‘','’']\n",
    "letters_a = ['À','Á','Â','Ä','Å','Æ','à','á','â','ã','ä','å','æ','ā','ă','ą','Α','ả']\n",
    "letters_c = ['Ç','ç','Ć','ć','Č','č']\n",
    "letters_e = ['È','É','è','é','ê','ë','ę','ě','ễ']\n",
    "letters_i = ['Í','í','î','ï','İ','ı']\n",
    "letters_n = ['Ñ','ñ','ń','ň']\n",
    "letters_o = ['Ó','Ö','Ø', 'ð','ò','ó','ô','õ','ö','ø','ō','ő']\n",
    "letters_u = ['Ú','Ü','ù','ú','ü', 'ů']\n",
    "letters_p = ['Þ']\n",
    "letters_b = [ 'ß']\n",
    "letters_y = ['ý']\n",
    "letters_d = ['Đ','đ']\n",
    "letters_g = ['ğ']\n",
    "letters_k = ['ķ']\n",
    "letters_l = ['Ľ','ľ','Ł','ł']\n",
    "letters_r = ['Ř','ř']\n",
    "letters_s = ['Ś','ś','Ş','ş','Š','š','Ș','ș']\n",
    "letters_z = ['ź','Ż','ż','Ž','ž']\n",
    "letters_t = ['Ț','ț']\n",
    "\n",
    "\n",
    "for things in punctuations:\n",
    "    df['name'] = df['name'].str.replace(things, ' ').str.title()\n",
    "    players['name'] = players['name'].str.replace(things, ' ').str.title()\n",
    "\n",
    "for things in letters_a:\n",
    "    df['name'] = df['name'].str.replace(things, 'a').str.title()\n",
    "    players['name'] = players['name'].str.replace(things, 'a').str.title()\n",
    "\n",
    "for things in letters_c:\n",
    "    df['name'] = df['name'].str.replace(things, 'c').str.title()\n",
    "    players['name'] = players['name'].str.replace(things, 'c').str.title()\n",
    "\n",
    "for things in letters_e:\n",
    "    df['name'] = df['name'].str.replace(things, 'e').str.title()\n",
    "    players['name'] = players['name'].str.replace(things, 'e').str.title()\n",
    "\n",
    "for things in letters_i:\n",
    "    df['name'] = df['name'].str.replace(things, 'i').str.title()\n",
    "    players['name'] = players['name'].str.replace(things, 'i').str.title()\n",
    "\n",
    "for things in letters_n:\n",
    "    df['name'] = df['name'].str.replace(things, 'n').str.title()\n",
    "    players['name'] = players['name'].str.replace(things, 'n').str.title()\n",
    "\n",
    "for things in letters_o:\n",
    "    df['name'] = df['name'].str.replace(things, 'o').str.title()\n",
    "    players['name'] = players['name'].str.replace(things, 'o').str.title()\n",
    "\n",
    "for things in letters_u:\n",
    "    df['name'] = df['name'].str.replace(things, 'u').str.title()\n",
    "    players['name'] = players['name'].str.replace(things, 'u').str.title()\n",
    "\n",
    "for things in letters_p:\n",
    "    df['name'] = df['name'].str.replace(things, 'p').str.title()\n",
    "    players['name'] = players['name'].str.replace(things, 'p').str.title()\n",
    "\n",
    "for things in letters_b:\n",
    "    df['name'] = df['name'].str.replace(things, 'b').str.title()\n",
    "    players['name'] = players['name'].str.replace(things, 'b').str.title()\n",
    "\n",
    "for things in letters_y:\n",
    "    df['name'] = df['name'].str.replace(things, 'y').str.title()\n",
    "    players['name'] = players['name'].str.replace(things, 'y').str.title()\n",
    "\n",
    "for things in letters_d:\n",
    "    df['name'] = df['name'].str.replace(things, 'd').str.title()\n",
    "    players['name'] = players['name'].str.replace(things, 'd').str.title()\n",
    "\n",
    "for things in letters_g:\n",
    "    df['name'] = df['name'].str.replace(things, 'g').str.title()\n",
    "    players['name'] = players['name'].str.replace(things, 'g').str.title()\n",
    "\n",
    "for things in letters_k:\n",
    "    df['name'] = df['name'].str.replace(things, 'k').str.title()\n",
    "    players['name'] = players['name'].str.replace(things, 'k').str.title()\n",
    "\n",
    "for things in letters_l:\n",
    "    df['name'] = df['name'].str.replace(things, 'l').str.title()\n",
    "    players['name'] = players['name'].str.replace(things, 'l').str.title()\n",
    "\n",
    "for things in letters_r:\n",
    "    df['name'] = df['name'].str.replace(things, 'r').str.title()\n",
    "    players['name'] = players['name'].str.replace(things, 'r').str.title()\n",
    "\n",
    "for things in letters_s:\n",
    "    df['name'] = df['name'].str.replace(things, 's').str.title()\n",
    "    players['name'] = players['name'].str.replace(things, 's').str.title()\n",
    "\n",
    "for things in letters_z:\n",
    "    df['name'] = df['name'].str.replace(things, 'z').str.title()\n",
    "    players['name'] = players['name'].str.replace(things, 'z').str.title()\n",
    "\n",
    "for things in letters_t:\n",
    "    df['name'] = df['name'].str.replace(things, 't').str.title()\n",
    "    players['name'] = players['name'].str.replace(things, 't').str.title()"
   ],
   "metadata": {
    "collapsed": false
   }
  },
  {
   "cell_type": "code",
   "execution_count": 15,
   "outputs": [],
   "source": [
    "## Lets find out how 'good' the join is\n",
    "## First, I only want to use players that have played in the last 2 seasons\n",
    "\n",
    "players_season = players[(players['last_season'] == 2022) | (players['last_season'] == 2021)].copy()"
   ],
   "metadata": {
    "collapsed": false
   }
  },
  {
   "cell_type": "code",
   "execution_count": 17,
   "outputs": [
    {
     "data": {
      "text/plain": "    player_id               name  current_club_id     current_club_name  \\\n0      815359       Lenny Joseph              347               Fc Metz   \n1      857148     Mamadou Camara             1095          Es Troyes Ac   \n2      857148     Mamadou Camara             1095          Es Troyes Ac   \n3      905408     Mamadou Camara              826               Rc Lens   \n4      905408     Mamadou Camara              826               Rc Lens   \n5      334998         Robin Kehr               65  Spvgg Greuther Furth   \n6      648579       Adama Fofana              443        Vejle Boldklub   \n7      306382    Benjamin Tetteh            19789      Yeni Malatyaspor   \n8      331089      Stevie Mallan            19789      Yeni Malatyaspor   \n9      210081       Didier Ndong            19789      Yeni Malatyaspor   \n10     292174       Gaston Campi            19789      Yeni Malatyaspor   \n11     191407    Oussama Haddadi            19789      Yeni Malatyaspor   \n12     225335            Wallace            19789      Yeni Malatyaspor   \n13     308278          Rey Manaj             3522         Spezia Calcio   \n14     459661      Eddie Salcedo             3522         Spezia Calcio   \n15     538974      Janis Antiste             3522         Spezia Calcio   \n16     482836      David Strelec             3522         Spezia Calcio   \n17     344595  Aurelien Nguiamba             3522         Spezia Calcio   \n18     287367       Luca Vignali             3522         Spezia Calcio   \n19     372809      Petko Hristov             3522         Spezia Calcio   \n\n   country_of_citizenship country_of_birth     city_of_birth date_of_birth  \\\n0                  France           France           Paris      2000-10-12   \n1                  France           France   Aubervilliers      2001-02-07   \n2                  France           France   Aubervilliers      2001-02-07   \n3                 Senegal          Senegal           Dakar      2002-10-15   \n4                 Senegal          Senegal           Dakar      2002-10-15   \n5                 Germany          Germany       Pinneberg      2000-02-22   \n6           Cote d'Ivoire    Cote d'Ivoire           Abobo      2001-01-04   \n7                   Ghana            Ghana           Accra      1997-07-10   \n8                Scotland         Scotland         Glasgow      1996-03-25   \n9                   Gabon            Gabon       Lambaréné      1994-06-17   \n10              Argentina        Argentina           Lanús      1991-04-06   \n11                Tunisia          Tunisia           Tunis      1992-01-28   \n12                 Brazil           Brazil  Rio de Janeiro      1994-10-14   \n13                Albania          Albania         Lushnjë      1997-02-24   \n14                  Italy            Italy          Genova      2001-10-01   \n15                 France           France        Toulouse      2002-08-18   \n16               Slovakia         Slovakia      Nové Zámky      2001-04-04   \n17                 France           France          Colmar      1999-01-18   \n18                  Italy            Italy       La Spezia      1996-01-11   \n19               Bulgaria         Bulgaria           Sofia      1999-03-01   \n\n    position        sub_position  ... Weight  Age  Preferred Foot  \\\n0     Attack      Centre-Forward  ...     73   22           Right   \n1     Attack      Centre-Forward  ...     71   22           Right   \n2     Attack      Centre-Forward  ...     75   20            Left   \n3   Midfield    Central Midfield  ...     71   22           Right   \n4   Midfield    Central Midfield  ...     75   20            Left   \n5     Attack      Centre-Forward  ...     81   23            Left   \n6     Attack        Right Winger  ...     63   23            Left   \n7     Attack      Centre-Forward  ...     91   25           Right   \n8   Midfield    Central Midfield  ...     69   26           Right   \n9   Midfield    Central Midfield  ...     75   28           Right   \n10  Defender         Centre-Back  ...     83   31            Left   \n11  Defender         Centre-Back  ...     76   31            Left   \n12  Defender         Centre-Back  ...     85   28           Right   \n13    Attack      Centre-Forward  ...     76   26           Right   \n14    Attack      Centre-Forward  ...     74   21           Right   \n15    Attack      Centre-Forward  ...     77   20           Right   \n16    Attack      Centre-Forward  ...     75   21            Left   \n17  Midfield  Defensive Midfield  ...     73   24            Left   \n18  Defender          Right-Back  ...     75   27           Right   \n19  Defender         Centre-Back  ...     85   24           Right   \n\n    Ball Skills Defence     Mental    Passing   Physical Shooting Goalkeeping  \n0          60.0    15.0  45.166667  51.000000  67.142857   59.125        10.8  \n1          62.0    22.0  40.666667  48.666667  61.714286   55.375        10.6  \n2          62.0    56.5  56.666667  57.666667  50.000000   42.000         8.6  \n3          62.0    22.0  40.666667  48.666667  61.714286   55.375        10.6  \n4          62.0    56.5  56.666667  57.666667  50.000000   42.000         8.6  \n5          62.5    24.0  43.666667  54.666667  70.857143   52.375        11.0  \n6          62.0    61.0  55.000000  54.333333  71.714286   43.000         7.8  \n7          72.5    25.5  59.833333  58.333333  71.571429   61.750         9.4  \n8          63.5    60.5  61.333333  66.333333  67.857143   63.500         8.0  \n9          65.0    63.0  67.000000  67.333333  74.428571   59.125        12.2  \n10         65.5    68.0  65.000000  61.333333  47.142857   49.625        10.2  \n11         62.0    69.0  63.833333  62.666667  67.142857   45.250         9.8  \n12         48.5    71.0  58.000000  47.666667  63.571429   38.250        11.6  \n13         72.0    17.5  56.000000  52.333333  67.714286   65.000         9.4  \n14         77.5    33.5  52.666667  61.333333  71.000000   58.625         9.4  \n15         70.0    14.5  48.000000  47.666667  69.285714   62.375        11.8  \n16         64.5    30.0  53.666667  51.333333  56.714286   57.375         9.6  \n17         62.0    58.5  61.833333  59.666667  67.571429   45.500        10.4  \n18         65.0    64.5  61.666667  63.666667  68.857143   57.625         9.6  \n19         38.0    71.5  54.666667  41.000000  51.428571   39.125         9.4  \n\n[20 rows x 38 columns]",
      "text/html": "<div>\n<style scoped>\n    .dataframe tbody tr th:only-of-type {\n        vertical-align: middle;\n    }\n\n    .dataframe tbody tr th {\n        vertical-align: top;\n    }\n\n    .dataframe thead th {\n        text-align: right;\n    }\n</style>\n<table border=\"1\" class=\"dataframe\">\n  <thead>\n    <tr style=\"text-align: right;\">\n      <th></th>\n      <th>player_id</th>\n      <th>name</th>\n      <th>current_club_id</th>\n      <th>current_club_name</th>\n      <th>country_of_citizenship</th>\n      <th>country_of_birth</th>\n      <th>city_of_birth</th>\n      <th>date_of_birth</th>\n      <th>position</th>\n      <th>sub_position</th>\n      <th>...</th>\n      <th>Weight</th>\n      <th>Age</th>\n      <th>Preferred Foot</th>\n      <th>Ball Skills</th>\n      <th>Defence</th>\n      <th>Mental</th>\n      <th>Passing</th>\n      <th>Physical</th>\n      <th>Shooting</th>\n      <th>Goalkeeping</th>\n    </tr>\n  </thead>\n  <tbody>\n    <tr>\n      <th>0</th>\n      <td>815359</td>\n      <td>Lenny Joseph</td>\n      <td>347</td>\n      <td>Fc Metz</td>\n      <td>France</td>\n      <td>France</td>\n      <td>Paris</td>\n      <td>2000-10-12</td>\n      <td>Attack</td>\n      <td>Centre-Forward</td>\n      <td>...</td>\n      <td>73</td>\n      <td>22</td>\n      <td>Right</td>\n      <td>60.0</td>\n      <td>15.0</td>\n      <td>45.166667</td>\n      <td>51.000000</td>\n      <td>67.142857</td>\n      <td>59.125</td>\n      <td>10.8</td>\n    </tr>\n    <tr>\n      <th>1</th>\n      <td>857148</td>\n      <td>Mamadou Camara</td>\n      <td>1095</td>\n      <td>Es Troyes Ac</td>\n      <td>France</td>\n      <td>France</td>\n      <td>Aubervilliers</td>\n      <td>2001-02-07</td>\n      <td>Attack</td>\n      <td>Centre-Forward</td>\n      <td>...</td>\n      <td>71</td>\n      <td>22</td>\n      <td>Right</td>\n      <td>62.0</td>\n      <td>22.0</td>\n      <td>40.666667</td>\n      <td>48.666667</td>\n      <td>61.714286</td>\n      <td>55.375</td>\n      <td>10.6</td>\n    </tr>\n    <tr>\n      <th>2</th>\n      <td>857148</td>\n      <td>Mamadou Camara</td>\n      <td>1095</td>\n      <td>Es Troyes Ac</td>\n      <td>France</td>\n      <td>France</td>\n      <td>Aubervilliers</td>\n      <td>2001-02-07</td>\n      <td>Attack</td>\n      <td>Centre-Forward</td>\n      <td>...</td>\n      <td>75</td>\n      <td>20</td>\n      <td>Left</td>\n      <td>62.0</td>\n      <td>56.5</td>\n      <td>56.666667</td>\n      <td>57.666667</td>\n      <td>50.000000</td>\n      <td>42.000</td>\n      <td>8.6</td>\n    </tr>\n    <tr>\n      <th>3</th>\n      <td>905408</td>\n      <td>Mamadou Camara</td>\n      <td>826</td>\n      <td>Rc Lens</td>\n      <td>Senegal</td>\n      <td>Senegal</td>\n      <td>Dakar</td>\n      <td>2002-10-15</td>\n      <td>Midfield</td>\n      <td>Central Midfield</td>\n      <td>...</td>\n      <td>71</td>\n      <td>22</td>\n      <td>Right</td>\n      <td>62.0</td>\n      <td>22.0</td>\n      <td>40.666667</td>\n      <td>48.666667</td>\n      <td>61.714286</td>\n      <td>55.375</td>\n      <td>10.6</td>\n    </tr>\n    <tr>\n      <th>4</th>\n      <td>905408</td>\n      <td>Mamadou Camara</td>\n      <td>826</td>\n      <td>Rc Lens</td>\n      <td>Senegal</td>\n      <td>Senegal</td>\n      <td>Dakar</td>\n      <td>2002-10-15</td>\n      <td>Midfield</td>\n      <td>Central Midfield</td>\n      <td>...</td>\n      <td>75</td>\n      <td>20</td>\n      <td>Left</td>\n      <td>62.0</td>\n      <td>56.5</td>\n      <td>56.666667</td>\n      <td>57.666667</td>\n      <td>50.000000</td>\n      <td>42.000</td>\n      <td>8.6</td>\n    </tr>\n    <tr>\n      <th>5</th>\n      <td>334998</td>\n      <td>Robin Kehr</td>\n      <td>65</td>\n      <td>Spvgg Greuther Furth</td>\n      <td>Germany</td>\n      <td>Germany</td>\n      <td>Pinneberg</td>\n      <td>2000-02-22</td>\n      <td>Attack</td>\n      <td>Centre-Forward</td>\n      <td>...</td>\n      <td>81</td>\n      <td>23</td>\n      <td>Left</td>\n      <td>62.5</td>\n      <td>24.0</td>\n      <td>43.666667</td>\n      <td>54.666667</td>\n      <td>70.857143</td>\n      <td>52.375</td>\n      <td>11.0</td>\n    </tr>\n    <tr>\n      <th>6</th>\n      <td>648579</td>\n      <td>Adama Fofana</td>\n      <td>443</td>\n      <td>Vejle Boldklub</td>\n      <td>Cote d'Ivoire</td>\n      <td>Cote d'Ivoire</td>\n      <td>Abobo</td>\n      <td>2001-01-04</td>\n      <td>Attack</td>\n      <td>Right Winger</td>\n      <td>...</td>\n      <td>63</td>\n      <td>23</td>\n      <td>Left</td>\n      <td>62.0</td>\n      <td>61.0</td>\n      <td>55.000000</td>\n      <td>54.333333</td>\n      <td>71.714286</td>\n      <td>43.000</td>\n      <td>7.8</td>\n    </tr>\n    <tr>\n      <th>7</th>\n      <td>306382</td>\n      <td>Benjamin Tetteh</td>\n      <td>19789</td>\n      <td>Yeni Malatyaspor</td>\n      <td>Ghana</td>\n      <td>Ghana</td>\n      <td>Accra</td>\n      <td>1997-07-10</td>\n      <td>Attack</td>\n      <td>Centre-Forward</td>\n      <td>...</td>\n      <td>91</td>\n      <td>25</td>\n      <td>Right</td>\n      <td>72.5</td>\n      <td>25.5</td>\n      <td>59.833333</td>\n      <td>58.333333</td>\n      <td>71.571429</td>\n      <td>61.750</td>\n      <td>9.4</td>\n    </tr>\n    <tr>\n      <th>8</th>\n      <td>331089</td>\n      <td>Stevie Mallan</td>\n      <td>19789</td>\n      <td>Yeni Malatyaspor</td>\n      <td>Scotland</td>\n      <td>Scotland</td>\n      <td>Glasgow</td>\n      <td>1996-03-25</td>\n      <td>Midfield</td>\n      <td>Central Midfield</td>\n      <td>...</td>\n      <td>69</td>\n      <td>26</td>\n      <td>Right</td>\n      <td>63.5</td>\n      <td>60.5</td>\n      <td>61.333333</td>\n      <td>66.333333</td>\n      <td>67.857143</td>\n      <td>63.500</td>\n      <td>8.0</td>\n    </tr>\n    <tr>\n      <th>9</th>\n      <td>210081</td>\n      <td>Didier Ndong</td>\n      <td>19789</td>\n      <td>Yeni Malatyaspor</td>\n      <td>Gabon</td>\n      <td>Gabon</td>\n      <td>Lambaréné</td>\n      <td>1994-06-17</td>\n      <td>Midfield</td>\n      <td>Central Midfield</td>\n      <td>...</td>\n      <td>75</td>\n      <td>28</td>\n      <td>Right</td>\n      <td>65.0</td>\n      <td>63.0</td>\n      <td>67.000000</td>\n      <td>67.333333</td>\n      <td>74.428571</td>\n      <td>59.125</td>\n      <td>12.2</td>\n    </tr>\n    <tr>\n      <th>10</th>\n      <td>292174</td>\n      <td>Gaston Campi</td>\n      <td>19789</td>\n      <td>Yeni Malatyaspor</td>\n      <td>Argentina</td>\n      <td>Argentina</td>\n      <td>Lanús</td>\n      <td>1991-04-06</td>\n      <td>Defender</td>\n      <td>Centre-Back</td>\n      <td>...</td>\n      <td>83</td>\n      <td>31</td>\n      <td>Left</td>\n      <td>65.5</td>\n      <td>68.0</td>\n      <td>65.000000</td>\n      <td>61.333333</td>\n      <td>47.142857</td>\n      <td>49.625</td>\n      <td>10.2</td>\n    </tr>\n    <tr>\n      <th>11</th>\n      <td>191407</td>\n      <td>Oussama Haddadi</td>\n      <td>19789</td>\n      <td>Yeni Malatyaspor</td>\n      <td>Tunisia</td>\n      <td>Tunisia</td>\n      <td>Tunis</td>\n      <td>1992-01-28</td>\n      <td>Defender</td>\n      <td>Centre-Back</td>\n      <td>...</td>\n      <td>76</td>\n      <td>31</td>\n      <td>Left</td>\n      <td>62.0</td>\n      <td>69.0</td>\n      <td>63.833333</td>\n      <td>62.666667</td>\n      <td>67.142857</td>\n      <td>45.250</td>\n      <td>9.8</td>\n    </tr>\n    <tr>\n      <th>12</th>\n      <td>225335</td>\n      <td>Wallace</td>\n      <td>19789</td>\n      <td>Yeni Malatyaspor</td>\n      <td>Brazil</td>\n      <td>Brazil</td>\n      <td>Rio de Janeiro</td>\n      <td>1994-10-14</td>\n      <td>Defender</td>\n      <td>Centre-Back</td>\n      <td>...</td>\n      <td>85</td>\n      <td>28</td>\n      <td>Right</td>\n      <td>48.5</td>\n      <td>71.0</td>\n      <td>58.000000</td>\n      <td>47.666667</td>\n      <td>63.571429</td>\n      <td>38.250</td>\n      <td>11.6</td>\n    </tr>\n    <tr>\n      <th>13</th>\n      <td>308278</td>\n      <td>Rey Manaj</td>\n      <td>3522</td>\n      <td>Spezia Calcio</td>\n      <td>Albania</td>\n      <td>Albania</td>\n      <td>Lushnjë</td>\n      <td>1997-02-24</td>\n      <td>Attack</td>\n      <td>Centre-Forward</td>\n      <td>...</td>\n      <td>76</td>\n      <td>26</td>\n      <td>Right</td>\n      <td>72.0</td>\n      <td>17.5</td>\n      <td>56.000000</td>\n      <td>52.333333</td>\n      <td>67.714286</td>\n      <td>65.000</td>\n      <td>9.4</td>\n    </tr>\n    <tr>\n      <th>14</th>\n      <td>459661</td>\n      <td>Eddie Salcedo</td>\n      <td>3522</td>\n      <td>Spezia Calcio</td>\n      <td>Italy</td>\n      <td>Italy</td>\n      <td>Genova</td>\n      <td>2001-10-01</td>\n      <td>Attack</td>\n      <td>Centre-Forward</td>\n      <td>...</td>\n      <td>74</td>\n      <td>21</td>\n      <td>Right</td>\n      <td>77.5</td>\n      <td>33.5</td>\n      <td>52.666667</td>\n      <td>61.333333</td>\n      <td>71.000000</td>\n      <td>58.625</td>\n      <td>9.4</td>\n    </tr>\n    <tr>\n      <th>15</th>\n      <td>538974</td>\n      <td>Janis Antiste</td>\n      <td>3522</td>\n      <td>Spezia Calcio</td>\n      <td>France</td>\n      <td>France</td>\n      <td>Toulouse</td>\n      <td>2002-08-18</td>\n      <td>Attack</td>\n      <td>Centre-Forward</td>\n      <td>...</td>\n      <td>77</td>\n      <td>20</td>\n      <td>Right</td>\n      <td>70.0</td>\n      <td>14.5</td>\n      <td>48.000000</td>\n      <td>47.666667</td>\n      <td>69.285714</td>\n      <td>62.375</td>\n      <td>11.8</td>\n    </tr>\n    <tr>\n      <th>16</th>\n      <td>482836</td>\n      <td>David Strelec</td>\n      <td>3522</td>\n      <td>Spezia Calcio</td>\n      <td>Slovakia</td>\n      <td>Slovakia</td>\n      <td>Nové Zámky</td>\n      <td>2001-04-04</td>\n      <td>Attack</td>\n      <td>Centre-Forward</td>\n      <td>...</td>\n      <td>75</td>\n      <td>21</td>\n      <td>Left</td>\n      <td>64.5</td>\n      <td>30.0</td>\n      <td>53.666667</td>\n      <td>51.333333</td>\n      <td>56.714286</td>\n      <td>57.375</td>\n      <td>9.6</td>\n    </tr>\n    <tr>\n      <th>17</th>\n      <td>344595</td>\n      <td>Aurelien Nguiamba</td>\n      <td>3522</td>\n      <td>Spezia Calcio</td>\n      <td>France</td>\n      <td>France</td>\n      <td>Colmar</td>\n      <td>1999-01-18</td>\n      <td>Midfield</td>\n      <td>Defensive Midfield</td>\n      <td>...</td>\n      <td>73</td>\n      <td>24</td>\n      <td>Left</td>\n      <td>62.0</td>\n      <td>58.5</td>\n      <td>61.833333</td>\n      <td>59.666667</td>\n      <td>67.571429</td>\n      <td>45.500</td>\n      <td>10.4</td>\n    </tr>\n    <tr>\n      <th>18</th>\n      <td>287367</td>\n      <td>Luca Vignali</td>\n      <td>3522</td>\n      <td>Spezia Calcio</td>\n      <td>Italy</td>\n      <td>Italy</td>\n      <td>La Spezia</td>\n      <td>1996-01-11</td>\n      <td>Defender</td>\n      <td>Right-Back</td>\n      <td>...</td>\n      <td>75</td>\n      <td>27</td>\n      <td>Right</td>\n      <td>65.0</td>\n      <td>64.5</td>\n      <td>61.666667</td>\n      <td>63.666667</td>\n      <td>68.857143</td>\n      <td>57.625</td>\n      <td>9.6</td>\n    </tr>\n    <tr>\n      <th>19</th>\n      <td>372809</td>\n      <td>Petko Hristov</td>\n      <td>3522</td>\n      <td>Spezia Calcio</td>\n      <td>Bulgaria</td>\n      <td>Bulgaria</td>\n      <td>Sofia</td>\n      <td>1999-03-01</td>\n      <td>Defender</td>\n      <td>Centre-Back</td>\n      <td>...</td>\n      <td>85</td>\n      <td>24</td>\n      <td>Right</td>\n      <td>38.0</td>\n      <td>71.5</td>\n      <td>54.666667</td>\n      <td>41.000000</td>\n      <td>51.428571</td>\n      <td>39.125</td>\n      <td>9.4</td>\n    </tr>\n  </tbody>\n</table>\n<p>20 rows × 38 columns</p>\n</div>"
     },
     "execution_count": 17,
     "metadata": {},
     "output_type": "execute_result"
    }
   ],
   "source": [
    "## The merge\n",
    "\n",
    "merged = pd.merge(players_season, df, on='name', how='inner')\n",
    "merged.head(20)"
   ],
   "metadata": {
    "collapsed": false
   }
  },
  {
   "cell_type": "code",
   "execution_count": 21,
   "outputs": [
    {
     "data": {
      "text/plain": "6350"
     },
     "execution_count": 21,
     "metadata": {},
     "output_type": "execute_result"
    }
   ],
   "source": [
    "len(merged)"
   ],
   "metadata": {
    "collapsed": false
   }
  },
  {
   "cell_type": "code",
   "execution_count": 19,
   "outputs": [],
   "source": [
    "## It seems like the join created columns with inaccurate information\n",
    "## For example, Mamadou Camara have 4 rows, we know that there are only 2 rows with the correct information\n",
    "## However, currently, I cannot fix this because I do not know which rows contain the right information"
   ],
   "metadata": {
    "collapsed": false
   }
  },
  {
   "cell_type": "code",
   "execution_count": 20,
   "outputs": [],
   "source": [
    "## Moving on, I want to do names matching\n",
    "## First, I create 2 list of names not included in the merged dataframe\n",
    "\n",
    "not_included_df = []\n",
    "for name in df.name:\n",
    "    if name not in list(merged.name):\n",
    "        not_included_df.append(name)\n",
    "\n",
    "not_included_ps = []\n",
    "for name in players_season.name:\n",
    "    if name not in list(merged.name):\n",
    "        not_included_ps.append(name)"
   ],
   "metadata": {
    "collapsed": false
   }
  },
  {
   "cell_type": "code",
   "execution_count": 22,
   "outputs": [],
   "source": [
    "## A for loop replacing the names\n",
    "## There are surely better ways, but this was what I could come up with\n",
    "\n",
    "for names1 in not_included_df:\n",
    "    set1 = set(names1.lower().split())\n",
    "    for names2 in not_included_ps:\n",
    "        set2 = set(names2.lower().split())\n",
    "        if set1.intersection(set2) == set1:\n",
    "            df.replace(names1, names2, inplace = True)\n",
    "        elif set2.intersection(set1) == set2:\n",
    "            players_season.replace(names2, names1, inplace= True)"
   ],
   "metadata": {
    "collapsed": false
   }
  },
  {
   "cell_type": "code",
   "execution_count": 24,
   "outputs": [
    {
     "data": {
      "text/plain": "6830"
     },
     "execution_count": 24,
     "metadata": {},
     "output_type": "execute_result"
    }
   ],
   "source": [
    "merged = pd.merge(players_season, df, on = 'name', how = 'inner')\n",
    "len(merged)"
   ],
   "metadata": {
    "collapsed": false
   }
  },
  {
   "cell_type": "code",
   "execution_count": 25,
   "outputs": [],
   "source": [
    "## The number of rows increased\n",
    "## The above may have induced a few problems such as the ones I mentioned above\n",
    "## As the number of 'problematic rows' is low compared to the total size of the dataframe, I used the merged dataframe for my project\n",
    "## However, I did adjust some issues during the modelling"
   ],
   "metadata": {
    "collapsed": false
   }
  },
  {
   "cell_type": "code",
   "execution_count": 26,
   "outputs": [
    {
     "data": {
      "text/plain": "      player_id              name  current_club_id current_club_name  \\\n0        815359      Lenny Joseph              347           Fc Metz   \n1        857148    Mamadou Camara             1095      Es Troyes Ac   \n2        857148    Mamadou Camara             1095      Es Troyes Ac   \n3        905408    Mamadou Camara              826           Rc Lens   \n4        905408    Mamadou Camara              826           Rc Lens   \n...         ...               ...              ...               ...   \n6825     354482   Michael Murillo               58    Rsc Anderlecht   \n6826     360140   Majeed Ashimeru               58    Rsc Anderlecht   \n6827     464067     Lucas Lissens               58    Rsc Anderlecht   \n6828     454336  Killian Sardella               58    Rsc Anderlecht   \n6829     502302  Yari Verschaeren               58    Rsc Anderlecht   \n\n     country_of_citizenship country_of_birth    city_of_birth date_of_birth  \\\n0                    France           France          Paris      2000-10-12   \n1                    France           France  Aubervilliers      2001-02-07   \n2                    France           France  Aubervilliers      2001-02-07   \n3                   Senegal          Senegal          Dakar      2002-10-15   \n4                   Senegal          Senegal          Dakar      2002-10-15   \n...                     ...              ...              ...           ...   \n6825                 Panama           Panama          Colón      1996-02-11   \n6826                  Ghana            Ghana          Accra      1997-10-10   \n6827                Belgium          Belgium           Gent      2001-07-25   \n6828                Belgium              NaN              NaN    2002-05-02   \n6829                Belgium          Belgium   Sint-Niklaas      2001-07-12   \n\n      position        sub_position  ... Weight  Age  Preferred Foot  \\\n0       Attack      Centre-Forward  ...     73   22           Right   \n1       Attack      Centre-Forward  ...     71   22           Right   \n2       Attack      Centre-Forward  ...     75   20            Left   \n3     Midfield    Central Midfield  ...     71   22           Right   \n4     Midfield    Central Midfield  ...     75   20            Left   \n...        ...                 ...  ...    ...  ...             ...   \n6825  Defender          Right-Back  ...     75   27           Right   \n6826  Midfield    Central Midfield  ...     72   25           Right   \n6827  Defender         Centre-Back  ...     74   21           Right   \n6828  Defender          Right-Back  ...     64   20           Right   \n6829    Attack  Attacking Midfield  ...     63   21           Right   \n\n      Ball Skills Defence     Mental    Passing   Physical Shooting  \\\n0            60.0    15.0  45.166667  51.000000  67.142857   59.125   \n1            62.0    22.0  40.666667  48.666667  61.714286   55.375   \n2            62.0    56.5  56.666667  57.666667  50.000000   42.000   \n3            62.0    22.0  40.666667  48.666667  61.714286   55.375   \n4            62.0    56.5  56.666667  57.666667  50.000000   42.000   \n...           ...     ...        ...        ...        ...      ...   \n6825         68.0    71.5  70.166667  66.666667  76.857143   57.000   \n6826         75.0    65.5  67.333333  72.000000  71.857143   58.750   \n6827         55.0    65.0  49.500000  55.666667  65.428571   33.375   \n6828         71.0    64.0  55.666667  66.000000  70.000000   42.500   \n6829         78.0    41.5  60.000000  71.666667  70.000000   65.375   \n\n     Goalkeeping  \n0           10.8  \n1           10.6  \n2            8.6  \n3           10.6  \n4            8.6  \n...          ...  \n6825        11.4  \n6826        11.8  \n6827        11.6  \n6828         9.2  \n6829        10.0  \n\n[6830 rows x 38 columns]",
      "text/html": "<div>\n<style scoped>\n    .dataframe tbody tr th:only-of-type {\n        vertical-align: middle;\n    }\n\n    .dataframe tbody tr th {\n        vertical-align: top;\n    }\n\n    .dataframe thead th {\n        text-align: right;\n    }\n</style>\n<table border=\"1\" class=\"dataframe\">\n  <thead>\n    <tr style=\"text-align: right;\">\n      <th></th>\n      <th>player_id</th>\n      <th>name</th>\n      <th>current_club_id</th>\n      <th>current_club_name</th>\n      <th>country_of_citizenship</th>\n      <th>country_of_birth</th>\n      <th>city_of_birth</th>\n      <th>date_of_birth</th>\n      <th>position</th>\n      <th>sub_position</th>\n      <th>...</th>\n      <th>Weight</th>\n      <th>Age</th>\n      <th>Preferred Foot</th>\n      <th>Ball Skills</th>\n      <th>Defence</th>\n      <th>Mental</th>\n      <th>Passing</th>\n      <th>Physical</th>\n      <th>Shooting</th>\n      <th>Goalkeeping</th>\n    </tr>\n  </thead>\n  <tbody>\n    <tr>\n      <th>0</th>\n      <td>815359</td>\n      <td>Lenny Joseph</td>\n      <td>347</td>\n      <td>Fc Metz</td>\n      <td>France</td>\n      <td>France</td>\n      <td>Paris</td>\n      <td>2000-10-12</td>\n      <td>Attack</td>\n      <td>Centre-Forward</td>\n      <td>...</td>\n      <td>73</td>\n      <td>22</td>\n      <td>Right</td>\n      <td>60.0</td>\n      <td>15.0</td>\n      <td>45.166667</td>\n      <td>51.000000</td>\n      <td>67.142857</td>\n      <td>59.125</td>\n      <td>10.8</td>\n    </tr>\n    <tr>\n      <th>1</th>\n      <td>857148</td>\n      <td>Mamadou Camara</td>\n      <td>1095</td>\n      <td>Es Troyes Ac</td>\n      <td>France</td>\n      <td>France</td>\n      <td>Aubervilliers</td>\n      <td>2001-02-07</td>\n      <td>Attack</td>\n      <td>Centre-Forward</td>\n      <td>...</td>\n      <td>71</td>\n      <td>22</td>\n      <td>Right</td>\n      <td>62.0</td>\n      <td>22.0</td>\n      <td>40.666667</td>\n      <td>48.666667</td>\n      <td>61.714286</td>\n      <td>55.375</td>\n      <td>10.6</td>\n    </tr>\n    <tr>\n      <th>2</th>\n      <td>857148</td>\n      <td>Mamadou Camara</td>\n      <td>1095</td>\n      <td>Es Troyes Ac</td>\n      <td>France</td>\n      <td>France</td>\n      <td>Aubervilliers</td>\n      <td>2001-02-07</td>\n      <td>Attack</td>\n      <td>Centre-Forward</td>\n      <td>...</td>\n      <td>75</td>\n      <td>20</td>\n      <td>Left</td>\n      <td>62.0</td>\n      <td>56.5</td>\n      <td>56.666667</td>\n      <td>57.666667</td>\n      <td>50.000000</td>\n      <td>42.000</td>\n      <td>8.6</td>\n    </tr>\n    <tr>\n      <th>3</th>\n      <td>905408</td>\n      <td>Mamadou Camara</td>\n      <td>826</td>\n      <td>Rc Lens</td>\n      <td>Senegal</td>\n      <td>Senegal</td>\n      <td>Dakar</td>\n      <td>2002-10-15</td>\n      <td>Midfield</td>\n      <td>Central Midfield</td>\n      <td>...</td>\n      <td>71</td>\n      <td>22</td>\n      <td>Right</td>\n      <td>62.0</td>\n      <td>22.0</td>\n      <td>40.666667</td>\n      <td>48.666667</td>\n      <td>61.714286</td>\n      <td>55.375</td>\n      <td>10.6</td>\n    </tr>\n    <tr>\n      <th>4</th>\n      <td>905408</td>\n      <td>Mamadou Camara</td>\n      <td>826</td>\n      <td>Rc Lens</td>\n      <td>Senegal</td>\n      <td>Senegal</td>\n      <td>Dakar</td>\n      <td>2002-10-15</td>\n      <td>Midfield</td>\n      <td>Central Midfield</td>\n      <td>...</td>\n      <td>75</td>\n      <td>20</td>\n      <td>Left</td>\n      <td>62.0</td>\n      <td>56.5</td>\n      <td>56.666667</td>\n      <td>57.666667</td>\n      <td>50.000000</td>\n      <td>42.000</td>\n      <td>8.6</td>\n    </tr>\n    <tr>\n      <th>...</th>\n      <td>...</td>\n      <td>...</td>\n      <td>...</td>\n      <td>...</td>\n      <td>...</td>\n      <td>...</td>\n      <td>...</td>\n      <td>...</td>\n      <td>...</td>\n      <td>...</td>\n      <td>...</td>\n      <td>...</td>\n      <td>...</td>\n      <td>...</td>\n      <td>...</td>\n      <td>...</td>\n      <td>...</td>\n      <td>...</td>\n      <td>...</td>\n      <td>...</td>\n      <td>...</td>\n    </tr>\n    <tr>\n      <th>6825</th>\n      <td>354482</td>\n      <td>Michael Murillo</td>\n      <td>58</td>\n      <td>Rsc Anderlecht</td>\n      <td>Panama</td>\n      <td>Panama</td>\n      <td>Colón</td>\n      <td>1996-02-11</td>\n      <td>Defender</td>\n      <td>Right-Back</td>\n      <td>...</td>\n      <td>75</td>\n      <td>27</td>\n      <td>Right</td>\n      <td>68.0</td>\n      <td>71.5</td>\n      <td>70.166667</td>\n      <td>66.666667</td>\n      <td>76.857143</td>\n      <td>57.000</td>\n      <td>11.4</td>\n    </tr>\n    <tr>\n      <th>6826</th>\n      <td>360140</td>\n      <td>Majeed Ashimeru</td>\n      <td>58</td>\n      <td>Rsc Anderlecht</td>\n      <td>Ghana</td>\n      <td>Ghana</td>\n      <td>Accra</td>\n      <td>1997-10-10</td>\n      <td>Midfield</td>\n      <td>Central Midfield</td>\n      <td>...</td>\n      <td>72</td>\n      <td>25</td>\n      <td>Right</td>\n      <td>75.0</td>\n      <td>65.5</td>\n      <td>67.333333</td>\n      <td>72.000000</td>\n      <td>71.857143</td>\n      <td>58.750</td>\n      <td>11.8</td>\n    </tr>\n    <tr>\n      <th>6827</th>\n      <td>464067</td>\n      <td>Lucas Lissens</td>\n      <td>58</td>\n      <td>Rsc Anderlecht</td>\n      <td>Belgium</td>\n      <td>Belgium</td>\n      <td>Gent</td>\n      <td>2001-07-25</td>\n      <td>Defender</td>\n      <td>Centre-Back</td>\n      <td>...</td>\n      <td>74</td>\n      <td>21</td>\n      <td>Right</td>\n      <td>55.0</td>\n      <td>65.0</td>\n      <td>49.500000</td>\n      <td>55.666667</td>\n      <td>65.428571</td>\n      <td>33.375</td>\n      <td>11.6</td>\n    </tr>\n    <tr>\n      <th>6828</th>\n      <td>454336</td>\n      <td>Killian Sardella</td>\n      <td>58</td>\n      <td>Rsc Anderlecht</td>\n      <td>Belgium</td>\n      <td>NaN</td>\n      <td>NaN</td>\n      <td>2002-05-02</td>\n      <td>Defender</td>\n      <td>Right-Back</td>\n      <td>...</td>\n      <td>64</td>\n      <td>20</td>\n      <td>Right</td>\n      <td>71.0</td>\n      <td>64.0</td>\n      <td>55.666667</td>\n      <td>66.000000</td>\n      <td>70.000000</td>\n      <td>42.500</td>\n      <td>9.2</td>\n    </tr>\n    <tr>\n      <th>6829</th>\n      <td>502302</td>\n      <td>Yari Verschaeren</td>\n      <td>58</td>\n      <td>Rsc Anderlecht</td>\n      <td>Belgium</td>\n      <td>Belgium</td>\n      <td>Sint-Niklaas</td>\n      <td>2001-07-12</td>\n      <td>Attack</td>\n      <td>Attacking Midfield</td>\n      <td>...</td>\n      <td>63</td>\n      <td>21</td>\n      <td>Right</td>\n      <td>78.0</td>\n      <td>41.5</td>\n      <td>60.000000</td>\n      <td>71.666667</td>\n      <td>70.000000</td>\n      <td>65.375</td>\n      <td>10.0</td>\n    </tr>\n  </tbody>\n</table>\n<p>6830 rows × 38 columns</p>\n</div>"
     },
     "execution_count": 26,
     "metadata": {},
     "output_type": "execute_result"
    }
   ],
   "source": [
    "merged"
   ],
   "metadata": {
    "collapsed": false
   }
  }
 ],
 "metadata": {
  "kernelspec": {
   "display_name": "Python 3",
   "language": "python",
   "name": "python3"
  },
  "language_info": {
   "codemirror_mode": {
    "name": "ipython",
    "version": 2
   },
   "file_extension": ".py",
   "mimetype": "text/x-python",
   "name": "python",
   "nbconvert_exporter": "python",
   "pygments_lexer": "ipython2",
   "version": "2.7.6"
  }
 },
 "nbformat": 4,
 "nbformat_minor": 0
}
